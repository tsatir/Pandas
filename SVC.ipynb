{
  "nbformat": 4,
  "nbformat_minor": 0,
  "metadata": {
    "colab": {
      "name": "SVC.ipynb",
      "provenance": [],
      "authorship_tag": "ABX9TyPR0LE1oVlgzSxq4qS81KLv",
      "include_colab_link": true
    },
    "kernelspec": {
      "name": "python3",
      "display_name": "Python 3"
    }
  },
  "cells": [
    {
      "cell_type": "markdown",
      "metadata": {
        "id": "view-in-github",
        "colab_type": "text"
      },
      "source": [
        "<a href=\"https://colab.research.google.com/github/tsatir/Thinkful-Data_Science/blob/master/SVC.ipynb\" target=\"_parent\"><img src=\"https://colab.research.google.com/assets/colab-badge.svg\" alt=\"Open In Colab\"/></a>"
      ]
    },
    {
      "cell_type": "markdown",
      "metadata": {
        "id": "zRZHiQkc2Yk1",
        "colab_type": "text"
      },
      "source": [
        "**SVC**\n",
        "\n",
        "\n",
        "\n",
        "* Cost function: tries to maximize the size of the margin, tries to minimize misclassification(the cumulative distance of points on the wrong side of margin) \n",
        "* X is the penalty for misclassifying a data point. \n",
        "    * When C is small -> High bias but low variance\n",
        "    * When C is large -> Low bias but high variance\n",
        "\n",
        "\n",
        "\n"
      ]
    },
    {
      "cell_type": "code",
      "metadata": {
        "id": "cB9sz-sJ2OP1",
        "colab_type": "code",
        "colab": {}
      },
      "source": [
        "import pandas as pd\n",
        "import numpy as np\n",
        "from sklearn.svm import SVC\n",
        "from sklearn.svm import LinearSVC\n",
        "from sklearn import datasets\n",
        "from sklearn.preprocessing import StandardScaler\n",
        "import matplotlib.pyplot as plt"
      ],
      "execution_count": 0,
      "outputs": []
    },
    {
      "cell_type": "code",
      "metadata": {
        "id": "Yf4dPxGK5rGj",
        "colab_type": "code",
        "colab": {}
      },
      "source": [
        "\n",
        "# Load data with only two classes and two features\n",
        "iris = datasets.load_iris()\n",
        "X = iris.data[:100,:2]\n",
        "Y = iris.target[:100]"
      ],
      "execution_count": 0,
      "outputs": []
    },
    {
      "cell_type": "code",
      "metadata": {
        "id": "I2w9P7AB5xP3",
        "colab_type": "code",
        "colab": {
          "base_uri": "https://localhost:8080/",
          "height": 102
        },
        "outputId": "335dd52c-4405-4324-a9b7-99a667f1022a"
      },
      "source": [
        "#Standardize Features\n",
        "\n",
        "scaler = StandardScaler()\n",
        "X_std = scaler.fit_transform(X)\n",
        "X[0:5]"
      ],
      "execution_count": 65,
      "outputs": [
        {
          "output_type": "execute_result",
          "data": {
            "text/plain": [
              "array([[5.1, 3.5],\n",
              "       [4.9, 3. ],\n",
              "       [4.7, 3.2],\n",
              "       [4.6, 3.1],\n",
              "       [5. , 3.6]])"
            ]
          },
          "metadata": {
            "tags": []
          },
          "execution_count": 65
        }
      ]
    },
    {
      "cell_type": "code",
      "metadata": {
        "id": "Oh34IFDl6HNs",
        "colab_type": "code",
        "colab": {}
      },
      "source": [
        "# Train Support Vector Classifier\n",
        "\n",
        "svc = LinearSVC(C=1, random_state = 0)\n",
        "\n",
        "# Train model\n",
        "\n",
        "model = svc.fit(X_std, Y)"
      ],
      "execution_count": 0,
      "outputs": []
    },
    {
      "cell_type": "code",
      "metadata": {
        "id": "S2wiRvJE8Ar-",
        "colab_type": "code",
        "colab": {}
      },
      "source": [
        "# Create new observations\n",
        "\n",
        "new_observation = [[-0.7, 1.1]]"
      ],
      "execution_count": 0,
      "outputs": []
    },
    {
      "cell_type": "code",
      "metadata": {
        "id": "NVcQ0Zlm8ibn",
        "colab_type": "code",
        "colab": {
          "base_uri": "https://localhost:8080/",
          "height": 34
        },
        "outputId": "e0d67c34-9f99-4509-af46-075fff8c650f"
      },
      "source": [
        "svc.predict(new_observation)"
      ],
      "execution_count": 70,
      "outputs": [
        {
          "output_type": "execute_result",
          "data": {
            "text/plain": [
              "array([0])"
            ]
          },
          "metadata": {
            "tags": []
          },
          "execution_count": 70
        }
      ]
    },
    {
      "cell_type": "code",
      "metadata": {
        "id": "dqJjuL739YNl",
        "colab_type": "code",
        "colab": {
          "base_uri": "https://localhost:8080/",
          "height": 102
        },
        "outputId": "9485bada-bcda-48ef-fbe5-27d2eda4354d"
      },
      "source": [
        "# View support vectors\n",
        "model.support_vectors_[0:5]"
      ],
      "execution_count": 53,
      "outputs": [
        {
          "output_type": "execute_result",
          "data": {
            "text/plain": [
              "array([[-0.90068117,  0.55861082, -1.16971425, -0.92054774],\n",
              "       [-1.62768839, -1.74335684, -1.39706395, -1.18381211],\n",
              "       [ 1.2803405 ,  0.09821729,  0.64908342,  0.3957741 ],\n",
              "       [ 0.79566902, -0.59237301,  0.47857113,  0.3957741 ],\n",
              "       [ 0.55333328,  0.55861082,  0.53540856,  0.52740629]])"
            ]
          },
          "metadata": {
            "tags": []
          },
          "execution_count": 53
        }
      ]
    },
    {
      "cell_type": "code",
      "metadata": {
        "id": "sR15ztuo-yGq",
        "colab_type": "code",
        "colab": {
          "base_uri": "https://localhost:8080/",
          "height": 34
        },
        "outputId": "66ec5125-f1cd-47e1-ad52-984b353e2c4a"
      },
      "source": [
        "#view number of support vectors for each class\n",
        "model.n_support_"
      ],
      "execution_count": 54,
      "outputs": [
        {
          "output_type": "execute_result",
          "data": {
            "text/plain": [
              "array([ 2, 15, 12], dtype=int32)"
            ]
          },
          "metadata": {
            "tags": []
          },
          "execution_count": 54
        }
      ]
    },
    {
      "cell_type": "code",
      "metadata": {
        "id": "NCmIl5Oo_FSB",
        "colab_type": "code",
        "colab": {
          "base_uri": "https://localhost:8080/",
          "height": 265
        },
        "outputId": "0fe74a16-aba0-4e9f-d05d-49ae4cb1f691"
      },
      "source": [
        "# Plot data points and color using their class\n",
        "color = ['black' if c == 0 else 'lightgrey' for c in Y]\n",
        "plt.scatter(X_std[:,0], X_std[:,1], c=color)\n",
        "\n",
        "# Create the hyperplane\n",
        "w = svc.coef_[0]\n",
        "a = -w[0] / w[1]\n",
        "xx = np.linspace(-2.5, 2.5)\n",
        "yy = a * xx - (svc.intercept_[0]) / w[1]\n",
        "\n",
        "# Plot the hyperplane\n",
        "plt.plot(xx, yy)\n",
        "plt.axis(\"off\"), plt.show()"
      ],
      "execution_count": 71,
      "outputs": [
        {
          "output_type": "display_data",
          "data": {
            "image/png": "[encoded data removed]",
            "text/plain": [
              "<Figure size 432x288 with 1 Axes>"
            ]
          },
          "metadata": {
            "tags": []
          }
        },
        {
          "output_type": "execute_result",
          "data": {
            "text/plain": [
              "((-2.75, 2.75, -3.535427832238496, 3.954153037793901), None)"
            ]
          },
          "metadata": {
            "tags": []
          },
          "execution_count": 71
        }
      ]
    },
    {
      "cell_type": "code",
      "metadata": {
        "id": "3mvWTlGZAjP2",
        "colab_type": "code",
        "colab": {}
      },
      "source": [
        ""
      ],
      "execution_count": 0,
      "outputs": []
    },
    {
      "cell_type": "markdown",
      "metadata": {
        "id": "xhwD-J2UBajQ",
        "colab_type": "text"
      },
      "source": [
        "# **SVC Parameters When Using RBF Kernel**"
      ]
    },
    {
      "cell_type": "code",
      "metadata": {
        "id": "q_ExuN5GB1Ts",
        "colab_type": "code",
        "colab": {}
      },
      "source": [
        "# Import packages to visualize the classifer\n",
        "from matplotlib.colors import ListedColormap\n",
        "import matplotlib.pyplot as plt\n",
        "import warnings\n",
        "\n",
        "# Import packages to do the classifying\n",
        "import numpy as np\n",
        "from sklearn.svm import SVC"
      ],
      "execution_count": 0,
      "outputs": []
    },
    {
      "cell_type": "code",
      "metadata": {
        "id": "eQIW-66vBerr",
        "colab_type": "code",
        "colab": {}
      },
      "source": [
        "def versiontuple(v):\n",
        "    return tuple(map(int, (v.split(\".\"))))\n",
        "\n",
        "\n",
        "def plot_decision_regions(X, y, classifier, test_idx=None, resolution=0.02):\n",
        "\n",
        "    # setup marker generator and color map\n",
        "    markers = ('s', 'x', 'o', '^', 'v')\n",
        "    colors = ('red', 'blue', 'lightgreen', 'gray', 'cyan')\n",
        "    cmap = ListedColormap(colors[:len(np.unique(y))])\n",
        "\n",
        "    # plot the decision surface\n",
        "    x1_min, x1_max = X[:, 0].min() - 1, X[:, 0].max() + 1\n",
        "    x2_min, x2_max = X[:, 1].min() - 1, X[:, 1].max() + 1\n",
        "    xx1, xx2 = np.meshgrid(np.arange(x1_min, x1_max, resolution),\n",
        "                           np.arange(x2_min, x2_max, resolution))\n",
        "    Z = classifier.predict(np.array([xx1.ravel(), xx2.ravel()]).T)\n",
        "    Z = Z.reshape(xx1.shape)\n",
        "    plt.contourf(xx1, xx2, Z, alpha=0.4, cmap=cmap)\n",
        "    plt.xlim(xx1.min(), xx1.max())\n",
        "    plt.ylim(xx2.min(), xx2.max())\n",
        "\n",
        "    for idx, cl in enumerate(np.unique(y)):\n",
        "        plt.scatter(x=X[y == cl, 0], y=X[y == cl, 1],\n",
        "                    alpha=0.8, c=cmap(idx),\n",
        "                    marker=markers[idx], label=cl)\n",
        "\n",
        "    # highlight test samples\n",
        "    if test_idx:\n",
        "        # plot all samples\n",
        "        if not versiontuple(np.__version__) >= versiontuple('1.9.0'):\n",
        "            X_test, y_test = X[list(test_idx), :], y[list(test_idx)]\n",
        "            warnings.warn('Please update to NumPy 1.9.0 or newer')\n",
        "        else:\n",
        "            X_test, y_test = X[test_idx, :], y[test_idx]\n",
        "\n",
        "        plt.scatter(X_test[:, 0],\n",
        "                    X_test[:, 1],\n",
        "                    c='',\n",
        "                    alpha=1.0,\n",
        "                    linewidths=1,\n",
        "                    marker='o',\n",
        "                    s=55, label='test set')"
      ],
      "execution_count": 0,
      "outputs": []
    },
    {
      "cell_type": "code",
      "metadata": {
        "id": "E6vIHxRcB2BO",
        "colab_type": "code",
        "colab": {}
      },
      "source": [
        ""
      ],
      "execution_count": 0,
      "outputs": []
    },
    {
      "cell_type": "markdown",
      "metadata": {
        "id": "Ln2RsCzhB5RO",
        "colab_type": "text"
      },
      "source": [
        "**Generate Data**"
      ]
    },
    {
      "cell_type": "code",
      "metadata": {
        "id": "wXYvqO2qB8Vg",
        "colab_type": "code",
        "colab": {
          "base_uri": "https://localhost:8080/",
          "height": 297
        },
        "outputId": "10e3292d-7077-4f43-92d5-9d44167cd48f"
      },
      "source": [
        "np.random.seed(0)\n",
        "X_xor = np.random.randn(200, 2)\n",
        "y_xor = np.logical_xor(X_xor[:, 0] > 0,\n",
        "                       X_xor[:, 1] > 0)\n",
        "y_xor = np.where(y_xor, 1, -1)\n",
        "\n",
        "plt.scatter(X_xor[y_xor == 1, 0],\n",
        "            X_xor[y_xor == 1, 1],\n",
        "            c='b', marker='x',\n",
        "            label='1')\n",
        "plt.scatter(X_xor[y_xor == -1, 0],\n",
        "            X_xor[y_xor == -1, 1],\n",
        "            c='r',\n",
        "            marker='s',\n",
        "            label='-1')\n",
        "\n",
        "plt.xlim([-3, 3])\n",
        "plt.ylim([-3, 3])\n",
        "plt.legend(loc='best')\n",
        "plt.tight_layout()\n",
        "plt.show()"
      ],
      "execution_count": 74,
      "outputs": [
        {
          "output_type": "display_data",
          "data": {
            "image/png": "[encoded data removed]",
            "text/plain": [
              "<Figure size 432x288 with 1 Axes>"
            ]
          },
          "metadata": {
            "tags": []
          }
        }
      ]
    },
    {
      "cell_type": "markdown",
      "metadata": {
        "id": "SnCuNZFSCSNH",
        "colab_type": "text"
      },
      "source": [
        "**Classify Using a RBF Kernel**\n",
        "\n",
        "SVC classifier using an RBF kernel has two parameters: gamma and C.\n",
        "\n",
        "- Gamma : Like spread of the kernel and therefore the decision region. When gamma is low, the curve of the decision boundary is low.\n",
        "- C: Penalty for misclassifying a data point. When C is small, the classifier is okay with misclassified data points(high bias, low variance). When C is large, the classifier is heavily penalized for misclassified data and therefore bends over backwards avoid any misclassified data points."
      ]
    },
    {
      "cell_type": "code",
      "metadata": {
        "id": "lTZvZ7k3C23d",
        "colab_type": "code",
        "colab": {}
      },
      "source": [
        ""
      ],
      "execution_count": 0,
      "outputs": []
    },
    {
      "cell_type": "markdown",
      "metadata": {
        "id": "3jM2gMlMC3_z",
        "colab_type": "text"
      },
      "source": [
        "**Gamma = 1.0**"
      ]
    },
    {
      "cell_type": "code",
      "metadata": {
        "id": "U4nGRZMZC963",
        "colab_type": "code",
        "colab": {
          "base_uri": "https://localhost:8080/",
          "height": 351
        },
        "outputId": "9c619589-c9ca-44a4-97ea-b85074242412"
      },
      "source": [
        "# Create a SVC classifier using an RBF kernel\n",
        "svm = SVC(kernel='rbf', random_state=0, gamma=1, C=1)\n",
        "# Train the classifier\n",
        "svm.fit(X_xor, y_xor)\n",
        "\n",
        "# Visualize the decision boundaries\n",
        "plot_decision_regions(X_xor, y_xor, classifier=svm)\n",
        "plt.legend(loc='upper left')\n",
        "plt.tight_layout()\n",
        "plt.show()"
      ],
      "execution_count": 75,
      "outputs": [
        {
          "output_type": "stream",
          "text": [
            "'c' argument looks like a single numeric RGB or RGBA sequence, which should be avoided as value-mapping will have precedence in case its length matches with 'x' & 'y'.  Please use a 2-D array with a single row if you really want to specify the same RGB or RGBA value for all points.\n",
            "'c' argument looks like a single numeric RGB or RGBA sequence, which should be avoided as value-mapping will have precedence in case its length matches with 'x' & 'y'.  Please use a 2-D array with a single row if you really want to specify the same RGB or RGBA value for all points.\n"
          ],
          "name": "stderr"
        },
        {
          "output_type": "display_data",
          "data": {
            "image/png": "[encoded data removed]",
            "text/plain": [
              "<Figure size 432x288 with 1 Axes>"
            ]
          },
          "metadata": {
            "tags": []
          }
        }
      ]
    },
    {
      "cell_type": "code",
      "metadata": {
        "id": "eNxlIGacDBB6",
        "colab_type": "code",
        "colab": {}
      },
      "source": [
        ""
      ],
      "execution_count": 0,
      "outputs": []
    },
    {
      "cell_type": "markdown",
      "metadata": {
        "id": "KkbZO6tkDCCM",
        "colab_type": "text"
      },
      "source": [
        "**Gamma = 100**"
      ]
    },
    {
      "cell_type": "code",
      "metadata": {
        "id": "ENG6sIJHDELJ",
        "colab_type": "code",
        "colab": {
          "base_uri": "https://localhost:8080/",
          "height": 351
        },
        "outputId": "7f1a489e-dcd8-4b4e-83db-ffe03f6958dd"
      },
      "source": [
        "# Create a SVC classifier using an RBF kernel\n",
        "svm = SVC(kernel='rbf', random_state=0, gamma=100, C=1)\n",
        "# Train the classifier\n",
        "svm.fit(X_xor, y_xor)\n",
        "\n",
        "# Visualize the decision boundaries\n",
        "plot_decision_regions(X_xor, y_xor, classifier=svm)\n",
        "plt.legend(loc='upper left')\n",
        "plt.tight_layout()\n",
        "plt.show()"
      ],
      "execution_count": 76,
      "outputs": [
        {
          "output_type": "stream",
          "text": [
            "'c' argument looks like a single numeric RGB or RGBA sequence, which should be avoided as value-mapping will have precedence in case its length matches with 'x' & 'y'.  Please use a 2-D array with a single row if you really want to specify the same RGB or RGBA value for all points.\n",
            "'c' argument looks like a single numeric RGB or RGBA sequence, which should be avoided as value-mapping will have precedence in case its length matches with 'x' & 'y'.  Please use a 2-D array with a single row if you really want to specify the same RGB or RGBA value for all points.\n"
          ],
          "name": "stderr"
        },
        {
          "output_type": "display_data",
          "data": {
            "image/png": "[encoded data removed]",
            "text/plain": [
              "<Figure size 432x288 with 1 Axes>"
            ]
          },
          "metadata": {
            "tags": []
          }
        }
      ]
    },
    {
      "cell_type": "code",
      "metadata": {
        "id": "Akn6ci3UDFO2",
        "colab_type": "code",
        "colab": {}
      },
      "source": [
        ""
      ],
      "execution_count": 0,
      "outputs": []
    },
    {
      "cell_type": "markdown",
      "metadata": {
        "id": "EeMjjrY0DJdO",
        "colab_type": "text"
      },
      "source": [
        "**C-Penalty Parameter**"
      ]
    },
    {
      "cell_type": "code",
      "metadata": {
        "id": "wu5bDTtmDNpa",
        "colab_type": "code",
        "colab": {
          "base_uri": "https://localhost:8080/",
          "height": 351
        },
        "outputId": "fd6267ae-69dd-45d5-9ae8-393bf1f0dd9d"
      },
      "source": [
        "# Create a SVC classifier using an RBF kernel\n",
        "svm = SVC(kernel='rbf', random_state=0, gamma=.01, C=100)\n",
        "# Train the classifier\n",
        "svm.fit(X_xor, y_xor)\n",
        "\n",
        "# Visualize the decision boundaries\n",
        "plot_decision_regions(X_xor, y_xor, classifier=svm)\n",
        "plt.legend(loc='upper left')\n",
        "plt.tight_layout()\n",
        "plt.show()"
      ],
      "execution_count": 78,
      "outputs": [
        {
          "output_type": "stream",
          "text": [
            "'c' argument looks like a single numeric RGB or RGBA sequence, which should be avoided as value-mapping will have precedence in case its length matches with 'x' & 'y'.  Please use a 2-D array with a single row if you really want to specify the same RGB or RGBA value for all points.\n",
            "'c' argument looks like a single numeric RGB or RGBA sequence, which should be avoided as value-mapping will have precedence in case its length matches with 'x' & 'y'.  Please use a 2-D array with a single row if you really want to specify the same RGB or RGBA value for all points.\n"
          ],
          "name": "stderr"
        },
        {
          "output_type": "display_data",
          "data": {
            "image/png": "[encoded data removed]",
            "text/plain": [
              "<Figure size 432x288 with 1 Axes>"
            ]
          },
          "metadata": {
            "tags": []
          }
        }
      ]
    },
    {
      "cell_type": "code",
      "metadata": {
        "id": "k-kV4HbADR3A",
        "colab_type": "code",
        "colab": {
          "base_uri": "https://localhost:8080/",
          "height": 351
        },
        "outputId": "32880008-e1bf-4c64-eba9-21bbaec396ee"
      },
      "source": [
        "# Create a SVC classifier using an RBF kernel\n",
        "svm = SVC(kernel='rbf', random_state=0, gamma=.01, C=1000)\n",
        "# Train the classifier\n",
        "svm.fit(X_xor, y_xor)\n",
        "\n",
        "# Visualize the decision boundaries\n",
        "plot_decision_regions(X_xor, y_xor, classifier=svm)\n",
        "plt.legend(loc='upper left')\n",
        "plt.tight_layout()\n",
        "plt.show()"
      ],
      "execution_count": 79,
      "outputs": [
        {
          "output_type": "stream",
          "text": [
            "'c' argument looks like a single numeric RGB or RGBA sequence, which should be avoided as value-mapping will have precedence in case its length matches with 'x' & 'y'.  Please use a 2-D array with a single row if you really want to specify the same RGB or RGBA value for all points.\n",
            "'c' argument looks like a single numeric RGB or RGBA sequence, which should be avoided as value-mapping will have precedence in case its length matches with 'x' & 'y'.  Please use a 2-D array with a single row if you really want to specify the same RGB or RGBA value for all points.\n"
          ],
          "name": "stderr"
        },
        {
          "output_type": "display_data",
          "data": {
            "image/png": "[encoded data removed]",
            "text/plain": [
              "<Figure size 432x288 with 1 Axes>"
            ]
          },
          "metadata": {
            "tags": []
          }
        }
      ]
    },
    {
      "cell_type": "markdown",
      "metadata": {
        "id": "pHaEEFb1DoIX",
        "colab_type": "text"
      },
      "source": [
        "At C = 10000, the classifier “works really hard” to not misclassify data points and we see signs of overfitting."
      ]
    },
    {
      "cell_type": "code",
      "metadata": {
        "id": "wWJYtKy9Dk5y",
        "colab_type": "code",
        "colab": {}
      },
      "source": [
        ""
      ],
      "execution_count": 0,
      "outputs": []
    }
  ]
}