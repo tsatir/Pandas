{
  "nbformat": 4,
  "nbformat_minor": 0,
  "metadata": {
    "colab": {
      "name": "space_news_webscraping.ipynb",
      "provenance": [],
      "collapsed_sections": [],
      "include_colab_link": true
    },
    "kernelspec": {
      "name": "python3",
      "display_name": "Python 3"
    }
  },
  "cells": [
    {
      "cell_type": "markdown",
      "metadata": {
        "id": "view-in-github",
        "colab_type": "text"
      },
      "source": [
        "<a href=\"https://colab.research.google.com/github/tsatir/Thinkful-Data_Science/blob/master/space_news_webscraping.ipynb\" target=\"_parent\"><img src=\"https://colab.research.google.com/assets/colab-badge.svg\" alt=\"Open In Colab\"/></a>"
      ]
    },
    {
      "cell_type": "code",
      "metadata": {
        "id": "D8ctR5T6Otxt",
        "colab_type": "code",
        "colab": {}
      },
      "source": [
        "import requests\n",
        "from bs4 import BeautifulSoup"
      ],
      "execution_count": 0,
      "outputs": []
    },
    {
      "cell_type": "markdown",
      "metadata": {
        "id": "TBu8OS3bXR9a",
        "colab_type": "text"
      },
      "source": [
        "Write a program to scrape news from the https://www.space.com/news web page. -retrieves the space.com news page, extracts the news stories, and prints out the headline, author, synopsis, and date and time for each story"
      ]
    },
    {
      "cell_type": "code",
      "metadata": {
        "id": "zYUHpX_qO1Gn",
        "colab_type": "code",
        "colab": {}
      },
      "source": [
        "url = 'https://www.space.com/news'\n",
        "response = requests.get(url)\n",
        "if(response.ok):\n",
        "  # get the full data from the response\n",
        "  data = response.text\n",
        "  soup = BeautifulSoup(data, 'html.parser')\n",
        "#print(soup.prettify())\n",
        "else:\n",
        "  print('bad request status code:{}'.format(response.status_code))\n"
      ],
      "execution_count": 0,
      "outputs": []
    },
    {
      "cell_type": "code",
      "metadata": {
        "id": "3t7WCzNaPF4l",
        "colab_type": "code",
        "outputId": "4dd4d80e-3bdc-4ace-b30c-f4a23c231898",
        "colab": {
          "base_uri": "https://localhost:8080/",
          "height": 1000
        }
      },
      "source": [
        "content_space = soup.select('.content') \n",
        "summary_news = []\n",
        "for content in content_space:\n",
        "  article_name = content.select_one('.article-name').get_text() # extract the article name\n",
        "  bylines = content.select_one('.byline > .by-author > span:nth-of-type(1)').get_text().strip() # extract the author and remove leading and trailing white space\n",
        "  synopsis = content.select_one('.synopsis').get_text().replace('\\n','') # extract synopsis and remove '\\n'\n",
        "  date_and_time = content.find(class_=\"published-date relative-date\").attrs['data-published-date'].replace('T',' T') #extract time and date and make a white space between time and date\n",
        "  job = {'headline': article_name, 'author': bylines, 'synopsis': synopsis, 'date and time':date_and_time} # construct a dictionary\n",
        "  summary_news.append(job) # add dictionary to list\n",
        "summary_news"
      ],
      "execution_count": 0,
      "outputs": [
        {
          "output_type": "execute_result",
          "data": {
            "text/plain": [
              "[{'author': 'Doris Elin Urrutia',\n",
              "  'date and time': '2019-11-09 T14:22:53Z',\n",
              "  'headline': 'Mercury Transit 2019: Where and How to See It on Nov. 11',\n",
              "  'synopsis': \"On Nov. 11, people across most of the world can catch the planet Mercury passing across the sun. This rare event won't be seen from Earth again until 2032.\"},\n",
              " {'author': 'Robert Z. Pearlman',\n",
              "  'date and time': '2019-11-09 T14:15:31Z',\n",
              "  'headline': \"NASA's 'Hidden Figures' to be Awarded Congressional Gold Medals\",\n",
              "  'synopsis': ''},\n",
              " {'author': 'Hanneke Weitering,',\n",
              "  'date and time': '2019-11-09 T13:57:43Z',\n",
              "  'headline': 'On This Day in Space! Nov. 9, 1967: Saturn V Launches on Maiden Voyage with Apollo 4',\n",
              "  'synopsis': 'On Nov. 9, 1967, NASA launched the powerful new Saturn V rocket on its maiden voyage. See how it happened in our On This Day in Space video series!'},\n",
              " {'author': 'Chris Vaughan',\n",
              "  'date and time': '2019-11-09 T13:38:41Z',\n",
              "  'headline': 'How to Use Mobile Astronomy Apps to View the Mercury Transit of 2019',\n",
              "  'synopsis': 'How to use a mobile astronomy app to preview and track the Mercury transit on Nov. 11.'},\n",
              " {'author': 'Elizabeth Howell',\n",
              "  'date and time': '2019-11-09 T13:35:23Z',\n",
              "  'headline': 'Teach Your Kids About the Mercury Transit of 2019 with This NASA Guide',\n",
              "  'synopsis': \"Mercury will fly across the sun (from Earth's perspective) on Monday, and NASA has a whole lot of kids' materials ready for the occasion.\"},\n",
              " {'author': 'Doris Elin Urrutia',\n",
              "  'date and time': '2019-11-09 T13:26:21Z',\n",
              "  'headline': 'Mercury Transit 2019: How a Spacecraft Fleet Will Watch the Rare Event from Space',\n",
              "  'synopsis': \"On Monday (Nov. 11), Mercury will move across the sun's face, and several missions will have their sights set on the rare event.\"},\n",
              " {'author': 'Daniel Apai,',\n",
              "  'date and time': '2019-11-09 T13:13:08Z',\n",
              "  'headline': \"NASA's TESS Spacecraft is Finding Hundreds of Exoplanets — And is Poised to Find Thousands More\",\n",
              "  'synopsis': 'Over 99% of these alien worlds remain undiscovered — but this is about to change.'},\n",
              " {'author': 'Nola Taylor Redd',\n",
              "  'date and time': '2019-11-09 T12:00:17Z',\n",
              "  'headline': 'The Science of the 2019 Mercury Transit: How Astronomers Will Study the Rare Celestial Event',\n",
              "  'synopsis': \"On Monday, students across the U.S. will use Mercury's transit to measure the distance between Earth and the sun.\"},\n",
              " {'author': 'Elizabeth Howell',\n",
              "  'date and time': '2019-11-08 T22:00:23Z',\n",
              "  'headline': 'NASA Astronaut Prepares for Space Station Mission Marked by Changes',\n",
              "  'synopsis': 'The International Space Station will reach an interesting point in its history around the 20th anniversary of continuous human occupation due to the commercial crew program.'},\n",
              " {'author': 'Stephanie Pappas',\n",
              "  'date and time': '2019-11-08 T21:00:16Z',\n",
              "  'headline': \"Earth's Mantle and Crust Are in a Fiery Battle to the Death … of Supercontinents\",\n",
              "  'synopsis': 'A new model of the whole Earth shows how the mantle and crust drive the movement of tectonic plates as well as the creation and destruction of supercontinents.'},\n",
              " {'author': 'Doris Elin Urrutia',\n",
              "  'date and time': '2019-11-08 T20:00:00Z',\n",
              "  'headline': 'Scientists Chat Interstellar Probe Project in New York City',\n",
              "  'synopsis': \"Sending scientific instruments to the edge of the heliosphere, or the sun's region of influence, is like going to the edge of the fish bowl.\"},\n",
              " {'author': 'Joe Rao',\n",
              "  'date and time': '2019-11-08 T19:00:00Z',\n",
              "  'headline': 'A Mercury Transit for the Ages: November 1973',\n",
              "  'synopsis': \"In my long career as an assiduous amateur astronomer, I've seen other transits of Mercury, but one from November 1973 stands out.\"},\n",
              " {'author': 'Chris Arrant',\n",
              "  'date and time': '2019-11-08 T18:00:00Z',\n",
              "  'headline': \"Leia Was Originally Planned to be Star Wars' Real Last Jedi, According to Late Actor's Brother\",\n",
              "  'synopsis': \"'There is another.'\"},\n",
              " {'author': 'Rafi Letzter',\n",
              "  'date and time': '2019-11-08 T17:00:08Z',\n",
              "  'headline': \"Mathematicians Solve 'Twin Prime Conjecture' — In an Alternate Universe\",\n",
              "  'synopsis': 'Mathematicians have uncovered a big new piece of evidence for one of the most famous unproven ideas in mathematics, known as the twin prime conjecture.'},\n",
              " {'author': 'Elizabeth Howell',\n",
              "  'date and time': '2019-11-08 T16:00:08Z',\n",
              "  'headline': 'Virtual Reality Project Shows Life and Science on the Space Station',\n",
              "  'synopsis': 'A forthcoming virtual reality experience aims to bring more people into the International Space Station, in a way.'},\n",
              " {'author': 'Chelsea Gohd',\n",
              "  'date and time': '2019-11-08 T15:02:25Z',\n",
              "  'headline': 'NICER Telescope Spots Brightest X-Ray Burst Ever Observed',\n",
              "  'synopsis': 'The brightest X-ray burst ever observed by NICER released as much energy in 20 seconds as our sun does in about 10 days.'},\n",
              " {'author': 'Space.com Staff',\n",
              "  'date and time': '2019-11-08 T14:46:06Z',\n",
              "  'headline': 'Pictures from Space! Our Image of the Day',\n",
              "  'synopsis': 'When the Hubble Space Telescope turned its gaze toward the remote galaxy known as the \"Sunburst Arc,\" it saw not one but 12 separate images of the lone cosmic object.'},\n",
              " {'author': 'Meghan Bartels',\n",
              "  'date and time': '2019-11-08 T14:00:15Z',\n",
              "  'headline': 'India Has a New Planetary Target in Mind: Venus',\n",
              "  'synopsis': 'India has launched just three planetary-science spacecraft, but the country is already eyeing a new destination: Venus.'},\n",
              " {'author': 'Elizabeth Howell',\n",
              "  'date and time': '2019-11-08 T12:00:06Z',\n",
              "  'headline': 'Whoa! Incredible Video Shows a SpaceX Rocket Fairing Plunging into the Ocean',\n",
              "  'synopsis': \"It's a long way down as a rocket and its fairing part ways during a launch. An incredible video shows that journey for the nose cone SpaceX will reuse during its next Falcon 9 launch.\"},\n",
              " {'author': 'Elizabeth Howell',\n",
              "  'date and time': '2019-11-08 T12:00:00Z',\n",
              "  'headline': 'Mercury Transit 2019: How to Find an Event Near You',\n",
              "  'synopsis': \"If you want to watch the Mercury transit on Monday (Nov. 11) but don't have the proper equipment, you can still find a viewing event near you. Here's how.\"}]"
            ]
          },
          "metadata": {
            "tags": []
          },
          "execution_count": 3
        }
      ]
    },
    {
      "cell_type": "code",
      "metadata": {
        "id": "j0MPF2af8c2i",
        "colab_type": "code",
        "colab": {}
      },
      "source": [
        ""
      ],
      "execution_count": 0,
      "outputs": []
    }
  ]
}