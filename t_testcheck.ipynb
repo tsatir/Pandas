{
  "nbformat": 4,
  "nbformat_minor": 0,
  "metadata": {
    "colab": {
      "name": "t_testcheck.ipynb",
      "provenance": [],
      "include_colab_link": true
    },
    "kernelspec": {
      "name": "python3",
      "display_name": "Python 3"
    }
  },
  "cells": [
    {
      "cell_type": "markdown",
      "metadata": {
        "id": "view-in-github",
        "colab_type": "text"
      },
      "source": [
        "<a href=\"https://colab.research.google.com/github/tsatir/Thinkful-Data_Science/blob/master/t_testcheck.ipynb\" target=\"_parent\"><img src=\"https://colab.research.google.com/assets/colab-badge.svg\" alt=\"Open In Colab\"/></a>"
      ]
    },
    {
      "cell_type": "code",
      "metadata": {
        "id": "BnlsHkFEYvxN",
        "colab_type": "code",
        "colab": {}
      },
      "source": [
        "import pandas as pd\n",
        "import numpy as np\n",
        "import math\n",
        "from scipy import stats\n",
        "import matplotlib.pyplot as plt"
      ],
      "execution_count": 0,
      "outputs": []
    },
    {
      "cell_type": "code",
      "metadata": {
        "id": "ogO1jPEuZByW",
        "colab_type": "code",
        "colab": {
          "base_uri": "https://localhost:8080/",
          "height": 493
        },
        "outputId": "608b5cd0-75b6-415d-9311-e61eb3541584"
      },
      "source": [
        "houseprice = pd.read_csv(\"https://tf-assets-prod.s3.amazonaws.com/tf-curric/data-science/homeprices.applied.econ.csv\")\n",
        "houseprice.info()\n",
        "\n",
        "houseprice.head()"
      ],
      "execution_count": 3,
      "outputs": [
        {
          "output_type": "stream",
          "text": [
            "<class 'pandas.core.frame.DataFrame'>\n",
            "RangeIndex: 546 entries, 0 to 545\n",
            "Data columns (total 12 columns):\n",
            "price       546 non-null float64\n",
            "lotsize     546 non-null int64\n",
            "bedrooms    546 non-null int64\n",
            "bathrms     546 non-null int64\n",
            "stories     546 non-null int64\n",
            "driveway    546 non-null object\n",
            "recroom     546 non-null object\n",
            "fullbase    546 non-null object\n",
            "gashw       546 non-null object\n",
            "airco       546 non-null object\n",
            "garagepl    546 non-null int64\n",
            "prefarea    546 non-null object\n",
            "dtypes: float64(1), int64(5), object(6)\n",
            "memory usage: 51.3+ KB\n"
          ],
          "name": "stdout"
        },
        {
          "output_type": "execute_result",
          "data": {
            "text/html": [
              "<div>\n",
              "<style scoped>\n",
              "    .dataframe tbody tr th:only-of-type {\n",
              "        vertical-align: middle;\n",
              "    }\n",
              "\n",
              "    .dataframe tbody tr th {\n",
              "        vertical-align: top;\n",
              "    }\n",
              "\n",
              "    .dataframe thead th {\n",
              "        text-align: right;\n",
              "    }\n",
              "</style>\n",
              "<table border=\"1\" class=\"dataframe\">\n",
              "  <thead>\n",
              "    <tr style=\"text-align: right;\">\n",
              "      <th></th>\n",
              "      <th>price</th>\n",
              "      <th>lotsize</th>\n",
              "      <th>bedrooms</th>\n",
              "      <th>bathrms</th>\n",
              "      <th>stories</th>\n",
              "      <th>driveway</th>\n",
              "      <th>recroom</th>\n",
              "      <th>fullbase</th>\n",
              "      <th>gashw</th>\n",
              "      <th>airco</th>\n",
              "      <th>garagepl</th>\n",
              "      <th>prefarea</th>\n",
              "    </tr>\n",
              "  </thead>\n",
              "  <tbody>\n",
              "    <tr>\n",
              "      <th>0</th>\n",
              "      <td>42000.0</td>\n",
              "      <td>5850</td>\n",
              "      <td>3</td>\n",
              "      <td>1</td>\n",
              "      <td>2</td>\n",
              "      <td>yes</td>\n",
              "      <td>no</td>\n",
              "      <td>yes</td>\n",
              "      <td>no</td>\n",
              "      <td>no</td>\n",
              "      <td>1</td>\n",
              "      <td>no</td>\n",
              "    </tr>\n",
              "    <tr>\n",
              "      <th>1</th>\n",
              "      <td>66000.0</td>\n",
              "      <td>3880</td>\n",
              "      <td>3</td>\n",
              "      <td>2</td>\n",
              "      <td>2</td>\n",
              "      <td>yes</td>\n",
              "      <td>no</td>\n",
              "      <td>yes</td>\n",
              "      <td>no</td>\n",
              "      <td>no</td>\n",
              "      <td>2</td>\n",
              "      <td>no</td>\n",
              "    </tr>\n",
              "    <tr>\n",
              "      <th>2</th>\n",
              "      <td>83800.0</td>\n",
              "      <td>4800</td>\n",
              "      <td>3</td>\n",
              "      <td>1</td>\n",
              "      <td>1</td>\n",
              "      <td>yes</td>\n",
              "      <td>yes</td>\n",
              "      <td>yes</td>\n",
              "      <td>no</td>\n",
              "      <td>no</td>\n",
              "      <td>0</td>\n",
              "      <td>no</td>\n",
              "    </tr>\n",
              "    <tr>\n",
              "      <th>3</th>\n",
              "      <td>45000.0</td>\n",
              "      <td>3986</td>\n",
              "      <td>2</td>\n",
              "      <td>2</td>\n",
              "      <td>1</td>\n",
              "      <td>no</td>\n",
              "      <td>yes</td>\n",
              "      <td>yes</td>\n",
              "      <td>no</td>\n",
              "      <td>no</td>\n",
              "      <td>1</td>\n",
              "      <td>no</td>\n",
              "    </tr>\n",
              "    <tr>\n",
              "      <th>4</th>\n",
              "      <td>65900.0</td>\n",
              "      <td>4510</td>\n",
              "      <td>4</td>\n",
              "      <td>2</td>\n",
              "      <td>2</td>\n",
              "      <td>yes</td>\n",
              "      <td>no</td>\n",
              "      <td>yes</td>\n",
              "      <td>no</td>\n",
              "      <td>no</td>\n",
              "      <td>0</td>\n",
              "      <td>no</td>\n",
              "    </tr>\n",
              "  </tbody>\n",
              "</table>\n",
              "</div>"
            ],
            "text/plain": [
              "     price  lotsize  bedrooms  bathrms  ...  gashw airco garagepl prefarea\n",
              "0  42000.0     5850         3        1  ...     no    no        1       no\n",
              "1  66000.0     3880         3        2  ...     no    no        2       no\n",
              "2  83800.0     4800         3        1  ...     no    no        0       no\n",
              "3  45000.0     3986         2        2  ...     no    no        1       no\n",
              "4  65900.0     4510         4        2  ...     no    no        0       no\n",
              "\n",
              "[5 rows x 12 columns]"
            ]
          },
          "metadata": {
            "tags": []
          },
          "execution_count": 3
        }
      ]
    },
    {
      "cell_type": "markdown",
      "metadata": {
        "id": "yn8yUOR_Za8R",
        "colab_type": "text"
      },
      "source": [
        "**Do homes with air conditioning have a higher sales price than homes without air conditioning?**\n",
        "\n",
        "My null hypothesis is the population of houseprices with air conditioning on average have higher sales price comparing with the homes without air conditioning."
      ]
    },
    {
      "cell_type": "code",
      "metadata": {
        "id": "FFTrou4AZO-o",
        "colab_type": "code",
        "colab": {
          "base_uri": "https://localhost:8080/",
          "height": 595
        },
        "outputId": "f556c917-dbf7-4008-948c-37eee079ac9f"
      },
      "source": [
        "with_aircond = houseprice[(houseprice[\"airco\"]==\"yes\")]\n",
        "with_aircond.info()\n",
        "\n",
        "no_aircond = houseprice[(houseprice[\"airco\"]==\"no\")]\n",
        "no_aircond.info()"
      ],
      "execution_count": 6,
      "outputs": [
        {
          "output_type": "stream",
          "text": [
            "<class 'pandas.core.frame.DataFrame'>\n",
            "Int64Index: 173 entries, 373 to 545\n",
            "Data columns (total 12 columns):\n",
            "price       173 non-null float64\n",
            "lotsize     173 non-null int64\n",
            "bedrooms    173 non-null int64\n",
            "bathrms     173 non-null int64\n",
            "stories     173 non-null int64\n",
            "driveway    173 non-null object\n",
            "recroom     173 non-null object\n",
            "fullbase    173 non-null object\n",
            "gashw       173 non-null object\n",
            "airco       173 non-null object\n",
            "garagepl    173 non-null int64\n",
            "prefarea    173 non-null object\n",
            "dtypes: float64(1), int64(5), object(6)\n",
            "memory usage: 17.6+ KB\n",
            "<class 'pandas.core.frame.DataFrame'>\n",
            "Int64Index: 373 entries, 0 to 372\n",
            "Data columns (total 12 columns):\n",
            "price       373 non-null float64\n",
            "lotsize     373 non-null int64\n",
            "bedrooms    373 non-null int64\n",
            "bathrms     373 non-null int64\n",
            "stories     373 non-null int64\n",
            "driveway    373 non-null object\n",
            "recroom     373 non-null object\n",
            "fullbase    373 non-null object\n",
            "gashw       373 non-null object\n",
            "airco       373 non-null object\n",
            "garagepl    373 non-null int64\n",
            "prefarea    373 non-null object\n",
            "dtypes: float64(1), int64(5), object(6)\n",
            "memory usage: 37.9+ KB\n"
          ],
          "name": "stdout"
        }
      ]
    },
    {
      "cell_type": "markdown",
      "metadata": {
        "id": "In8H74nubBls",
        "colab_type": "text"
      },
      "source": [
        "We have nearly twice the number of houses without air conditioning as with air conditioning. A difference in sample size is *not* an issue for an independent samples t-test. Each sample is large enough and should give reliable estimates, given the data meets the rest of our assumptions."
      ]
    },
    {
      "cell_type": "markdown",
      "metadata": {
        "id": "u4L-77GfbRAu",
        "colab_type": "text"
      },
      "source": [
        "Let's check the samples are normally distributed."
      ]
    },
    {
      "cell_type": "code",
      "metadata": {
        "id": "XvNTYEAXawo8",
        "colab_type": "code",
        "colab": {
          "base_uri": "https://localhost:8080/",
          "height": 265
        },
        "outputId": "cfd214ee-4a09-42f1-93ed-51b7451ee46e"
      },
      "source": [
        "plt.hist(with_aircond['price'], alpha = .5)\n",
        "plt.hist(no_aircond['price'], alpha = .5)\n",
        "plt.show()"
      ],
      "execution_count": 11,
      "outputs": [
        {
          "output_type": "display_data",
          "data": {
            "image/png": "[encoded data removed]",
            "text/plain": [
              "<Figure size 432x288 with 1 Axes>"
            ]
          },
          "metadata": {
            "tags": []
          }
        }
      ]
    },
    {
      "cell_type": "markdown",
      "metadata": {
        "id": "FDNPDJE8blS_",
        "colab_type": "text"
      },
      "source": [
        "It appears from the histograms that houses without airconditioning data does not fit a bell curve. \n",
        "\n",
        "To confirm, let's also retrieve the  exact measures of skewness and kurtosis. \n",
        "Skewness should be between -1.5 and +1.5 and\n",
        "Kurtosis should be between -2.5 and +2.5"
      ]
    },
    {
      "cell_type": "code",
      "metadata": {
        "id": "fcjqronabZUE",
        "colab_type": "code",
        "colab": {
          "base_uri": "https://localhost:8080/",
          "height": 71
        },
        "outputId": "0c14e36a-74b1-4bbc-8716-bba6554bf60b"
      },
      "source": [
        "print(stats.describe(with_aircond['price']))\n",
        "print(stats.describe(no_aircond['price']))"
      ],
      "execution_count": 12,
      "outputs": [
        {
          "output_type": "stream",
          "text": [
            "DescribeResult(nobs=173, minmax=(31900.0, 190000.0), mean=85880.58959537573, variance=810167352.2317516, skewness=0.8558523643779228, kurtosis=0.9609338749117713)\n",
            "DescribeResult(nobs=373, minmax=(25000.0, 175000.0), mean=59884.85254691689, variance=455341800.98626363, skewness=1.4196100209360347, kurtosis=3.448225770991252)\n"
          ],
          "name": "stdout"
        }
      ]
    },
    {
      "cell_type": "markdown",
      "metadata": {
        "id": "HP1O8H9_cSmW",
        "colab_type": "text"
      },
      "source": [
        "From both the histograms and the statistics, it appears that the samples of this variable are not normally distributed. I will stop our analysis.\n",
        ". "
      ]
    },
    {
      "cell_type": "markdown",
      "metadata": {
        "id": "AJi1DE2KcZz4",
        "colab_type": "text"
      },
      "source": [
        "**Do homes with a full basement have a higher sales price than homes without a full basement?**"
      ]
    },
    {
      "cell_type": "code",
      "metadata": {
        "id": "tHJpzRDYb-T8",
        "colab_type": "code",
        "colab": {
          "base_uri": "https://localhost:8080/",
          "height": 204
        },
        "outputId": "b2214fc6-c38e-4f5a-cf04-86068c638cf2"
      },
      "source": [
        "houseprice.head()"
      ],
      "execution_count": 13,
      "outputs": [
        {
          "output_type": "execute_result",
          "data": {
            "text/html": [
              "<div>\n",
              "<style scoped>\n",
              "    .dataframe tbody tr th:only-of-type {\n",
              "        vertical-align: middle;\n",
              "    }\n",
              "\n",
              "    .dataframe tbody tr th {\n",
              "        vertical-align: top;\n",
              "    }\n",
              "\n",
              "    .dataframe thead th {\n",
              "        text-align: right;\n",
              "    }\n",
              "</style>\n",
              "<table border=\"1\" class=\"dataframe\">\n",
              "  <thead>\n",
              "    <tr style=\"text-align: right;\">\n",
              "      <th></th>\n",
              "      <th>price</th>\n",
              "      <th>lotsize</th>\n",
              "      <th>bedrooms</th>\n",
              "      <th>bathrms</th>\n",
              "      <th>stories</th>\n",
              "      <th>driveway</th>\n",
              "      <th>recroom</th>\n",
              "      <th>fullbase</th>\n",
              "      <th>gashw</th>\n",
              "      <th>airco</th>\n",
              "      <th>garagepl</th>\n",
              "      <th>prefarea</th>\n",
              "    </tr>\n",
              "  </thead>\n",
              "  <tbody>\n",
              "    <tr>\n",
              "      <th>0</th>\n",
              "      <td>42000.0</td>\n",
              "      <td>5850</td>\n",
              "      <td>3</td>\n",
              "      <td>1</td>\n",
              "      <td>2</td>\n",
              "      <td>yes</td>\n",
              "      <td>no</td>\n",
              "      <td>yes</td>\n",
              "      <td>no</td>\n",
              "      <td>no</td>\n",
              "      <td>1</td>\n",
              "      <td>no</td>\n",
              "    </tr>\n",
              "    <tr>\n",
              "      <th>1</th>\n",
              "      <td>66000.0</td>\n",
              "      <td>3880</td>\n",
              "      <td>3</td>\n",
              "      <td>2</td>\n",
              "      <td>2</td>\n",
              "      <td>yes</td>\n",
              "      <td>no</td>\n",
              "      <td>yes</td>\n",
              "      <td>no</td>\n",
              "      <td>no</td>\n",
              "      <td>2</td>\n",
              "      <td>no</td>\n",
              "    </tr>\n",
              "    <tr>\n",
              "      <th>2</th>\n",
              "      <td>83800.0</td>\n",
              "      <td>4800</td>\n",
              "      <td>3</td>\n",
              "      <td>1</td>\n",
              "      <td>1</td>\n",
              "      <td>yes</td>\n",
              "      <td>yes</td>\n",
              "      <td>yes</td>\n",
              "      <td>no</td>\n",
              "      <td>no</td>\n",
              "      <td>0</td>\n",
              "      <td>no</td>\n",
              "    </tr>\n",
              "    <tr>\n",
              "      <th>3</th>\n",
              "      <td>45000.0</td>\n",
              "      <td>3986</td>\n",
              "      <td>2</td>\n",
              "      <td>2</td>\n",
              "      <td>1</td>\n",
              "      <td>no</td>\n",
              "      <td>yes</td>\n",
              "      <td>yes</td>\n",
              "      <td>no</td>\n",
              "      <td>no</td>\n",
              "      <td>1</td>\n",
              "      <td>no</td>\n",
              "    </tr>\n",
              "    <tr>\n",
              "      <th>4</th>\n",
              "      <td>65900.0</td>\n",
              "      <td>4510</td>\n",
              "      <td>4</td>\n",
              "      <td>2</td>\n",
              "      <td>2</td>\n",
              "      <td>yes</td>\n",
              "      <td>no</td>\n",
              "      <td>yes</td>\n",
              "      <td>no</td>\n",
              "      <td>no</td>\n",
              "      <td>0</td>\n",
              "      <td>no</td>\n",
              "    </tr>\n",
              "  </tbody>\n",
              "</table>\n",
              "</div>"
            ],
            "text/plain": [
              "     price  lotsize  bedrooms  bathrms  ...  gashw airco garagepl prefarea\n",
              "0  42000.0     5850         3        1  ...     no    no        1       no\n",
              "1  66000.0     3880         3        2  ...     no    no        2       no\n",
              "2  83800.0     4800         3        1  ...     no    no        0       no\n",
              "3  45000.0     3986         2        2  ...     no    no        1       no\n",
              "4  65900.0     4510         4        2  ...     no    no        0       no\n",
              "\n",
              "[5 rows x 12 columns]"
            ]
          },
          "metadata": {
            "tags": []
          },
          "execution_count": 13
        }
      ]
    },
    {
      "cell_type": "code",
      "metadata": {
        "id": "TsgSJpbzcfdT",
        "colab_type": "code",
        "colab": {
          "base_uri": "https://localhost:8080/",
          "height": 595
        },
        "outputId": "4605134a-69b0-40f5-a4d5-32e1e4c85d8a"
      },
      "source": [
        "with_basement = houseprice[(houseprice['fullbase']=='yes')]\n",
        "with_basement.info()\n",
        "\n",
        "\n",
        "no_basement = houseprice[(houseprice['fullbase'] == 'no')]\n",
        "no_basement.info()"
      ],
      "execution_count": 15,
      "outputs": [
        {
          "output_type": "stream",
          "text": [
            "<class 'pandas.core.frame.DataFrame'>\n",
            "Int64Index: 191 entries, 0 to 438\n",
            "Data columns (total 12 columns):\n",
            "price       191 non-null float64\n",
            "lotsize     191 non-null int64\n",
            "bedrooms    191 non-null int64\n",
            "bathrms     191 non-null int64\n",
            "stories     191 non-null int64\n",
            "driveway    191 non-null object\n",
            "recroom     191 non-null object\n",
            "fullbase    191 non-null object\n",
            "gashw       191 non-null object\n",
            "airco       191 non-null object\n",
            "garagepl    191 non-null int64\n",
            "prefarea    191 non-null object\n",
            "dtypes: float64(1), int64(5), object(6)\n",
            "memory usage: 19.4+ KB\n",
            "<class 'pandas.core.frame.DataFrame'>\n",
            "Int64Index: 355 entries, 125 to 545\n",
            "Data columns (total 12 columns):\n",
            "price       355 non-null float64\n",
            "lotsize     355 non-null int64\n",
            "bedrooms    355 non-null int64\n",
            "bathrms     355 non-null int64\n",
            "stories     355 non-null int64\n",
            "driveway    355 non-null object\n",
            "recroom     355 non-null object\n",
            "fullbase    355 non-null object\n",
            "gashw       355 non-null object\n",
            "airco       355 non-null object\n",
            "garagepl    355 non-null int64\n",
            "prefarea    355 non-null object\n",
            "dtypes: float64(1), int64(5), object(6)\n",
            "memory usage: 36.1+ KB\n"
          ],
          "name": "stdout"
        }
      ]
    },
    {
      "cell_type": "code",
      "metadata": {
        "id": "pwpWpbnuigoA",
        "colab_type": "code",
        "colab": {}
      },
      "source": [
        "filtered_with_basement = with_basement[(with_basement['price']) <= 110000]\n",
        "filtered_no_basement = no_basement[(no_basement['price']) <= 110000]"
      ],
      "execution_count": 0,
      "outputs": []
    },
    {
      "cell_type": "code",
      "metadata": {
        "id": "hJd5sXDKcwDj",
        "colab_type": "code",
        "colab": {
          "base_uri": "https://localhost:8080/",
          "height": 333
        },
        "outputId": "9f206129-80ef-4141-f90c-6b3ff881f6f3"
      },
      "source": [
        "\n",
        "plt.hist(filtered_with_basement['price'], alpha=.5) #outliers\n",
        "plt.hist(filtered_no_basement['price'], alpha=.5)"
      ],
      "execution_count": 27,
      "outputs": [
        {
          "output_type": "execute_result",
          "data": {
            "text/plain": [
              "(array([16., 39., 76., 49., 55., 26., 22., 18., 16., 16.]),\n",
              " array([ 25000.,  33500.,  42000.,  50500.,  59000.,  67500.,  76000.,\n",
              "         84500.,  93000., 101500., 110000.]),\n",
              " <a list of 10 Patch objects>)"
            ]
          },
          "metadata": {
            "tags": []
          },
          "execution_count": 27
        },
        {
          "output_type": "display_data",
          "data": {
            "image/png": "[encoded data removed]",
            "text/plain": [
              "<Figure size 432x288 with 1 Axes>"
            ]
          },
          "metadata": {
            "tags": []
          }
        }
      ]
    },
    {
      "cell_type": "markdown",
      "metadata": {
        "id": "H6IoOu_4h_ki",
        "colab_type": "text"
      },
      "source": [
        "Houses with basemant after 110K, has some misleading values.In order to clean data, I reomove those from table. "
      ]
    },
    {
      "cell_type": "code",
      "metadata": {
        "id": "9_a86mjrc8FT",
        "colab_type": "code",
        "colab": {
          "base_uri": "https://localhost:8080/",
          "height": 71
        },
        "outputId": "ff997f32-524e-4d52-c5c1-65f65fa9790a"
      },
      "source": [
        "print(stats.describe(filtered_no_basement['price']))\n",
        "print(stats.describe(filtered_with_basement['price']))"
      ],
      "execution_count": 29,
      "outputs": [
        {
          "output_type": "stream",
          "text": [
            "DescribeResult(nobs=333, minmax=(25000.0, 110000.0), mean=60156.006006006006, variance=409255695.89755416, skewness=0.6431928082737368, kurtosis=-0.343034895746658)\n",
            "DescribeResult(nobs=171, minmax=(26000.0, 106500.0), mean=68033.04093567251, variance=275407122.4630203, skewness=0.07413534214273323, kurtosis=-0.5303877948680293)\n"
          ],
          "name": "stdout"
        }
      ]
    },
    {
      "cell_type": "code",
      "metadata": {
        "id": "v13rC3mni6RX",
        "colab_type": "code",
        "colab": {
          "base_uri": "https://localhost:8080/",
          "height": 34
        },
        "outputId": "52ebe426-c046-4894-8992-161024399ec0"
      },
      "source": [
        "stats.ttest_ind(filtered_no_basement['price'],filtered_with_basement['price'])"
      ],
      "execution_count": 31,
      "outputs": [
        {
          "output_type": "execute_result",
          "data": {
            "text/plain": [
              "Ttest_indResult(statistic=-4.388940036966435, pvalue=1.3893844147426536e-05)"
            ]
          },
          "metadata": {
            "tags": []
          },
          "execution_count": 31
        }
      ]
    },
    {
      "cell_type": "markdown",
      "metadata": {
        "id": "-trj-nfmjqBk",
        "colab_type": "text"
      },
      "source": [
        "Ttes statistic is -4.38 which is smaller than 1.96. And, pvalue is extremelly small. So, we can say that There is a .001% chance of observing a difference as large as what is observed even if the two population means are identical (the null hypothesis is true)"
      ]
    },
    {
      "cell_type": "code",
      "metadata": {
        "id": "fNQi9-DZjHa9",
        "colab_type": "code",
        "colab": {
          "base_uri": "https://localhost:8080/",
          "height": 54
        },
        "outputId": "eb867099-887d-4085-e3ff-04371a904675"
      },
      "source": [
        "def get_95_ci(array_1, array_2):\n",
        "    sample_1_n = array_1.shape[0]\n",
        "    sample_2_n = array_2.shape[0]\n",
        "    sample_1_mean = array_1.mean()\n",
        "    sample_2_mean = array_2.mean()\n",
        "    sample_1_var = array_1.var()\n",
        "    sample_2_var = array_2.var()\n",
        "    mean_difference = sample_2_mean - sample_1_mean\n",
        "    std_err_difference = math.sqrt((sample_1_var/sample_1_n)+(sample_2_var/sample_2_n))\n",
        "    margin_of_error = 1.96 * std_err_difference\n",
        "    ci_lower = mean_difference - margin_of_error\n",
        "    ci_upper = mean_difference + margin_of_error\n",
        "    return(\"The difference in means at the 95% confidence interval (two-tail) is between \"+str(ci_lower)+\" and \"+str(ci_upper)+\".\")\n",
        "\n",
        "get_95_ci(filtered_no_basement['price'],filtered_with_basement['price'])"
      ],
      "execution_count": 32,
      "outputs": [
        {
          "output_type": "execute_result",
          "data": {
            "text/plain": [
              "'The difference in means at the 95% confidence interval (two-tail) is between 4574.237742456163 and 11179.832116876853.'"
            ]
          },
          "metadata": {
            "tags": []
          },
          "execution_count": 32
        }
      ]
    },
    {
      "cell_type": "code",
      "metadata": {
        "id": "H_Iv-fKYj7eF",
        "colab_type": "code",
        "colab": {
          "base_uri": "https://localhost:8080/",
          "height": 283
        },
        "outputId": "8a5fd60c-6bce-48d8-cd61-20e76f777946"
      },
      "source": [
        "import seaborn as sns\n",
        "\n",
        "g = sns.pointplot(data=[filtered_no_basement['price'],filtered_with_basement['price']], join=False)\n",
        "                        \n",
        "g.set(xticklabels = ['fullbase_yes', 'fullbase_no'])"
      ],
      "execution_count": 33,
      "outputs": [
        {
          "output_type": "execute_result",
          "data": {
            "text/plain": [
              "[[Text(0, 0, 'fullbase_yes'), Text(0, 0, 'fullbase_no')]]"
            ]
          },
          "metadata": {
            "tags": []
          },
          "execution_count": 33
        },
        {
          "output_type": "display_data",
          "data": {
            "image/png": "[encoded data removed]",
            "text/plain": [
              "<Figure size 432x288 with 1 Axes>"
            ]
          },
          "metadata": {
            "tags": []
          }
        }
      ]
    },
    {
      "cell_type": "code",
      "metadata": {
        "id": "T73rEbazkaM_",
        "colab_type": "code",
        "colab": {}
      },
      "source": [
        ""
      ],
      "execution_count": 0,
      "outputs": []
    }
  ]
}