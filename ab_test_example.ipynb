{
  "nbformat": 4,
  "nbformat_minor": 0,
  "metadata": {
    "colab": {
      "name": "ab_test_example.ipynb",
      "provenance": [],
      "include_colab_link": true
    },
    "kernelspec": {
      "name": "python3",
      "display_name": "Python 3"
    }
  },
  "cells": [
    {
      "cell_type": "markdown",
      "metadata": {
        "id": "view-in-github",
        "colab_type": "text"
      },
      "source": [
        "<a href=\"https://colab.research.google.com/github/tsatir/Thinkful-Data_Science/blob/master/ab_test_example.ipynb\" target=\"_parent\"><img src=\"https://colab.research.google.com/assets/colab-badge.svg\" alt=\"Open In Colab\"/></a>"
      ]
    },
    {
      "cell_type": "code",
      "metadata": {
        "id": "cxdQTbtRxvm2",
        "colab_type": "code",
        "colab": {}
      },
      "source": [
        "import pandas as pd\n",
        "import numpy as np\n",
        "import seaborn as sns\n",
        "from matplotlib import pyplot as plt\n",
        "from scipy import stats"
      ],
      "execution_count": 0,
      "outputs": []
    },
    {
      "cell_type": "code",
      "metadata": {
        "id": "4MN31_aO6Nyr",
        "colab_type": "code",
        "colab": {
          "base_uri": "https://localhost:8080/",
          "height": 204
        },
        "outputId": "0cdae0a1-8100-4118-d3cc-a611e95cff54"
      },
      "source": [
        "data = pd.read_csv(\"https://tf-assets-prod.s3.amazonaws.com/tf-curric/data-science/ab_edited.csv\")\n",
        "data.head()\n",
        "\n",
        "data['date'] = pd.DatetimeIndex(data['timestamp']).date\n",
        "data.head()"
      ],
      "execution_count": 46,
      "outputs": [
        {
          "output_type": "execute_result",
          "data": {
            "text/html": [
              "<div>\n",
              "<style scoped>\n",
              "    .dataframe tbody tr th:only-of-type {\n",
              "        vertical-align: middle;\n",
              "    }\n",
              "\n",
              "    .dataframe tbody tr th {\n",
              "        vertical-align: top;\n",
              "    }\n",
              "\n",
              "    .dataframe thead th {\n",
              "        text-align: right;\n",
              "    }\n",
              "</style>\n",
              "<table border=\"1\" class=\"dataframe\">\n",
              "  <thead>\n",
              "    <tr style=\"text-align: right;\">\n",
              "      <th></th>\n",
              "      <th>user_id</th>\n",
              "      <th>timestamp</th>\n",
              "      <th>group</th>\n",
              "      <th>landing_page</th>\n",
              "      <th>converted</th>\n",
              "      <th>date</th>\n",
              "    </tr>\n",
              "  </thead>\n",
              "  <tbody>\n",
              "    <tr>\n",
              "      <th>0</th>\n",
              "      <td>851104</td>\n",
              "      <td>2017-01-21 22:11:48.556739</td>\n",
              "      <td>control</td>\n",
              "      <td>old_page</td>\n",
              "      <td>0</td>\n",
              "      <td>2017-01-21</td>\n",
              "    </tr>\n",
              "    <tr>\n",
              "      <th>1</th>\n",
              "      <td>804228</td>\n",
              "      <td>2017-01-12 08:01:45.159739</td>\n",
              "      <td>control</td>\n",
              "      <td>old_page</td>\n",
              "      <td>0</td>\n",
              "      <td>2017-01-12</td>\n",
              "    </tr>\n",
              "    <tr>\n",
              "      <th>2</th>\n",
              "      <td>661590</td>\n",
              "      <td>2017-01-11 16:55:06.154213</td>\n",
              "      <td>treatment</td>\n",
              "      <td>new_page</td>\n",
              "      <td>0</td>\n",
              "      <td>2017-01-11</td>\n",
              "    </tr>\n",
              "    <tr>\n",
              "      <th>3</th>\n",
              "      <td>853541</td>\n",
              "      <td>2017-01-08 18:28:03.143765</td>\n",
              "      <td>treatment</td>\n",
              "      <td>new_page</td>\n",
              "      <td>0</td>\n",
              "      <td>2017-01-08</td>\n",
              "    </tr>\n",
              "    <tr>\n",
              "      <th>4</th>\n",
              "      <td>864975</td>\n",
              "      <td>2017-01-21 01:52:26.210827</td>\n",
              "      <td>control</td>\n",
              "      <td>old_page</td>\n",
              "      <td>1</td>\n",
              "      <td>2017-01-21</td>\n",
              "    </tr>\n",
              "  </tbody>\n",
              "</table>\n",
              "</div>"
            ],
            "text/plain": [
              "   user_id                   timestamp  ... converted        date\n",
              "0   851104  2017-01-21 22:11:48.556739  ...         0  2017-01-21\n",
              "1   804228  2017-01-12 08:01:45.159739  ...         0  2017-01-12\n",
              "2   661590  2017-01-11 16:55:06.154213  ...         0  2017-01-11\n",
              "3   853541  2017-01-08 18:28:03.143765  ...         0  2017-01-08\n",
              "4   864975  2017-01-21 01:52:26.210827  ...         1  2017-01-21\n",
              "\n",
              "[5 rows x 6 columns]"
            ]
          },
          "metadata": {
            "tags": []
          },
          "execution_count": 46
        }
      ]
    },
    {
      "cell_type": "code",
      "metadata": {
        "id": "F-XixnSsx9HS",
        "colab_type": "code",
        "colab": {
          "base_uri": "https://localhost:8080/",
          "height": 442
        },
        "outputId": "f5c0e96e-d39f-4b5f-98ce-4f0a0669aaf5"
      },
      "source": [
        "control_data = data[data['group']=='control']\n",
        "treatment_data = data[data['group']=='treatment']\n",
        "\n",
        "print('control data')\n",
        "control_data.info()\n",
        "\n",
        "print()\n",
        "print('treatment data')\n",
        "treatment_data.info()"
      ],
      "execution_count": 45,
      "outputs": [
        {
          "output_type": "stream",
          "text": [
            "control data\n",
            "<class 'pandas.core.frame.DataFrame'>\n",
            "Int64Index: 145274 entries, 0 to 290583\n",
            "Data columns (total 6 columns):\n",
            "user_id         145274 non-null int64\n",
            "timestamp       145274 non-null object\n",
            "group           145274 non-null object\n",
            "landing_page    145274 non-null object\n",
            "converted       145274 non-null int64\n",
            "date            145274 non-null object\n",
            "dtypes: int64(2), object(4)\n",
            "memory usage: 7.8+ MB\n",
            "\n",
            "treatment data\n",
            "<class 'pandas.core.frame.DataFrame'>\n",
            "Int64Index: 145311 entries, 2 to 290584\n",
            "Data columns (total 6 columns):\n",
            "user_id         145311 non-null int64\n",
            "timestamp       145311 non-null object\n",
            "group           145311 non-null object\n",
            "landing_page    145311 non-null object\n",
            "converted       145311 non-null int64\n",
            "date            145311 non-null object\n",
            "dtypes: int64(2), object(4)\n",
            "memory usage: 7.8+ MB\n"
          ],
          "name": "stdout"
        }
      ]
    },
    {
      "cell_type": "code",
      "metadata": {
        "id": "oGUgDVZ2yUOl",
        "colab_type": "code",
        "colab": {
          "base_uri": "https://localhost:8080/",
          "height": 102
        },
        "outputId": "6faff479-2a87-4a03-f291-fe39f706f74a"
      },
      "source": [
        "#Check for adequate sample sizes.\n",
        "\n",
        "print(\"The control sample size is:\",len(control_data))\n",
        "print(\"The test sample size is:\",len(treatment_data))\n",
        "\n",
        "# What is the signup rate of test and control?\n",
        "\n",
        "print(\"The signup rate for treatment data is:\",round(treatment_data['converted'].mean(),3))\n",
        "print(\"The signup rate for control data is:\",round(control_data['converted'].mean(),3))\n",
        "\n",
        "# Are the test and control groups significantly different?\n",
        "\n",
        "stats.ttest_ind(treatment_data['converted'],control_data['converted'])"
      ],
      "execution_count": 37,
      "outputs": [
        {
          "output_type": "stream",
          "text": [
            "The control sample size is: 145274\n",
            "The test sample size is: 145311\n",
            "The signup rate for treatment data is: 0.119\n",
            "The signup rate for control data is: 0.12\n"
          ],
          "name": "stdout"
        },
        {
          "output_type": "execute_result",
          "data": {
            "text/plain": [
              "Ttest_indResult(statistic=-1.3116069027036805, pvalue=0.18965383906859376)"
            ]
          },
          "metadata": {
            "tags": []
          },
          "execution_count": 37
        }
      ]
    },
    {
      "cell_type": "markdown",
      "metadata": {
        "id": "-CI-QyQ136c4",
        "colab_type": "text"
      },
      "source": [
        "Groups are not significantly different, but sample sizes are big."
      ]
    },
    {
      "cell_type": "code",
      "metadata": {
        "id": "igPjuXQKyVrA",
        "colab_type": "code",
        "colab": {
          "base_uri": "https://localhost:8080/",
          "height": 703
        },
        "outputId": "7913aa28-0c26-49cd-a262-c064ef30c76c"
      },
      "source": [
        "#Check for changes over time in results.\n",
        "\n",
        "fig = control_data[['date','converted']].groupby('date').mean().plot()\n",
        "treatment_data[['date','converted']].groupby('date').mean().plot(ax=fig)\n",
        "plt.legend(['control','test'])\n",
        "plt.title('Comparing Conversion Rates by Treatment Date')\n",
        "plt.show()\n",
        "\n",
        "# Generate a test statistic comparing test and control on treatment date\n",
        "#Formally test for a significant difference in conversions between treatment and control groups.\n",
        "\n",
        "print('T-Test Results by Date')\n",
        "\n",
        "for date in data['date'].unique():\n",
        "    dated_data = data[data['date'] == date]\n",
        "    print(stats.ttest_ind(dated_data[dated_data['group'] == 'control'].converted,\n",
        "                          dated_data[dated_data['group'] == 'treatment'].converted))"
      ],
      "execution_count": 39,
      "outputs": [
        {
          "output_type": "display_data",
          "data": {
            "image/png": "[encoded data removed]",
            "text/plain": [
              "<Figure size 432x288 with 1 Axes>"
            ]
          },
          "metadata": {
            "tags": []
          }
        },
        {
          "output_type": "stream",
          "text": [
            "T-Test Results by Date\n",
            "Ttest_indResult(statistic=1.8123288054674913, pvalue=0.0699579338988825)\n",
            "Ttest_indResult(statistic=-0.05182821974845549, pvalue=0.9586663564605943)\n",
            "Ttest_indResult(statistic=0.6795024407954999, pvalue=0.49683133482307695)\n",
            "Ttest_indResult(statistic=-0.33111903181744556, pvalue=0.7405597598504309)\n",
            "Ttest_indResult(statistic=-2.3999515991310387, pvalue=0.01641085244784032)\n",
            "Ttest_indResult(statistic=0.4836129647924235, pvalue=0.628668638020595)\n",
            "Ttest_indResult(statistic=-0.7611804663738991, pvalue=0.446562930057432)\n",
            "Ttest_indResult(statistic=0.9315635899845935, pvalue=0.3515792521983202)\n",
            "Ttest_indResult(statistic=1.261388402374626, pvalue=0.20719113309271808)\n",
            "Ttest_indResult(statistic=0.0026642818202597274, pvalue=0.9978742538059032)\n",
            "Ttest_indResult(statistic=0.28071255594768935, pvalue=0.7789352633524722)\n",
            "Ttest_indResult(statistic=0.2056136446252576, pvalue=0.837095874040602)\n",
            "Ttest_indResult(statistic=-0.4909032980527966, pvalue=0.6235093367111435)\n",
            "Ttest_indResult(statistic=0.8094922831773846, pvalue=0.41824647028626705)\n",
            "Ttest_indResult(statistic=-0.4369071658956722, pvalue=0.6621858156795764)\n",
            "Ttest_indResult(statistic=1.4468255388280735, pvalue=0.14797003344175097)\n",
            "Ttest_indResult(statistic=-1.445201350915974, pvalue=0.14842480715695958)\n",
            "Ttest_indResult(statistic=1.0178087858982594, pvalue=0.3087876929639064)\n",
            "Ttest_indResult(statistic=0.8500557494800433, pvalue=0.3953094968293003)\n",
            "Ttest_indResult(statistic=0.005102928348269819, pvalue=0.9959285470042827)\n",
            "Ttest_indResult(statistic=0.6557398855583756, pvalue=0.5120179205036728)\n",
            "Ttest_indResult(statistic=0.4678178596106672, pvalue=0.6399226098635871)\n",
            "Ttest_indResult(statistic=1.311670708102873, pvalue=0.18965417024438827)\n"
          ],
          "name": "stdout"
        }
      ]
    },
    {
      "cell_type": "markdown",
      "metadata": {
        "id": "nYs_-NyA5SMo",
        "colab_type": "text"
      },
      "source": [
        "There does not appear to be a significant difference in control and treatment groups and this pattern holds up throughout the rollout."
      ]
    },
    {
      "cell_type": "code",
      "metadata": {
        "id": "theNC7OI2oLm",
        "colab_type": "code",
        "colab": {}
      },
      "source": [
        ""
      ],
      "execution_count": 0,
      "outputs": []
    }
  ]
}