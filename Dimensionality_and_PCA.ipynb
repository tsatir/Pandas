{
  "nbformat": 4,
  "nbformat_minor": 0,
  "metadata": {
    "colab": {
      "name": "Dimensionality and PCA.ipynb",
      "provenance": [],
      "include_colab_link": true
    },
    "kernelspec": {
      "name": "python3",
      "display_name": "Python 3"
    }
  },
  "cells": [
    {
      "cell_type": "markdown",
      "metadata": {
        "id": "view-in-github",
        "colab_type": "text"
      },
      "source": [
        "<a href=\"https://colab.research.google.com/github/tsatir/Thinkful-Data_Science/blob/master/Dimensionality_and_PCA.ipynb\" target=\"_parent\"><img src=\"https://colab.research.google.com/assets/colab-badge.svg\" alt=\"Open In Colab\"/></a>"
      ]
    },
    {
      "cell_type": "code",
      "metadata": {
        "id": "bM7j-M96SBqd",
        "colab_type": "code",
        "colab": {}
      },
      "source": [
        "import pandas as pd\n",
        "import numpy as np\n",
        "import matplotlib.pyplot as plt\n",
        "import seaborn as sns\n",
        "import math\n",
        "#from matplotlib.mlab import PCA as mlabPCA\n",
        "from sklearn.preprocessing import StandardScaler\n",
        "from sklearn.decomposition import PCA\n",
        "from sqlalchemy import create_engine\n",
        "import warnings\n",
        "\n",
        "warnings.filterwarnings('ignore')\n",
        "sns.set_style(\"whitegrid\")\n",
        "\n",
        "\n",
        "engine = create_engine('postgresql://{}:{}@{}:{}/{}'.format(\n",
        "    postgres_user, postgres_pw, postgres_host, postgres_port, postgres_db))\n",
        "\n",
        "df = pd.read_sql_query('select * from useducation',con=engine)\n",
        "\n",
        "# no need for an open connection, \n",
        "# as we're only doing a single query\n",
        "engine.dispose()"
      ],
      "execution_count": 0,
      "outputs": []
    },
    {
      "cell_type": "code",
      "metadata": {
        "id": "BZhI_UQ2WyWO",
        "colab_type": "code",
        "colab": {}
      },
      "source": [
        "fill_list = [\"ENROLL\", \"TOTAL_REVENUE\", \"FEDERAL_REVENUE\",\n",
        "             \"STATE_REVENUE\", \"LOCAL_REVENUE\", \"TOTAL_EXPENDITURE\",\n",
        "             \"INSTRUCTION_EXPENDITURE\", \"SUPPORT_SERVICES_EXPENDITURE\",\n",
        "             \"OTHER_EXPENDITURE\", \"CAPITAL_OUTLAY_EXPENDITURE\", \"GRADES_PK_G\",\n",
        "             \"GRADES_KG_G\", \"GRADES_4_G\", \"GRADES_8_G\", \"GRADES_12_G\", \"GRADES_1_8_G\",\n",
        "             \"GRADES_9_12_G\", \"GRADES_ALL_G\"]\n",
        "\n",
        "states = df[\"STATE\"].unique()\n",
        "\n",
        "for state in states:\n",
        "    df.loc[df[\"STATE\"] == state, fill_list] = df.loc[df[\"STATE\"] == state, fill_list].interpolate()\n",
        "\n",
        "# we drop the null values after interpolation\n",
        "df.dropna(inplace=True)"
      ],
      "execution_count": 0,
      "outputs": []
    },
    {
      "cell_type": "code",
      "metadata": {
        "id": "xMwF8BgHSPbn",
        "colab_type": "code",
        "colab": {
          "base_uri": "https://localhost:8080/",
          "height": 527
        },
        "outputId": "1c373513-0006-43ca-effd-562998fc3d05"
      },
      "source": [
        "df.info()"
      ],
      "execution_count": 29,
      "outputs": [
        {
          "output_type": "stream",
          "text": [
            "<class 'pandas.core.frame.DataFrame'>\n",
            "Int64Index: 466 entries, 209 to 1491\n",
            "Data columns (total 25 columns):\n",
            "PRIMARY_KEY                     466 non-null object\n",
            "STATE                           466 non-null object\n",
            "YEAR                            466 non-null int64\n",
            "ENROLL                          466 non-null float64\n",
            "TOTAL_REVENUE                   466 non-null float64\n",
            "FEDERAL_REVENUE                 466 non-null float64\n",
            "STATE_REVENUE                   466 non-null float64\n",
            "LOCAL_REVENUE                   466 non-null float64\n",
            "TOTAL_EXPENDITURE               466 non-null float64\n",
            "INSTRUCTION_EXPENDITURE         466 non-null float64\n",
            "SUPPORT_SERVICES_EXPENDITURE    466 non-null float64\n",
            "OTHER_EXPENDITURE               466 non-null float64\n",
            "CAPITAL_OUTLAY_EXPENDITURE      466 non-null float64\n",
            "GRADES_PK_G                     466 non-null float64\n",
            "GRADES_KG_G                     466 non-null float64\n",
            "GRADES_4_G                      466 non-null float64\n",
            "GRADES_8_G                      466 non-null float64\n",
            "GRADES_12_G                     466 non-null float64\n",
            "GRADES_1_8_G                    466 non-null float64\n",
            "GRADES_9_12_G                   466 non-null float64\n",
            "GRADES_ALL_G                    466 non-null float64\n",
            "AVG_MATH_4_SCORE                466 non-null float64\n",
            "AVG_MATH_8_SCORE                466 non-null float64\n",
            "AVG_READING_4_SCORE             466 non-null float64\n",
            "AVG_READING_8_SCORE             466 non-null float64\n",
            "dtypes: float64(22), int64(1), object(2)\n",
            "memory usage: 94.7+ KB\n"
          ],
          "name": "stdout"
        }
      ]
    },
    {
      "cell_type": "markdown",
      "metadata": {
        "id": "LVLg6fZCTYqu",
        "colab_type": "text"
      },
      "source": [
        "**Create a new score variable from the weighted averages of all score variables in the datasets. Notice that the number of students in the 4th grade isn't the same as the number of students in the 8th grade. So, you should appropriately weigh the scores!**"
      ]
    },
    {
      "cell_type": "code",
      "metadata": {
        "id": "ADVQAYpqTaww",
        "colab_type": "code",
        "colab": {}
      },
      "source": [
        "df['avg_scores'] =  (df['GRADES_4_G'] * ((df['AVG_READING_4_SCORE'] + df['AVG_MATH_4_SCORE'])/2) + \n",
        "                       df['GRADES_8_G'] * ((df['AVG_READING_8_SCORE'] + df['AVG_MATH_8_SCORE'])/2) ) / (df['GRADES_4_G'] + df['GRADES_8_G'])"
      ],
      "execution_count": 0,
      "outputs": []
    },
    {
      "cell_type": "markdown",
      "metadata": {
        "id": "DONTBxnSZHOv",
        "colab_type": "text"
      },
      "source": [
        "**What are the correlations between this newly created score variable and the expenditure types? Which one of the expenditure type is more correlated than the others?**"
      ]
    },
    {
      "cell_type": "code",
      "metadata": {
        "id": "-ZXKXg55Y81G",
        "colab_type": "code",
        "colab": {
          "base_uri": "https://localhost:8080/",
          "height": 255
        },
        "outputId": "defba58f-4eb5-491a-ca76-b8dfc6a95fe6"
      },
      "source": [
        "df[[\"avg_scores\", \"TOTAL_EXPENDITURE\", \"INSTRUCTION_EXPENDITURE\",\n",
        "              \"SUPPORT_SERVICES_EXPENDITURE\", \"OTHER_EXPENDITURE\", \"CAPITAL_OUTLAY_EXPENDITURE\"]].corr()"
      ],
      "execution_count": 31,
      "outputs": [
        {
          "output_type": "execute_result",
          "data": {
            "text/html": [
              "<div>\n",
              "<style scoped>\n",
              "    .dataframe tbody tr th:only-of-type {\n",
              "        vertical-align: middle;\n",
              "    }\n",
              "\n",
              "    .dataframe tbody tr th {\n",
              "        vertical-align: top;\n",
              "    }\n",
              "\n",
              "    .dataframe thead th {\n",
              "        text-align: right;\n",
              "    }\n",
              "</style>\n",
              "<table border=\"1\" class=\"dataframe\">\n",
              "  <thead>\n",
              "    <tr style=\"text-align: right;\">\n",
              "      <th></th>\n",
              "      <th>avg_scores</th>\n",
              "      <th>TOTAL_EXPENDITURE</th>\n",
              "      <th>INSTRUCTION_EXPENDITURE</th>\n",
              "      <th>SUPPORT_SERVICES_EXPENDITURE</th>\n",
              "      <th>OTHER_EXPENDITURE</th>\n",
              "      <th>CAPITAL_OUTLAY_EXPENDITURE</th>\n",
              "    </tr>\n",
              "  </thead>\n",
              "  <tbody>\n",
              "    <tr>\n",
              "      <th>avg_scores</th>\n",
              "      <td>1.000000</td>\n",
              "      <td>0.074155</td>\n",
              "      <td>0.087386</td>\n",
              "      <td>0.079002</td>\n",
              "      <td>0.010959</td>\n",
              "      <td>-0.005389</td>\n",
              "    </tr>\n",
              "    <tr>\n",
              "      <th>TOTAL_EXPENDITURE</th>\n",
              "      <td>0.074155</td>\n",
              "      <td>1.000000</td>\n",
              "      <td>0.990255</td>\n",
              "      <td>0.992988</td>\n",
              "      <td>0.943702</td>\n",
              "      <td>0.925784</td>\n",
              "    </tr>\n",
              "    <tr>\n",
              "      <th>INSTRUCTION_EXPENDITURE</th>\n",
              "      <td>0.087386</td>\n",
              "      <td>0.990255</td>\n",
              "      <td>1.000000</td>\n",
              "      <td>0.974399</td>\n",
              "      <td>0.902173</td>\n",
              "      <td>0.884798</td>\n",
              "    </tr>\n",
              "    <tr>\n",
              "      <th>SUPPORT_SERVICES_EXPENDITURE</th>\n",
              "      <td>0.079002</td>\n",
              "      <td>0.992988</td>\n",
              "      <td>0.974399</td>\n",
              "      <td>1.000000</td>\n",
              "      <td>0.952282</td>\n",
              "      <td>0.911245</td>\n",
              "    </tr>\n",
              "    <tr>\n",
              "      <th>OTHER_EXPENDITURE</th>\n",
              "      <td>0.010959</td>\n",
              "      <td>0.943702</td>\n",
              "      <td>0.902173</td>\n",
              "      <td>0.952282</td>\n",
              "      <td>1.000000</td>\n",
              "      <td>0.918188</td>\n",
              "    </tr>\n",
              "    <tr>\n",
              "      <th>CAPITAL_OUTLAY_EXPENDITURE</th>\n",
              "      <td>-0.005389</td>\n",
              "      <td>0.925784</td>\n",
              "      <td>0.884798</td>\n",
              "      <td>0.911245</td>\n",
              "      <td>0.918188</td>\n",
              "      <td>1.000000</td>\n",
              "    </tr>\n",
              "  </tbody>\n",
              "</table>\n",
              "</div>"
            ],
            "text/plain": [
              "                              avg_scores  ...  CAPITAL_OUTLAY_EXPENDITURE\n",
              "avg_scores                      1.000000  ...                   -0.005389\n",
              "TOTAL_EXPENDITURE               0.074155  ...                    0.925784\n",
              "INSTRUCTION_EXPENDITURE         0.087386  ...                    0.884798\n",
              "SUPPORT_SERVICES_EXPENDITURE    0.079002  ...                    0.911245\n",
              "OTHER_EXPENDITURE               0.010959  ...                    0.918188\n",
              "CAPITAL_OUTLAY_EXPENDITURE     -0.005389  ...                    1.000000\n",
              "\n",
              "[6 rows x 6 columns]"
            ]
          },
          "metadata": {
            "tags": []
          },
          "execution_count": 31
        }
      ]
    },
    {
      "cell_type": "markdown",
      "metadata": {
        "id": "Ir-h2FfIZvLX",
        "colab_type": "text"
      },
      "source": [
        "**Now, apply PCA to the four expenditure types. How much of the total variance is explained by the first component?**"
      ]
    },
    {
      "cell_type": "code",
      "metadata": {
        "id": "F6_0JM9u9etc",
        "colab_type": "code",
        "colab": {
          "base_uri": "https://localhost:8080/",
          "height": 51
        },
        "outputId": "6ce82cc9-cc0a-4305-ef71-daec5c104a42"
      },
      "source": [
        "from sklearn.decomposition import PCA\n",
        "from sklearn.preprocessing import StandardScaler\n",
        "\n",
        "X = df[[\"INSTRUCTION_EXPENDITURE\", \"SUPPORT_SERVICES_EXPENDITURE\",\n",
        "                  \"OTHER_EXPENDITURE\", \"CAPITAL_OUTLAY_EXPENDITURE\"]]\n",
        "\n",
        "X = StandardScaler().fit_transform(X)\n",
        "\n",
        "sklearn_pca = PCA(n_components=1)\n",
        "df[\"pca_1\"] = sklearn_pca.fit_transform(X)\n",
        "\n",
        "print(\n",
        "    'The percentage of total variance in the dataset explained by each',\n",
        "    'component from Sklearn PCA.\\n',\n",
        "    sklearn_pca.explained_variance_ratio_\n",
        ")"
      ],
      "execution_count": 32,
      "outputs": [
        {
          "output_type": "stream",
          "text": [
            "The percentage of total variance in the dataset explained by each component from Sklearn PCA.\n",
            " [0.9430175]\n"
          ],
          "name": "stdout"
        }
      ]
    },
    {
      "cell_type": "markdown",
      "metadata": {
        "id": "8Pd1HCsSEqHf",
        "colab_type": "text"
      },
      "source": [
        "**What is the correlation between the overall score variable and the first principal component?**"
      ]
    },
    {
      "cell_type": "code",
      "metadata": {
        "id": "VtTN48DnEu-G",
        "colab_type": "code",
        "colab": {
          "base_uri": "https://localhost:8080/",
          "height": 286
        },
        "outputId": "22519b0a-6cdb-47b1-a897-2e5f92df995d"
      },
      "source": [
        "df[[\"avg_scores\", \"pca_1\", \"TOTAL_EXPENDITURE\", \"INSTRUCTION_EXPENDITURE\",\n",
        "              \"SUPPORT_SERVICES_EXPENDITURE\", \"OTHER_EXPENDITURE\", \"CAPITAL_OUTLAY_EXPENDITURE\"]].corr()"
      ],
      "execution_count": 33,
      "outputs": [
        {
          "output_type": "execute_result",
          "data": {
            "text/html": [
              "<div>\n",
              "<style scoped>\n",
              "    .dataframe tbody tr th:only-of-type {\n",
              "        vertical-align: middle;\n",
              "    }\n",
              "\n",
              "    .dataframe tbody tr th {\n",
              "        vertical-align: top;\n",
              "    }\n",
              "\n",
              "    .dataframe thead th {\n",
              "        text-align: right;\n",
              "    }\n",
              "</style>\n",
              "<table border=\"1\" class=\"dataframe\">\n",
              "  <thead>\n",
              "    <tr style=\"text-align: right;\">\n",
              "      <th></th>\n",
              "      <th>avg_scores</th>\n",
              "      <th>pca_1</th>\n",
              "      <th>TOTAL_EXPENDITURE</th>\n",
              "      <th>INSTRUCTION_EXPENDITURE</th>\n",
              "      <th>SUPPORT_SERVICES_EXPENDITURE</th>\n",
              "      <th>OTHER_EXPENDITURE</th>\n",
              "      <th>CAPITAL_OUTLAY_EXPENDITURE</th>\n",
              "    </tr>\n",
              "  </thead>\n",
              "  <tbody>\n",
              "    <tr>\n",
              "      <th>avg_scores</th>\n",
              "      <td>1.000000</td>\n",
              "      <td>0.044596</td>\n",
              "      <td>0.074155</td>\n",
              "      <td>0.087386</td>\n",
              "      <td>0.079002</td>\n",
              "      <td>0.010959</td>\n",
              "      <td>-0.005389</td>\n",
              "    </tr>\n",
              "    <tr>\n",
              "      <th>pca_1</th>\n",
              "      <td>0.044596</td>\n",
              "      <td>1.000000</td>\n",
              "      <td>0.992054</td>\n",
              "      <td>0.968606</td>\n",
              "      <td>0.988345</td>\n",
              "      <td>0.971343</td>\n",
              "      <td>0.955792</td>\n",
              "    </tr>\n",
              "    <tr>\n",
              "      <th>TOTAL_EXPENDITURE</th>\n",
              "      <td>0.074155</td>\n",
              "      <td>0.992054</td>\n",
              "      <td>1.000000</td>\n",
              "      <td>0.990255</td>\n",
              "      <td>0.992988</td>\n",
              "      <td>0.943702</td>\n",
              "      <td>0.925784</td>\n",
              "    </tr>\n",
              "    <tr>\n",
              "      <th>INSTRUCTION_EXPENDITURE</th>\n",
              "      <td>0.087386</td>\n",
              "      <td>0.968606</td>\n",
              "      <td>0.990255</td>\n",
              "      <td>1.000000</td>\n",
              "      <td>0.974399</td>\n",
              "      <td>0.902173</td>\n",
              "      <td>0.884798</td>\n",
              "    </tr>\n",
              "    <tr>\n",
              "      <th>SUPPORT_SERVICES_EXPENDITURE</th>\n",
              "      <td>0.079002</td>\n",
              "      <td>0.988345</td>\n",
              "      <td>0.992988</td>\n",
              "      <td>0.974399</td>\n",
              "      <td>1.000000</td>\n",
              "      <td>0.952282</td>\n",
              "      <td>0.911245</td>\n",
              "    </tr>\n",
              "    <tr>\n",
              "      <th>OTHER_EXPENDITURE</th>\n",
              "      <td>0.010959</td>\n",
              "      <td>0.971343</td>\n",
              "      <td>0.943702</td>\n",
              "      <td>0.902173</td>\n",
              "      <td>0.952282</td>\n",
              "      <td>1.000000</td>\n",
              "      <td>0.918188</td>\n",
              "    </tr>\n",
              "    <tr>\n",
              "      <th>CAPITAL_OUTLAY_EXPENDITURE</th>\n",
              "      <td>-0.005389</td>\n",
              "      <td>0.955792</td>\n",
              "      <td>0.925784</td>\n",
              "      <td>0.884798</td>\n",
              "      <td>0.911245</td>\n",
              "      <td>0.918188</td>\n",
              "      <td>1.000000</td>\n",
              "    </tr>\n",
              "  </tbody>\n",
              "</table>\n",
              "</div>"
            ],
            "text/plain": [
              "                              avg_scores  ...  CAPITAL_OUTLAY_EXPENDITURE\n",
              "avg_scores                      1.000000  ...                   -0.005389\n",
              "pca_1                           0.044596  ...                    0.955792\n",
              "TOTAL_EXPENDITURE               0.074155  ...                    0.925784\n",
              "INSTRUCTION_EXPENDITURE         0.087386  ...                    0.884798\n",
              "SUPPORT_SERVICES_EXPENDITURE    0.079002  ...                    0.911245\n",
              "OTHER_EXPENDITURE               0.010959  ...                    0.918188\n",
              "CAPITAL_OUTLAY_EXPENDITURE     -0.005389  ...                    1.000000\n",
              "\n",
              "[7 rows x 7 columns]"
            ]
          },
          "metadata": {
            "tags": []
          },
          "execution_count": 33
        }
      ]
    },
    {
      "cell_type": "markdown",
      "metadata": {
        "id": "vYw6-LzyFHI-",
        "colab_type": "text"
      },
      "source": [
        "**If you were to choose the best variables for your model, would you prefer using the first principal component instead of the expenditure variables? Why?**"
      ]
    },
    {
      "cell_type": "markdown",
      "metadata": {
        "id": "0myc89JtFTym",
        "colab_type": "text"
      },
      "source": [
        "Instruction expenditure variable is more correlated with the overall score than the first principal component. Hence using instruction expenditure makes more sense. PCA works best when the correlation between the variables are less than and equal to 0.8. In our case, all of the expenditure variables are highly correlated with each other. This may result in instable principal component estimations."
      ]
    },
    {
      "cell_type": "code",
      "metadata": {
        "id": "_UyipVafEyaW",
        "colab_type": "code",
        "colab": {}
      },
      "source": [
        ""
      ],
      "execution_count": 0,
      "outputs": []
    }
  ]
}