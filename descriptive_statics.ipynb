{
  "nbformat": 4,
  "nbformat_minor": 0,
  "metadata": {
    "colab": {
      "name": "thinkful_m6_checkpoint4.ipynb",
      "provenance": [],
      "collapsed_sections": []
    },
    "kernelspec": {
      "name": "python3",
      "display_name": "Python 3"
    }
  },
  "cells": [
    {
      "cell_type": "code",
      "metadata": {
        "id": "pjCzWlvEHUPl",
        "colab_type": "code",
        "colab": {}
      },
      "source": [
        "import pandas as pd\n",
        "import numpy as np\n",
        "from scipy import stats"
      ],
      "execution_count": 0,
      "outputs": []
    },
    {
      "cell_type": "code",
      "metadata": {
        "id": "4FeNQhvdHdWq",
        "colab_type": "code",
        "outputId": "9c5870f0-4b08-4628-8886-7ad94e2faec4",
        "colab": {
          "base_uri": "https://localhost:8080/",
          "height": 1000
        }
      },
      "source": [
        "houseprices = pd.read_csv('https://tf-assets-prod.s3.amazonaws.com/tf-curric/data-science/houseprices.csv')\n",
        "houseprices.head(3)\n",
        "houseprices.info()"
      ],
      "execution_count": 0,
      "outputs": [
        {
          "output_type": "stream",
          "text": [
            "<class 'pandas.core.frame.DataFrame'>\n",
            "RangeIndex: 1460 entries, 0 to 1459\n",
            "Data columns (total 81 columns):\n",
            "id               1460 non-null int64\n",
            "mssubclass       1460 non-null int64\n",
            "mszoning         1460 non-null object\n",
            "lotfrontage      1201 non-null float64\n",
            "lotarea          1460 non-null int64\n",
            "street           1460 non-null object\n",
            "alley            91 non-null object\n",
            "lotshape         1460 non-null object\n",
            "landcontour      1460 non-null object\n",
            "utilities        1460 non-null object\n",
            "lotconfig        1460 non-null object\n",
            "landslope        1460 non-null object\n",
            "neighborhood     1460 non-null object\n",
            "condition1       1460 non-null object\n",
            "condition2       1460 non-null object\n",
            "bldgtype         1460 non-null object\n",
            "housestyle       1460 non-null object\n",
            "overallqual      1460 non-null int64\n",
            "overallcond      1460 non-null int64\n",
            "yearbuilt        1460 non-null int64\n",
            "yearremodadd     1460 non-null int64\n",
            "roofstyle        1460 non-null object\n",
            "roofmatl         1460 non-null object\n",
            "exterior1st      1460 non-null object\n",
            "exterior2nd      1460 non-null object\n",
            "masvnrtype       1452 non-null object\n",
            "masvnrarea       1452 non-null float64\n",
            "exterqual        1460 non-null object\n",
            "extercond        1460 non-null object\n",
            "foundation       1460 non-null object\n",
            "bsmtqual         1423 non-null object\n",
            "bsmtcond         1423 non-null object\n",
            "bsmtexposure     1422 non-null object\n",
            "bsmtfintype1     1423 non-null object\n",
            "bsmtfinsf1       1460 non-null int64\n",
            "bsmtfintype2     1422 non-null object\n",
            "bsmtfinsf2       1460 non-null int64\n",
            "bsmtunfsf        1460 non-null int64\n",
            "totalbsmtsf      1460 non-null int64\n",
            "heating          1460 non-null object\n",
            "heatingqc        1460 non-null object\n",
            "centralair       1460 non-null object\n",
            "electrical       1459 non-null object\n",
            "firstflrsf       1460 non-null int64\n",
            "secondflrsf      1460 non-null int64\n",
            "lowqualfinsf     1460 non-null int64\n",
            "grlivarea        1460 non-null int64\n",
            "bsmtfullbath     1460 non-null int64\n",
            "bsmthalfbath     1460 non-null int64\n",
            "fullbath         1460 non-null int64\n",
            "halfbath         1460 non-null int64\n",
            "bedroomabvgr     1460 non-null int64\n",
            "kitchenabvgr     1460 non-null int64\n",
            "kitchenqual      1460 non-null object\n",
            "totrmsabvgrd     1460 non-null int64\n",
            "functional       1460 non-null object\n",
            "fireplaces       1460 non-null int64\n",
            "fireplacequ      770 non-null object\n",
            "garagetype       1379 non-null object\n",
            "garageyrblt      1379 non-null float64\n",
            "garagefinish     1379 non-null object\n",
            "garagecars       1460 non-null int64\n",
            "garagearea       1460 non-null int64\n",
            "garagequal       1379 non-null object\n",
            "garagecond       1379 non-null object\n",
            "paveddrive       1460 non-null object\n",
            "wooddecksf       1460 non-null int64\n",
            "openporchsf      1460 non-null int64\n",
            "enclosedporch    1460 non-null int64\n",
            "threessnporch    1460 non-null int64\n",
            "screenporch      1460 non-null int64\n",
            "poolarea         1460 non-null int64\n",
            "poolqc           7 non-null object\n",
            "fence            281 non-null object\n",
            "miscfeature      54 non-null object\n",
            "miscval          1460 non-null int64\n",
            "mosold           1460 non-null int64\n",
            "yrsold           1460 non-null int64\n",
            "saletype         1460 non-null object\n",
            "salecondition    1460 non-null object\n",
            "saleprice        1460 non-null int64\n",
            "dtypes: float64(3), int64(35), object(43)\n",
            "memory usage: 924.0+ KB\n"
          ],
          "name": "stdout"
        }
      ]
    },
    {
      "cell_type": "code",
      "metadata": {
        "id": "eiETFXe6Hg5r",
        "colab_type": "code",
        "outputId": "fe30700c-0cad-4d85-ab13-1eff3027e8b5",
        "colab": {
          "base_uri": "https://localhost:8080/",
          "height": 34
        }
      },
      "source": [
        "#How many rows of data does the table contain?\n",
        "print(\"The table contains {} rows of data \".format(houseprices.shape[0]))"
      ],
      "execution_count": 0,
      "outputs": [
        {
          "output_type": "stream",
          "text": [
            "The table contains 1460 rows of data \n"
          ],
          "name": "stdout"
        }
      ]
    },
    {
      "cell_type": "code",
      "metadata": {
        "id": "c1CJbjROH5Oy",
        "colab_type": "code",
        "outputId": "3dfcb1a7-9be2-423d-d223-957b18f05f2a",
        "colab": {
          "base_uri": "https://localhost:8080/",
          "height": 54
        }
      },
      "source": [
        "#Are there any nulls in any columns? Yes there are.\n",
        "missing_columns = list(houseprices.columns[houseprices.isnull().any()])\n",
        "print('Missing columns are : {}' .format(missing_columns)) "
      ],
      "execution_count": 0,
      "outputs": [
        {
          "output_type": "stream",
          "text": [
            "Missing columns are : ['lotfrontage', 'alley', 'masvnrtype', 'masvnrarea', 'bsmtqual', 'bsmtcond', 'bsmtexposure', 'bsmtfintype1', 'bsmtfintype2', 'electrical', 'fireplacequ', 'garagetype', 'garageyrblt', 'garagefinish', 'garagequal', 'garagecond', 'poolqc', 'fence', 'miscfeature']\n"
          ],
          "name": "stdout"
        }
      ]
    },
    {
      "cell_type": "code",
      "metadata": {
        "id": "_q3tUE2sIB55",
        "colab_type": "code",
        "outputId": "764fe9bb-e845-42f7-bb41-1a8ef1c5c50b",
        "colab": {
          "base_uri": "https://localhost:8080/",
          "height": 34
        }
      },
      "source": [
        "#How many distinct values are there in the mszoning column?\n",
        "print(\"There are {} unique values in the {} column.\".format(houseprices['mszoning'].nunique(),'mszoning'))"
      ],
      "execution_count": 0,
      "outputs": [
        {
          "output_type": "stream",
          "text": [
            "There are 5 unique values in the mszoning column.\n"
          ],
          "name": "stdout"
        }
      ]
    },
    {
      "cell_type": "code",
      "metadata": {
        "id": "6oiIHafmQw1V",
        "colab_type": "code",
        "outputId": "24fa976b-08d2-47c1-bb68-ba6e476a7118",
        "colab": {
          "base_uri": "https://localhost:8080/",
          "height": 34
        }
      },
      "source": [
        "#How many distinct values are there in the street column?\n",
        "print(\"There are {} unique values in the {} column.\".format(houseprices['street'].nunique(),\"street\"))"
      ],
      "execution_count": 0,
      "outputs": [
        {
          "output_type": "stream",
          "text": [
            "There are 2 unique values in the street column.\n"
          ],
          "name": "stdout"
        }
      ]
    },
    {
      "cell_type": "code",
      "metadata": {
        "id": "JcgOlxfnRRbG",
        "colab_type": "code",
        "outputId": "c2ed6c64-6802-4ea0-8f99-8441fb384afc",
        "colab": {
          "base_uri": "https://localhost:8080/",
          "height": 170
        }
      },
      "source": [
        "#Describe the range of the saleprice.\n",
        "houseprices['saleprice'].describe()"
      ],
      "execution_count": 0,
      "outputs": [
        {
          "output_type": "execute_result",
          "data": {
            "text/plain": [
              "count      1460.000000\n",
              "mean     180921.195890\n",
              "std       79442.502883\n",
              "min       34900.000000\n",
              "25%      129975.000000\n",
              "50%      163000.000000\n",
              "75%      214000.000000\n",
              "max      755000.000000\n",
              "Name: saleprice, dtype: float64"
            ]
          },
          "metadata": {
            "tags": []
          },
          "execution_count": 7
        }
      ]
    },
    {
      "cell_type": "code",
      "metadata": {
        "id": "G5PaHLqtRnU9",
        "colab_type": "code",
        "outputId": "91fa3d4f-bba6-478f-9cc1-aeff5b814cfa",
        "colab": {
          "base_uri": "https://localhost:8080/",
          "height": 170
        }
      },
      "source": [
        "#Describe the range of the lotarea.\n",
        "houseprices['lotarea'].describe()"
      ],
      "execution_count": 0,
      "outputs": [
        {
          "output_type": "execute_result",
          "data": {
            "text/plain": [
              "count      1460.000000\n",
              "mean      10516.828082\n",
              "std        9981.264932\n",
              "min        1300.000000\n",
              "25%        7553.500000\n",
              "50%        9478.500000\n",
              "75%       11601.500000\n",
              "max      215245.000000\n",
              "Name: lotarea, dtype: float64"
            ]
          },
          "metadata": {
            "tags": []
          },
          "execution_count": 8
        }
      ]
    },
    {
      "cell_type": "code",
      "metadata": {
        "id": "8zUJksofkLsX",
        "colab_type": "code",
        "outputId": "874f92ba-232d-452c-da2f-cc67cf6abf32",
        "colab": {
          "base_uri": "https://localhost:8080/",
          "height": 323
        }
      },
      "source": [
        "houseprices.columns"
      ],
      "execution_count": 0,
      "outputs": [
        {
          "output_type": "execute_result",
          "data": {
            "text/plain": [
              "Index(['id', 'mssubclass', 'mszoning', 'lotfrontage', 'lotarea', 'street',\n",
              "       'alley', 'lotshape', 'landcontour', 'utilities', 'lotconfig',\n",
              "       'landslope', 'neighborhood', 'condition1', 'condition2', 'bldgtype',\n",
              "       'housestyle', 'overallqual', 'overallcond', 'yearbuilt', 'yearremodadd',\n",
              "       'roofstyle', 'roofmatl', 'exterior1st', 'exterior2nd', 'masvnrtype',\n",
              "       'masvnrarea', 'exterqual', 'extercond', 'foundation', 'bsmtqual',\n",
              "       'bsmtcond', 'bsmtexposure', 'bsmtfintype1', 'bsmtfinsf1',\n",
              "       'bsmtfintype2', 'bsmtfinsf2', 'bsmtunfsf', 'totalbsmtsf', 'heating',\n",
              "       'heatingqc', 'centralair', 'electrical', 'firstflrsf', 'secondflrsf',\n",
              "       'lowqualfinsf', 'grlivarea', 'bsmtfullbath', 'bsmthalfbath', 'fullbath',\n",
              "       'halfbath', 'bedroomabvgr', 'kitchenabvgr', 'kitchenqual',\n",
              "       'totrmsabvgrd', 'functional', 'fireplaces', 'fireplacequ', 'garagetype',\n",
              "       'garageyrblt', 'garagefinish', 'garagecars', 'garagearea', 'garagequal',\n",
              "       'garagecond', 'paveddrive', 'wooddecksf', 'openporchsf',\n",
              "       'enclosedporch', 'threessnporch', 'screenporch', 'poolarea', 'poolqc',\n",
              "       'fence', 'miscfeature', 'miscval', 'mosold', 'yrsold', 'saletype',\n",
              "       'salecondition', 'saleprice'],\n",
              "      dtype='object')"
            ]
          },
          "metadata": {
            "tags": []
          },
          "execution_count": 9
        }
      ]
    },
    {
      "cell_type": "code",
      "metadata": {
        "id": "16cAB_GiU41c",
        "colab_type": "code",
        "outputId": "29b73d5e-108f-4ef8-b4f5-c7c2b539803e",
        "colab": {
          "base_uri": "https://localhost:8080/",
          "height": 34
        }
      },
      "source": [
        "('openporchsf'or 'saleprice') in  missing_columns"
      ],
      "execution_count": 0,
      "outputs": [
        {
          "output_type": "execute_result",
          "data": {
            "text/plain": [
              "False"
            ]
          },
          "metadata": {
            "tags": []
          },
          "execution_count": 26
        }
      ]
    },
    {
      "cell_type": "markdown",
      "metadata": {
        "id": "8s65U7nIU6IG",
        "colab_type": "text"
      },
      "source": [
        "There is no null values in openporchsf and saleprice columns.\n"
      ]
    },
    {
      "cell_type": "code",
      "metadata": {
        "id": "OX7qrlEEUo7P",
        "colab_type": "code",
        "outputId": "3239c351-f930-4515-903d-1d91ea290a10",
        "colab": {
          "base_uri": "https://localhost:8080/",
          "height": 34
        }
      },
      "source": [
        "#Is there a statistically significant difference between the prices of houses that have an open porch versus houses\n",
        "#that do not have an open porch? \n",
        "openporch_houses = houseprices.iloc[(houseprices['openporchsf'] != 0).values]\n",
        "no_openporch_houses = houseprices.iloc[(houseprices['openporchsf'] == 0).values]\n",
        "stats.ttest_ind(openporch_houses['saleprice'], no_openporch_houses['saleprice'])"
      ],
      "execution_count": 0,
      "outputs": [
        {
          "output_type": "execute_result",
          "data": {
            "text/plain": [
              "Ttest_indResult(statistic=17.31355834212178, pvalue=3.209770265256579e-61)"
            ]
          },
          "metadata": {
            "tags": []
          },
          "execution_count": 23
        }
      ]
    },
    {
      "cell_type": "markdown",
      "metadata": {
        "id": "_QNMalDEVPbj",
        "colab_type": "text"
      },
      "source": [
        "There is a difference of 17.3 standard deviations between these two means and the p-value is extremely small implying that this is a statistically significant difference. "
      ]
    },
    {
      "cell_type": "code",
      "metadata": {
        "id": "ST2Cbt_4LPJV",
        "colab_type": "code",
        "outputId": "433db54f-eac6-46aa-99ac-ff1db2325458",
        "colab": {
          "base_uri": "https://localhost:8080/",
          "height": 34
        }
      },
      "source": [
        "#Is there a significant correlation between the lotarea and saleprice variables? Are they positively or negatively correlated?\n",
        "stats.pearsonr(houseprices['lotarea'], houseprices['saleprice'])"
      ],
      "execution_count": 0,
      "outputs": [
        {
          "output_type": "execute_result",
          "data": {
            "text/plain": [
              "(0.2638433538714057, 1.1231391549193063e-24)"
            ]
          },
          "metadata": {
            "tags": []
          },
          "execution_count": 14
        }
      ]
    },
    {
      "cell_type": "markdown",
      "metadata": {
        "id": "qgX1MwoLMC0X",
        "colab_type": "text"
      },
      "source": [
        "Correlation coefficient between lotarea and saleprice columns is 0.26 and p-value is extremelly small. We can say that there is a significant positive correlation between two columns."
      ]
    },
    {
      "cell_type": "code",
      "metadata": {
        "id": "YZhW1CvnNEfl",
        "colab_type": "code",
        "colab": {}
      },
      "source": [
        ""
      ],
      "execution_count": 0,
      "outputs": []
    }
  ]
}