{
  "nbformat": 4,
  "nbformat_minor": 0,
  "metadata": {
    "colab": {
      "name": "self_sufficiencyexam_thinkful.ipynb",
      "provenance": [],
      "collapsed_sections": [],
      "include_colab_link": true
    },
    "kernelspec": {
      "name": "python3",
      "display_name": "Python 3"
    }
  },
  "cells": [
    {
      "cell_type": "markdown",
      "metadata": {
        "id": "view-in-github",
        "colab_type": "text"
      },
      "source": [
        "<a href=\"https://colab.research.google.com/github/tsatir/Thinkful-Data_Science/blob/master/self_sufficiencyexam_thinkful.ipynb\" target=\"_parent\"><img src=\"https://colab.research.google.com/assets/colab-badge.svg\" alt=\"Open In Colab\"/></a>"
      ]
    },
    {
      "cell_type": "markdown",
      "metadata": {
        "id": "QteK0iqt1j_j",
        "colab_type": "text"
      },
      "source": [
        "**Create a function that reverses a string. For example, given the string \"forward\", your function should return \"drawrof\". Assume all inputs are strings.**"
      ]
    },
    {
      "cell_type": "code",
      "metadata": {
        "id": "U3mCLRwC1kz3",
        "colab_type": "code",
        "colab": {}
      },
      "source": [
        "def reverse_string(xx):\n",
        "    z = ''\n",
        "    for i in xx:\n",
        "      z = i + z\n",
        "    return(z)"
      ],
      "execution_count": 0,
      "outputs": []
    },
    {
      "cell_type": "code",
      "metadata": {
        "id": "OLeC66aq16mO",
        "colab_type": "code",
        "outputId": "037bf1c8-4e8f-4c9e-80d5-b4b1126195c3",
        "colab": {
          "base_uri": "https://localhost:8080/",
          "height": 34
        }
      },
      "source": [
        "reverse_string('tugce')"
      ],
      "execution_count": 2,
      "outputs": [
        {
          "output_type": "execute_result",
          "data": {
            "text/plain": [
              "'ecgut'"
            ]
          },
          "metadata": {
            "tags": []
          },
          "execution_count": 2
        }
      ]
    },
    {
      "cell_type": "markdown",
      "metadata": {
        "id": "KvzXGAD0AYLk",
        "colab_type": "text"
      },
      "source": [
        "**Complete the function below that can be used to calculate and return the posterior probability of an event A, given the known outcome of Event B using Bayes Theorem:**"
      ]
    },
    {
      "cell_type": "code",
      "metadata": {
        "id": "ogs_mACU_qJw",
        "colab_type": "code",
        "colab": {}
      },
      "source": [
        "def bayes(a, b_given_a, b_given_not_a):\n",
        "\n",
        "    \"\"\"\n",
        "    Calculates P(A | B) using bayes theorem.\n",
        "\n",
        "    Args:\n",
        "        a: P(A)\n",
        "        b_given_a: P(B | A)\n",
        "        b_given_not_a: P(B | ~A)\n",
        "\n",
        "    Returns:\n",
        "        P(A | B)\n",
        "    \"\"\"\n",
        "    return (b_given_a * a)/((a*b_given_a)+((1-a)*b_given_not_a))"
      ],
      "execution_count": 0,
      "outputs": []
    },
    {
      "cell_type": "markdown",
      "metadata": {
        "id": "3dUvCKs0T3ll",
        "colab_type": "text"
      },
      "source": [
        "**Analyze the teams dataset from the Lahman baseball records. This dataset contains season statistics for each Major League Baseball team.**\n",
        "\n",
        "**a. For all records since 1995, plot histograms for the following variables. Which distribution do they appear to follow, given their meaning?**\n",
        "\n",
        " - Stolen bases per game\n",
        " - Wins\n",
        " - Earned run average\n",
        "\n",
        "\n",
        "**b. Conduct some further exploratory data analysis on this dataset. Consider qualities like distributions, correlations and trends over time. Try to find something interesting to say about the data, and use visualizations to support your argument.**\n",
        "\n",
        "- https://rdrr.io/rforge/Lahman/man/Teams.html"
      ]
    },
    {
      "cell_type": "code",
      "metadata": {
        "id": "FJtGLsFrTqw6",
        "colab_type": "code",
        "colab": {}
      },
      "source": [
        "import pandas as pd\n",
        "import numpy as np\n",
        "import seaborn as sns\n",
        "import matplotlib.pyplot as plt\n",
        "from scipy import stats"
      ],
      "execution_count": 0,
      "outputs": []
    },
    {
      "cell_type": "code",
      "metadata": {
        "id": "6kWcThELTx9Z",
        "colab_type": "code",
        "colab": {}
      },
      "source": [
        "teams = pd.read_csv('https://tf-assets-prod.s3.amazonaws.com/tf-curric/data-science/lahman-teams.csv')"
      ],
      "execution_count": 0,
      "outputs": []
    },
    {
      "cell_type": "code",
      "metadata": {
        "id": "au7xDEPOUHGG",
        "colab_type": "code",
        "outputId": "c5390d9f-a246-4310-dc7c-ccc580686fcd",
        "colab": {
          "base_uri": "https://localhost:8080/",
          "height": 233
        }
      },
      "source": [
        "#teams.describe()\n",
        "#teams.info()\n",
        "teams.head(2)\n"
      ],
      "execution_count": 6,
      "outputs": [
        {
          "output_type": "execute_result",
          "data": {
            "text/html": [
              "<div>\n",
              "<style scoped>\n",
              "    .dataframe tbody tr th:only-of-type {\n",
              "        vertical-align: middle;\n",
              "    }\n",
              "\n",
              "    .dataframe tbody tr th {\n",
              "        vertical-align: top;\n",
              "    }\n",
              "\n",
              "    .dataframe thead th {\n",
              "        text-align: right;\n",
              "    }\n",
              "</style>\n",
              "<table border=\"1\" class=\"dataframe\">\n",
              "  <thead>\n",
              "    <tr style=\"text-align: right;\">\n",
              "      <th></th>\n",
              "      <th>yearID</th>\n",
              "      <th>lgID</th>\n",
              "      <th>teamID</th>\n",
              "      <th>franchID</th>\n",
              "      <th>divID</th>\n",
              "      <th>Rank</th>\n",
              "      <th>G</th>\n",
              "      <th>Ghome</th>\n",
              "      <th>W</th>\n",
              "      <th>L</th>\n",
              "      <th>DivWin</th>\n",
              "      <th>WCWin</th>\n",
              "      <th>LgWin</th>\n",
              "      <th>WSWin</th>\n",
              "      <th>R</th>\n",
              "      <th>AB</th>\n",
              "      <th>H</th>\n",
              "      <th>2B</th>\n",
              "      <th>3B</th>\n",
              "      <th>HR</th>\n",
              "      <th>BB</th>\n",
              "      <th>SO</th>\n",
              "      <th>SB</th>\n",
              "      <th>CS</th>\n",
              "      <th>HBP</th>\n",
              "      <th>SF</th>\n",
              "      <th>RA</th>\n",
              "      <th>ER</th>\n",
              "      <th>ERA</th>\n",
              "      <th>CG</th>\n",
              "      <th>SHO</th>\n",
              "      <th>SV</th>\n",
              "      <th>IPouts</th>\n",
              "      <th>HA</th>\n",
              "      <th>HRA</th>\n",
              "      <th>BBA</th>\n",
              "      <th>SOA</th>\n",
              "      <th>E</th>\n",
              "      <th>DP</th>\n",
              "      <th>FP</th>\n",
              "      <th>name</th>\n",
              "      <th>park</th>\n",
              "      <th>attendance</th>\n",
              "      <th>BPF</th>\n",
              "      <th>PPF</th>\n",
              "      <th>teamIDBR</th>\n",
              "      <th>teamIDlahman45</th>\n",
              "      <th>teamIDretro</th>\n",
              "    </tr>\n",
              "  </thead>\n",
              "  <tbody>\n",
              "    <tr>\n",
              "      <th>0</th>\n",
              "      <td>1871</td>\n",
              "      <td>NaN</td>\n",
              "      <td>BS1</td>\n",
              "      <td>BNA</td>\n",
              "      <td>NaN</td>\n",
              "      <td>3</td>\n",
              "      <td>31</td>\n",
              "      <td>NaN</td>\n",
              "      <td>20</td>\n",
              "      <td>10</td>\n",
              "      <td>NaN</td>\n",
              "      <td>NaN</td>\n",
              "      <td>N</td>\n",
              "      <td>NaN</td>\n",
              "      <td>401</td>\n",
              "      <td>1372</td>\n",
              "      <td>426</td>\n",
              "      <td>70</td>\n",
              "      <td>37</td>\n",
              "      <td>3</td>\n",
              "      <td>60</td>\n",
              "      <td>19.0</td>\n",
              "      <td>73.0</td>\n",
              "      <td>NaN</td>\n",
              "      <td>NaN</td>\n",
              "      <td>NaN</td>\n",
              "      <td>303</td>\n",
              "      <td>109</td>\n",
              "      <td>3.55</td>\n",
              "      <td>22</td>\n",
              "      <td>1</td>\n",
              "      <td>3</td>\n",
              "      <td>828</td>\n",
              "      <td>367</td>\n",
              "      <td>2</td>\n",
              "      <td>42</td>\n",
              "      <td>23</td>\n",
              "      <td>225</td>\n",
              "      <td>NaN</td>\n",
              "      <td>0.83</td>\n",
              "      <td>Boston Red Stockings</td>\n",
              "      <td>South End Grounds I</td>\n",
              "      <td>NaN</td>\n",
              "      <td>103</td>\n",
              "      <td>98</td>\n",
              "      <td>BOS</td>\n",
              "      <td>BS1</td>\n",
              "      <td>BS1</td>\n",
              "    </tr>\n",
              "    <tr>\n",
              "      <th>1</th>\n",
              "      <td>1871</td>\n",
              "      <td>NaN</td>\n",
              "      <td>CH1</td>\n",
              "      <td>CNA</td>\n",
              "      <td>NaN</td>\n",
              "      <td>2</td>\n",
              "      <td>28</td>\n",
              "      <td>NaN</td>\n",
              "      <td>19</td>\n",
              "      <td>9</td>\n",
              "      <td>NaN</td>\n",
              "      <td>NaN</td>\n",
              "      <td>N</td>\n",
              "      <td>NaN</td>\n",
              "      <td>302</td>\n",
              "      <td>1196</td>\n",
              "      <td>323</td>\n",
              "      <td>52</td>\n",
              "      <td>21</td>\n",
              "      <td>10</td>\n",
              "      <td>60</td>\n",
              "      <td>22.0</td>\n",
              "      <td>69.0</td>\n",
              "      <td>NaN</td>\n",
              "      <td>NaN</td>\n",
              "      <td>NaN</td>\n",
              "      <td>241</td>\n",
              "      <td>77</td>\n",
              "      <td>2.76</td>\n",
              "      <td>25</td>\n",
              "      <td>0</td>\n",
              "      <td>1</td>\n",
              "      <td>753</td>\n",
              "      <td>308</td>\n",
              "      <td>6</td>\n",
              "      <td>28</td>\n",
              "      <td>22</td>\n",
              "      <td>218</td>\n",
              "      <td>NaN</td>\n",
              "      <td>0.82</td>\n",
              "      <td>Chicago White Stockings</td>\n",
              "      <td>Union Base-Ball Grounds</td>\n",
              "      <td>NaN</td>\n",
              "      <td>104</td>\n",
              "      <td>102</td>\n",
              "      <td>CHI</td>\n",
              "      <td>CH1</td>\n",
              "      <td>CH1</td>\n",
              "    </tr>\n",
              "  </tbody>\n",
              "</table>\n",
              "</div>"
            ],
            "text/plain": [
              "   yearID lgID teamID franchID  ...  PPF  teamIDBR  teamIDlahman45  teamIDretro\n",
              "0    1871  NaN    BS1      BNA  ...   98       BOS             BS1          BS1\n",
              "1    1871  NaN    CH1      CNA  ...  102       CHI             CH1          CH1\n",
              "\n",
              "[2 rows x 48 columns]"
            ]
          },
          "metadata": {
            "tags": []
          },
          "execution_count": 6
        }
      ]
    },
    {
      "cell_type": "code",
      "metadata": {
        "id": "2Gvv5c4lVuOh",
        "colab_type": "code",
        "outputId": "76210002-e335-47b8-fa2b-0286e12a56a1",
        "colab": {
          "base_uri": "https://localhost:8080/",
          "height": 297
        }
      },
      "source": [
        "teams_1995 = teams[teams['yearID']>= 1995]\n",
        "teams_1995[['SB','W','ERA']].describe()"
      ],
      "execution_count": 7,
      "outputs": [
        {
          "output_type": "execute_result",
          "data": {
            "text/html": [
              "<div>\n",
              "<style scoped>\n",
              "    .dataframe tbody tr th:only-of-type {\n",
              "        vertical-align: middle;\n",
              "    }\n",
              "\n",
              "    .dataframe tbody tr th {\n",
              "        vertical-align: top;\n",
              "    }\n",
              "\n",
              "    .dataframe thead th {\n",
              "        text-align: right;\n",
              "    }\n",
              "</style>\n",
              "<table border=\"1\" class=\"dataframe\">\n",
              "  <thead>\n",
              "    <tr style=\"text-align: right;\">\n",
              "      <th></th>\n",
              "      <th>SB</th>\n",
              "      <th>W</th>\n",
              "      <th>ERA</th>\n",
              "    </tr>\n",
              "  </thead>\n",
              "  <tbody>\n",
              "    <tr>\n",
              "      <th>count</th>\n",
              "      <td>624.000000</td>\n",
              "      <td>624.000000</td>\n",
              "      <td>624.000000</td>\n",
              "    </tr>\n",
              "    <tr>\n",
              "      <th>mean</th>\n",
              "      <td>98.673077</td>\n",
              "      <td>80.560897</td>\n",
              "      <td>4.301603</td>\n",
              "    </tr>\n",
              "    <tr>\n",
              "      <th>std</th>\n",
              "      <td>31.800727</td>\n",
              "      <td>11.505856</td>\n",
              "      <td>0.554768</td>\n",
              "    </tr>\n",
              "    <tr>\n",
              "      <th>min</th>\n",
              "      <td>31.000000</td>\n",
              "      <td>43.000000</td>\n",
              "      <td>2.940000</td>\n",
              "    </tr>\n",
              "    <tr>\n",
              "      <th>25%</th>\n",
              "      <td>73.000000</td>\n",
              "      <td>72.000000</td>\n",
              "      <td>3.907500</td>\n",
              "    </tr>\n",
              "    <tr>\n",
              "      <th>50%</th>\n",
              "      <td>96.000000</td>\n",
              "      <td>80.000000</td>\n",
              "      <td>4.280000</td>\n",
              "    </tr>\n",
              "    <tr>\n",
              "      <th>75%</th>\n",
              "      <td>119.000000</td>\n",
              "      <td>90.000000</td>\n",
              "      <td>4.690000</td>\n",
              "    </tr>\n",
              "    <tr>\n",
              "      <th>max</th>\n",
              "      <td>201.000000</td>\n",
              "      <td>116.000000</td>\n",
              "      <td>6.380000</td>\n",
              "    </tr>\n",
              "  </tbody>\n",
              "</table>\n",
              "</div>"
            ],
            "text/plain": [
              "               SB           W         ERA\n",
              "count  624.000000  624.000000  624.000000\n",
              "mean    98.673077   80.560897    4.301603\n",
              "std     31.800727   11.505856    0.554768\n",
              "min     31.000000   43.000000    2.940000\n",
              "25%     73.000000   72.000000    3.907500\n",
              "50%     96.000000   80.000000    4.280000\n",
              "75%    119.000000   90.000000    4.690000\n",
              "max    201.000000  116.000000    6.380000"
            ]
          },
          "metadata": {
            "tags": []
          },
          "execution_count": 7
        }
      ]
    },
    {
      "cell_type": "code",
      "metadata": {
        "id": "P98vVY9OYpts",
        "colab_type": "code",
        "outputId": "4d5c7710-6dd1-4783-a351-c106afd20ebb",
        "colab": {
          "base_uri": "https://localhost:8080/",
          "height": 312
        }
      },
      "source": [
        "stolen_bases_per_game = sns.distplot(teams_1995['SB'])\n",
        "stolen_bases_per_game.set(title='Stolen Bases Histogram')"
      ],
      "execution_count": 8,
      "outputs": [
        {
          "output_type": "execute_result",
          "data": {
            "text/plain": [
              "[Text(0.5, 1.0, 'Stolen Bases Histogram')]"
            ]
          },
          "metadata": {
            "tags": []
          },
          "execution_count": 8
        },
        {
          "output_type": "display_data",
          "data": {
            "image/png": "[encoded data removed]",
            "text/plain": [
              "<Figure size 432x288 with 1 Axes>"
            ]
          },
          "metadata": {
            "tags": []
          }
        }
      ]
    },
    {
      "cell_type": "markdown",
      "metadata": {
        "id": "XmprtVVZHEk3",
        "colab_type": "text"
      },
      "source": [
        "*The stolen bases distribution looks like a poisson distribution which represents the number of times a given event will occur during a given time interval. Data can range from 0 to approaching .*"
      ]
    },
    {
      "cell_type": "code",
      "metadata": {
        "id": "mH65mKyVbvXI",
        "colab_type": "code",
        "outputId": "80284c6a-0a3d-4af9-e90f-bd8e429ecf0f",
        "colab": {
          "base_uri": "https://localhost:8080/",
          "height": 312
        }
      },
      "source": [
        "wins = sns.distplot(teams_1995['W'])\n",
        "wins.set(title = 'Wins Histogram')\n",
        "wins.set(xlabel='Wins')"
      ],
      "execution_count": 9,
      "outputs": [
        {
          "output_type": "execute_result",
          "data": {
            "text/plain": [
              "[Text(0.5, 0, 'Wins')]"
            ]
          },
          "metadata": {
            "tags": []
          },
          "execution_count": 9
        },
        {
          "output_type": "display_data",
          "data": {
            "image/png": "[encoded data removed]",
            "text/plain": [
              "<Figure size 432x288 with 1 Axes>"
            ]
          },
          "metadata": {
            "tags": []
          }
        }
      ]
    },
    {
      "cell_type": "markdown",
      "metadata": {
        "id": "9Z8patuAyu4d",
        "colab_type": "text"
      },
      "source": [
        "Wins histogram looks like a normal distribution."
      ]
    },
    {
      "cell_type": "code",
      "metadata": {
        "id": "oofJ0a-ob5VN",
        "colab_type": "code",
        "outputId": "fdd3140e-a249-4e53-a21d-68d9322204a2",
        "colab": {
          "base_uri": "https://localhost:8080/",
          "height": 312
        }
      },
      "source": [
        "earned_run_avg = sns.distplot(teams_1995['ERA'])\n",
        "earned_run_avg.set(title='Earned Run Average Histogram')"
      ],
      "execution_count": 10,
      "outputs": [
        {
          "output_type": "execute_result",
          "data": {
            "text/plain": [
              "[Text(0.5, 1.0, 'Earned Run Average Histogram')]"
            ]
          },
          "metadata": {
            "tags": []
          },
          "execution_count": 10
        },
        {
          "output_type": "display_data",
          "data": {
            "image/png": "[encoded data removed]",
            "text/plain": [
              "<Figure size 432x288 with 1 Axes>"
            ]
          },
          "metadata": {
            "tags": []
          }
        }
      ]
    },
    {
      "cell_type": "markdown",
      "metadata": {
        "id": "wlm3BakPHXQC",
        "colab_type": "text"
      },
      "source": [
        "*ERA histogram looks like a  \"normal,\" or \"normally distributed,\". Most values cluster in the center of the range, with the rest tapering off symmetrically to the left and the right.*"
      ]
    },
    {
      "cell_type": "markdown",
      "metadata": {
        "id": "RGJupW2vHtZv",
        "colab_type": "text"
      },
      "source": [
        "**b. Conduct some further exploratory data analysis on this dataset. Consider qualities like distributions, correlations and trends over time. Try to find something interesting to say about the data, and use visualizations to support your argument.**"
      ]
    },
    {
      "cell_type": "code",
      "metadata": {
        "id": "1wgR0y4bD4al",
        "colab_type": "code",
        "colab": {}
      },
      "source": [
        "teams_AL = teams[(teams['lgID']=='AL') & (teams['yearID']>=1995)]\n",
        "teams_NL = teams[(teams['lgID']=='NL') & (teams['yearID']>=1995)]"
      ],
      "execution_count": 0,
      "outputs": []
    },
    {
      "cell_type": "markdown",
      "metadata": {
        "id": "cwTNDl1WTL8u",
        "colab_type": "text"
      },
      "source": [
        "I am new to United States and to be honest I don't know anything about baseball. During this short time I tried to learn but I did't like it and there are so many rules to understand, baseball analytics is another big field:) . So, in order to make everything more clearer for me I divide dataset according to their leagues and chose teams that have similar rankings (CLE, BOS), best ranking (NYY) and two worst rankings (TEX,TOR)"
      ]
    },
    {
      "cell_type": "code",
      "metadata": {
        "id": "l3U--WZcOgKx",
        "colab_type": "code",
        "colab": {}
      },
      "source": [
        "selected_teams = ['NYY', 'CLE', 'BOS','TEX','TOR']\n",
        "selected_teams_AL = teams_AL.loc[teams_AL['teamIDBR'].isin(selected_teams)]"
      ],
      "execution_count": 0,
      "outputs": []
    },
    {
      "cell_type": "code",
      "metadata": {
        "id": "ZMCibwWD6hfu",
        "colab_type": "code",
        "colab": {
          "base_uri": "https://localhost:8080/",
          "height": 360
        },
        "outputId": "04807bd5-1047-4655-dc1f-2a19fa919713"
      },
      "source": [
        "selected_teams_AL.head()\n",
        "#selected_teams_AL.info()"
      ],
      "execution_count": 13,
      "outputs": [
        {
          "output_type": "execute_result",
          "data": {
            "text/html": [
              "<div>\n",
              "<style scoped>\n",
              "    .dataframe tbody tr th:only-of-type {\n",
              "        vertical-align: middle;\n",
              "    }\n",
              "\n",
              "    .dataframe tbody tr th {\n",
              "        vertical-align: top;\n",
              "    }\n",
              "\n",
              "    .dataframe thead th {\n",
              "        text-align: right;\n",
              "    }\n",
              "</style>\n",
              "<table border=\"1\" class=\"dataframe\">\n",
              "  <thead>\n",
              "    <tr style=\"text-align: right;\">\n",
              "      <th></th>\n",
              "      <th>yearID</th>\n",
              "      <th>lgID</th>\n",
              "      <th>teamID</th>\n",
              "      <th>franchID</th>\n",
              "      <th>divID</th>\n",
              "      <th>Rank</th>\n",
              "      <th>G</th>\n",
              "      <th>Ghome</th>\n",
              "      <th>W</th>\n",
              "      <th>L</th>\n",
              "      <th>DivWin</th>\n",
              "      <th>WCWin</th>\n",
              "      <th>LgWin</th>\n",
              "      <th>WSWin</th>\n",
              "      <th>R</th>\n",
              "      <th>AB</th>\n",
              "      <th>H</th>\n",
              "      <th>2B</th>\n",
              "      <th>3B</th>\n",
              "      <th>HR</th>\n",
              "      <th>BB</th>\n",
              "      <th>SO</th>\n",
              "      <th>SB</th>\n",
              "      <th>CS</th>\n",
              "      <th>HBP</th>\n",
              "      <th>SF</th>\n",
              "      <th>RA</th>\n",
              "      <th>ER</th>\n",
              "      <th>ERA</th>\n",
              "      <th>CG</th>\n",
              "      <th>SHO</th>\n",
              "      <th>SV</th>\n",
              "      <th>IPouts</th>\n",
              "      <th>HA</th>\n",
              "      <th>HRA</th>\n",
              "      <th>BBA</th>\n",
              "      <th>SOA</th>\n",
              "      <th>E</th>\n",
              "      <th>DP</th>\n",
              "      <th>FP</th>\n",
              "      <th>name</th>\n",
              "      <th>park</th>\n",
              "      <th>attendance</th>\n",
              "      <th>BPF</th>\n",
              "      <th>PPF</th>\n",
              "      <th>teamIDBR</th>\n",
              "      <th>teamIDlahman45</th>\n",
              "      <th>teamIDretro</th>\n",
              "    </tr>\n",
              "  </thead>\n",
              "  <tbody>\n",
              "    <tr>\n",
              "      <th>2183</th>\n",
              "      <td>1995</td>\n",
              "      <td>AL</td>\n",
              "      <td>BOS</td>\n",
              "      <td>BOS</td>\n",
              "      <td>E</td>\n",
              "      <td>1</td>\n",
              "      <td>144</td>\n",
              "      <td>72.0</td>\n",
              "      <td>86</td>\n",
              "      <td>58</td>\n",
              "      <td>Y</td>\n",
              "      <td>N</td>\n",
              "      <td>N</td>\n",
              "      <td>N</td>\n",
              "      <td>791</td>\n",
              "      <td>4997</td>\n",
              "      <td>1399</td>\n",
              "      <td>286</td>\n",
              "      <td>31</td>\n",
              "      <td>175</td>\n",
              "      <td>560</td>\n",
              "      <td>923.0</td>\n",
              "      <td>99.0</td>\n",
              "      <td>44.0</td>\n",
              "      <td>NaN</td>\n",
              "      <td>NaN</td>\n",
              "      <td>698</td>\n",
              "      <td>630</td>\n",
              "      <td>4.39</td>\n",
              "      <td>7</td>\n",
              "      <td>9</td>\n",
              "      <td>39</td>\n",
              "      <td>3876</td>\n",
              "      <td>1338</td>\n",
              "      <td>127</td>\n",
              "      <td>476</td>\n",
              "      <td>888</td>\n",
              "      <td>120</td>\n",
              "      <td>151.0</td>\n",
              "      <td>0.97</td>\n",
              "      <td>Boston Red Sox</td>\n",
              "      <td>Fenway Park II</td>\n",
              "      <td>2164410.0</td>\n",
              "      <td>103</td>\n",
              "      <td>103</td>\n",
              "      <td>BOS</td>\n",
              "      <td>BOS</td>\n",
              "      <td>BOS</td>\n",
              "    </tr>\n",
              "    <tr>\n",
              "      <th>2188</th>\n",
              "      <td>1995</td>\n",
              "      <td>AL</td>\n",
              "      <td>CLE</td>\n",
              "      <td>CLE</td>\n",
              "      <td>C</td>\n",
              "      <td>1</td>\n",
              "      <td>144</td>\n",
              "      <td>72.0</td>\n",
              "      <td>100</td>\n",
              "      <td>44</td>\n",
              "      <td>Y</td>\n",
              "      <td>N</td>\n",
              "      <td>Y</td>\n",
              "      <td>N</td>\n",
              "      <td>840</td>\n",
              "      <td>5028</td>\n",
              "      <td>1461</td>\n",
              "      <td>279</td>\n",
              "      <td>23</td>\n",
              "      <td>207</td>\n",
              "      <td>542</td>\n",
              "      <td>766.0</td>\n",
              "      <td>132.0</td>\n",
              "      <td>53.0</td>\n",
              "      <td>NaN</td>\n",
              "      <td>NaN</td>\n",
              "      <td>607</td>\n",
              "      <td>554</td>\n",
              "      <td>3.83</td>\n",
              "      <td>10</td>\n",
              "      <td>10</td>\n",
              "      <td>50</td>\n",
              "      <td>3903</td>\n",
              "      <td>1261</td>\n",
              "      <td>135</td>\n",
              "      <td>445</td>\n",
              "      <td>926</td>\n",
              "      <td>101</td>\n",
              "      <td>142.0</td>\n",
              "      <td>0.98</td>\n",
              "      <td>Cleveland Indians</td>\n",
              "      <td>Jacobs Field</td>\n",
              "      <td>2842745.0</td>\n",
              "      <td>101</td>\n",
              "      <td>99</td>\n",
              "      <td>CLE</td>\n",
              "      <td>CLE</td>\n",
              "      <td>CLE</td>\n",
              "    </tr>\n",
              "    <tr>\n",
              "      <th>2198</th>\n",
              "      <td>1995</td>\n",
              "      <td>AL</td>\n",
              "      <td>NYA</td>\n",
              "      <td>NYY</td>\n",
              "      <td>E</td>\n",
              "      <td>2</td>\n",
              "      <td>145</td>\n",
              "      <td>73.0</td>\n",
              "      <td>79</td>\n",
              "      <td>65</td>\n",
              "      <td>N</td>\n",
              "      <td>Y</td>\n",
              "      <td>N</td>\n",
              "      <td>N</td>\n",
              "      <td>749</td>\n",
              "      <td>4947</td>\n",
              "      <td>1365</td>\n",
              "      <td>280</td>\n",
              "      <td>34</td>\n",
              "      <td>122</td>\n",
              "      <td>625</td>\n",
              "      <td>851.0</td>\n",
              "      <td>50.0</td>\n",
              "      <td>30.0</td>\n",
              "      <td>NaN</td>\n",
              "      <td>NaN</td>\n",
              "      <td>688</td>\n",
              "      <td>651</td>\n",
              "      <td>4.56</td>\n",
              "      <td>18</td>\n",
              "      <td>5</td>\n",
              "      <td>35</td>\n",
              "      <td>3852</td>\n",
              "      <td>1286</td>\n",
              "      <td>159</td>\n",
              "      <td>535</td>\n",
              "      <td>908</td>\n",
              "      <td>73</td>\n",
              "      <td>121.0</td>\n",
              "      <td>0.98</td>\n",
              "      <td>New York Yankees</td>\n",
              "      <td>Yankee Stadium II</td>\n",
              "      <td>1705263.0</td>\n",
              "      <td>99</td>\n",
              "      <td>98</td>\n",
              "      <td>NYY</td>\n",
              "      <td>NYA</td>\n",
              "      <td>NYA</td>\n",
              "    </tr>\n",
              "    <tr>\n",
              "      <th>2207</th>\n",
              "      <td>1995</td>\n",
              "      <td>AL</td>\n",
              "      <td>TEX</td>\n",
              "      <td>TEX</td>\n",
              "      <td>W</td>\n",
              "      <td>3</td>\n",
              "      <td>144</td>\n",
              "      <td>72.0</td>\n",
              "      <td>74</td>\n",
              "      <td>70</td>\n",
              "      <td>N</td>\n",
              "      <td>N</td>\n",
              "      <td>N</td>\n",
              "      <td>N</td>\n",
              "      <td>691</td>\n",
              "      <td>4913</td>\n",
              "      <td>1304</td>\n",
              "      <td>247</td>\n",
              "      <td>24</td>\n",
              "      <td>138</td>\n",
              "      <td>526</td>\n",
              "      <td>877.0</td>\n",
              "      <td>90.0</td>\n",
              "      <td>47.0</td>\n",
              "      <td>NaN</td>\n",
              "      <td>NaN</td>\n",
              "      <td>720</td>\n",
              "      <td>665</td>\n",
              "      <td>4.66</td>\n",
              "      <td>14</td>\n",
              "      <td>4</td>\n",
              "      <td>34</td>\n",
              "      <td>3855</td>\n",
              "      <td>1385</td>\n",
              "      <td>152</td>\n",
              "      <td>514</td>\n",
              "      <td>838</td>\n",
              "      <td>98</td>\n",
              "      <td>156.0</td>\n",
              "      <td>0.98</td>\n",
              "      <td>Texas Rangers</td>\n",
              "      <td>The Ballpark at Arlington</td>\n",
              "      <td>1985910.0</td>\n",
              "      <td>103</td>\n",
              "      <td>103</td>\n",
              "      <td>TEX</td>\n",
              "      <td>TEX</td>\n",
              "      <td>TEX</td>\n",
              "    </tr>\n",
              "    <tr>\n",
              "      <th>2208</th>\n",
              "      <td>1995</td>\n",
              "      <td>AL</td>\n",
              "      <td>TOR</td>\n",
              "      <td>TOR</td>\n",
              "      <td>E</td>\n",
              "      <td>5</td>\n",
              "      <td>144</td>\n",
              "      <td>72.0</td>\n",
              "      <td>56</td>\n",
              "      <td>88</td>\n",
              "      <td>N</td>\n",
              "      <td>N</td>\n",
              "      <td>N</td>\n",
              "      <td>N</td>\n",
              "      <td>642</td>\n",
              "      <td>5036</td>\n",
              "      <td>1309</td>\n",
              "      <td>275</td>\n",
              "      <td>27</td>\n",
              "      <td>140</td>\n",
              "      <td>492</td>\n",
              "      <td>906.0</td>\n",
              "      <td>75.0</td>\n",
              "      <td>16.0</td>\n",
              "      <td>NaN</td>\n",
              "      <td>NaN</td>\n",
              "      <td>777</td>\n",
              "      <td>701</td>\n",
              "      <td>4.88</td>\n",
              "      <td>16</td>\n",
              "      <td>8</td>\n",
              "      <td>22</td>\n",
              "      <td>3876</td>\n",
              "      <td>1336</td>\n",
              "      <td>145</td>\n",
              "      <td>654</td>\n",
              "      <td>894</td>\n",
              "      <td>97</td>\n",
              "      <td>131.0</td>\n",
              "      <td>0.98</td>\n",
              "      <td>Toronto Blue Jays</td>\n",
              "      <td>Skydome</td>\n",
              "      <td>2826483.0</td>\n",
              "      <td>99</td>\n",
              "      <td>100</td>\n",
              "      <td>TOR</td>\n",
              "      <td>TOR</td>\n",
              "      <td>TOR</td>\n",
              "    </tr>\n",
              "  </tbody>\n",
              "</table>\n",
              "</div>"
            ],
            "text/plain": [
              "      yearID lgID teamID franchID  ...  PPF  teamIDBR  teamIDlahman45  teamIDretro\n",
              "2183    1995   AL    BOS      BOS  ...  103       BOS             BOS          BOS\n",
              "2188    1995   AL    CLE      CLE  ...   99       CLE             CLE          CLE\n",
              "2198    1995   AL    NYA      NYY  ...   98       NYY             NYA          NYA\n",
              "2207    1995   AL    TEX      TEX  ...  103       TEX             TEX          TEX\n",
              "2208    1995   AL    TOR      TOR  ...  100       TOR             TOR          TOR\n",
              "\n",
              "[5 rows x 48 columns]"
            ]
          },
          "metadata": {
            "tags": []
          },
          "execution_count": 13
        }
      ]
    },
    {
      "cell_type": "code",
      "metadata": {
        "id": "zLlbYE3q8HTa",
        "colab_type": "code",
        "colab": {
          "base_uri": "https://localhost:8080/",
          "height": 612
        },
        "outputId": "b7a03941-2048-498f-c237-a1577ca80b2c"
      },
      "source": [
        "selected_teams_AL['Rank_all'] = selected_teams_AL.groupby(['teamID'])['Rank'].cumsum()\n",
        "\n",
        "selected_teams = ['NYA', 'CLE', 'BOS','TEX','TOR']\n",
        "\n",
        "NYA = selected_teams_AL[selected_teams_AL['teamID'] == 'NYA']\n",
        "NYA['New York Yankees'] = NYA['Rank'].cumsum()\n",
        "\n",
        "CLE = selected_teams_AL[selected_teams_AL['teamID'] == 'CLE']\n",
        "CLE['Cleveland Indians'] = CLE['Rank'].cumsum()\n",
        "\n",
        "BOS = selected_teams_AL[selected_teams_AL['teamID'] == 'BOS']\n",
        "BOS['Boston Red Sox'] = BOS['Rank'].cumsum()\n",
        "\n",
        "TEX = selected_teams_AL[selected_teams_AL['teamID'] == 'TEX']\n",
        "TEX['Texas Rangers'] = TEX['Rank'].cumsum()\n",
        "\n",
        "TOR = selected_teams_AL[selected_teams_AL['teamID'] == 'TOR']\n",
        "TOR['Toronto Blue Jays'] = TOR['Rank'].cumsum()"
      ],
      "execution_count": 14,
      "outputs": [
        {
          "output_type": "stream",
          "text": [
            "/usr/local/lib/python3.6/dist-packages/ipykernel_launcher.py:1: SettingWithCopyWarning: \n",
            "A value is trying to be set on a copy of a slice from a DataFrame.\n",
            "Try using .loc[row_indexer,col_indexer] = value instead\n",
            "\n",
            "See the caveats in the documentation: http://pandas.pydata.org/pandas-docs/stable/user_guide/indexing.html#returning-a-view-versus-a-copy\n",
            "  \"\"\"Entry point for launching an IPython kernel.\n",
            "/usr/local/lib/python3.6/dist-packages/ipykernel_launcher.py:6: SettingWithCopyWarning: \n",
            "A value is trying to be set on a copy of a slice from a DataFrame.\n",
            "Try using .loc[row_indexer,col_indexer] = value instead\n",
            "\n",
            "See the caveats in the documentation: http://pandas.pydata.org/pandas-docs/stable/user_guide/indexing.html#returning-a-view-versus-a-copy\n",
            "  \n",
            "/usr/local/lib/python3.6/dist-packages/ipykernel_launcher.py:9: SettingWithCopyWarning: \n",
            "A value is trying to be set on a copy of a slice from a DataFrame.\n",
            "Try using .loc[row_indexer,col_indexer] = value instead\n",
            "\n",
            "See the caveats in the documentation: http://pandas.pydata.org/pandas-docs/stable/user_guide/indexing.html#returning-a-view-versus-a-copy\n",
            "  if __name__ == '__main__':\n",
            "/usr/local/lib/python3.6/dist-packages/ipykernel_launcher.py:12: SettingWithCopyWarning: \n",
            "A value is trying to be set on a copy of a slice from a DataFrame.\n",
            "Try using .loc[row_indexer,col_indexer] = value instead\n",
            "\n",
            "See the caveats in the documentation: http://pandas.pydata.org/pandas-docs/stable/user_guide/indexing.html#returning-a-view-versus-a-copy\n",
            "  if sys.path[0] == '':\n",
            "/usr/local/lib/python3.6/dist-packages/ipykernel_launcher.py:15: SettingWithCopyWarning: \n",
            "A value is trying to be set on a copy of a slice from a DataFrame.\n",
            "Try using .loc[row_indexer,col_indexer] = value instead\n",
            "\n",
            "See the caveats in the documentation: http://pandas.pydata.org/pandas-docs/stable/user_guide/indexing.html#returning-a-view-versus-a-copy\n",
            "  from ipykernel import kernelapp as app\n",
            "/usr/local/lib/python3.6/dist-packages/ipykernel_launcher.py:18: SettingWithCopyWarning: \n",
            "A value is trying to be set on a copy of a slice from a DataFrame.\n",
            "Try using .loc[row_indexer,col_indexer] = value instead\n",
            "\n",
            "See the caveats in the documentation: http://pandas.pydata.org/pandas-docs/stable/user_guide/indexing.html#returning-a-view-versus-a-copy\n"
          ],
          "name": "stderr"
        }
      ]
    },
    {
      "cell_type": "code",
      "metadata": {
        "id": "ZAI9_izhxZWV",
        "colab_type": "code",
        "colab": {
          "base_uri": "https://localhost:8080/",
          "height": 523
        },
        "outputId": "0751e172-eab5-4eb6-e706-4df9e4f1b8b3"
      },
      "source": [
        "sns.set(style='white', font_scale=1.2)\n",
        "plt.figure(figsize = (11,8))\n",
        "ax = plt.gca(title = 'Cumulative Rankings of Teams through Years')\n",
        "NYA.plot(kind='line',x='yearID',y='New York Yankees',ax=ax, )\n",
        "CLE.plot(kind='line',x='yearID',y='Cleveland Indians',ax=ax)\n",
        "BOS.plot(kind='line',x='yearID',y='Boston Red Sox',ax=ax)\n",
        "TEX.plot(kind='line',x='yearID',y='Texas Rangers',ax=ax)\n",
        "TOR.plot(kind='line',x='yearID',y='Toronto Blue Jays',ax=ax)\n",
        "ax.locator_params(integer=True)\n",
        "plt.xlabel('Year 1995 - 2015')\n",
        "\n",
        "plt.show()"
      ],
      "execution_count": 15,
      "outputs": [
        {
          "output_type": "display_data",
          "data": {
            "image/png": "[encoded data removed]",
            "text/plain": [
              "<Figure size 792x576 with 1 Axes>"
            ]
          },
          "metadata": {
            "tags": []
          }
        }
      ]
    },
    {
      "cell_type": "markdown",
      "metadata": {
        "id": "zRdFWXj4Ikxi",
        "colab_type": "text"
      },
      "source": [
        "After a quick search online(https://www.electro-mech.com/team-sports/baseball/the-greatest-5-baseball-teams-in-the-us/), I saw NYA and BOS are classified as best teams in AL. When we look their rankings cumulativlely, NYA keeps first places throughtout years. However, CLE and BOS are very close to eachother. This takes me the next question. Why CLE is not classified in best teams ? I will look at different metrics such as 2B,3B hits scores and number of world series winnigs to find an explanation to article's choice of best team. "
      ]
    },
    {
      "cell_type": "code",
      "metadata": {
        "id": "j5JZOFWiRN5h",
        "colab_type": "code",
        "colab": {
          "base_uri": "https://localhost:8080/",
          "height": 190
        },
        "outputId": "6186b6e7-d63c-48bc-ec9c-446e7852920c"
      },
      "source": [
        "new_teams = ['BOS','CLE']\n",
        "BOS_CLE = selected_teams_AL[selected_teams_AL['teamID'].isin(new_teams)]\n",
        "\n",
        "year_group = pd.cut(BOS_CLE['yearID'], [1994, 2005, 2015])\n",
        "print(\"2B-3B Scores Table\")\n",
        "pd.pivot_table(BOS_CLE, values=['2B','3B'], index=year_group, columns=['name'], aggfunc=np.sum)"
      ],
      "execution_count": 16,
      "outputs": [
        {
          "output_type": "stream",
          "text": [
            "2B-3B Scores Table\n"
          ],
          "name": "stdout"
        },
        {
          "output_type": "execute_result",
          "data": {
            "text/html": [
              "<div>\n",
              "<style scoped>\n",
              "    .dataframe tbody tr th:only-of-type {\n",
              "        vertical-align: middle;\n",
              "    }\n",
              "\n",
              "    .dataframe tbody tr th {\n",
              "        vertical-align: top;\n",
              "    }\n",
              "\n",
              "    .dataframe thead tr th {\n",
              "        text-align: left;\n",
              "    }\n",
              "\n",
              "    .dataframe thead tr:last-of-type th {\n",
              "        text-align: right;\n",
              "    }\n",
              "</style>\n",
              "<table border=\"1\" class=\"dataframe\">\n",
              "  <thead>\n",
              "    <tr>\n",
              "      <th></th>\n",
              "      <th colspan=\"2\" halign=\"left\">2B</th>\n",
              "      <th colspan=\"2\" halign=\"left\">3B</th>\n",
              "    </tr>\n",
              "    <tr>\n",
              "      <th>name</th>\n",
              "      <th>Boston Red Sox</th>\n",
              "      <th>Cleveland Indians</th>\n",
              "      <th>Boston Red Sox</th>\n",
              "      <th>Cleveland Indians</th>\n",
              "    </tr>\n",
              "    <tr>\n",
              "      <th>yearID</th>\n",
              "      <th></th>\n",
              "      <th></th>\n",
              "      <th></th>\n",
              "      <th></th>\n",
              "    </tr>\n",
              "  </thead>\n",
              "  <tbody>\n",
              "    <tr>\n",
              "      <th>(1994, 2005]</th>\n",
              "      <td>3702</td>\n",
              "      <td>3395</td>\n",
              "      <td>351</td>\n",
              "      <td>308</td>\n",
              "    </tr>\n",
              "    <tr>\n",
              "      <th>(2005, 2015]</th>\n",
              "      <td>3355</td>\n",
              "      <td>3032</td>\n",
              "      <td>264</td>\n",
              "      <td>249</td>\n",
              "    </tr>\n",
              "  </tbody>\n",
              "</table>\n",
              "</div>"
            ],
            "text/plain": [
              "                         2B                               3B                  \n",
              "name         Boston Red Sox Cleveland Indians Boston Red Sox Cleveland Indians\n",
              "yearID                                                                        \n",
              "(1994, 2005]           3702              3395            351               308\n",
              "(2005, 2015]           3355              3032            264               249"
            ]
          },
          "metadata": {
            "tags": []
          },
          "execution_count": 16
        }
      ]
    },
    {
      "cell_type": "markdown",
      "metadata": {
        "id": "OzSEE5kqifA4",
        "colab_type": "text"
      },
      "source": [
        "When we look at the 2B-3B Scores table, we see 3B are rare. 2B's are more comman. Let's look deeper to triple scores in each team. With the help of histograms, it looks like Boston Red Sox are more likely to have higher 3B scores. Comparing it with 2B scores, now we are sure 3B scores are extremely rare."
      ]
    },
    {
      "cell_type": "code",
      "metadata": {
        "id": "B7_yOqLmk3Oe",
        "colab_type": "code",
        "colab": {
          "base_uri": "https://localhost:8080/",
          "height": 432
        },
        "outputId": "27ff40f4-f60a-4710-f371-f867f2a3e908"
      },
      "source": [
        "fig, (ax1,ax2) = plt.subplots(ncols=2, figsize=(18, 6), sharex=True)\n",
        "\n",
        "\n",
        "sns.distplot(BOS_CLE[BOS_CLE['teamID']=='CLE']['3B'], ax=ax1)\n",
        "ax1.set(title='Cleveland Indians 3B Scores Histogram')\n",
        "\n",
        "sns.distplot(BOS_CLE[BOS_CLE['teamID']=='BOS']['3B'],ax=ax2)\n",
        "ax2.set(title = 'Boston Red Sox 3B Scores Histogram')"
      ],
      "execution_count": 17,
      "outputs": [
        {
          "output_type": "execute_result",
          "data": {
            "text/plain": [
              "[Text(0.5, 1.0, 'Boston Red Sox 3B Scores Histogram')]"
            ]
          },
          "metadata": {
            "tags": []
          },
          "execution_count": 17
        },
        {
          "output_type": "display_data",
          "data": {
            "image/png": "[encoded data removed]",
            "text/plain": [
              "<Figure size 1296x432 with 2 Axes>"
            ]
          },
          "metadata": {
            "tags": []
          }
        }
      ]
    },
    {
      "cell_type": "markdown",
      "metadata": {
        "id": "f95Asc7HmJeI",
        "colab_type": "text"
      },
      "source": [
        "What about hits and wins columns ? I learnt that hits are very important to win. Can hits have a relevant relationship with wins ?"
      ]
    },
    {
      "cell_type": "code",
      "metadata": {
        "id": "vd_EfB-LSHgD",
        "colab_type": "code",
        "colab": {}
      },
      "source": [
        "#sns.pairplot(BOS_CLE)"
      ],
      "execution_count": 0,
      "outputs": []
    },
    {
      "cell_type": "code",
      "metadata": {
        "id": "zPyU7poyT-E-",
        "colab_type": "code",
        "colab": {
          "base_uri": "https://localhost:8080/",
          "height": 357
        },
        "outputId": "125f0f8f-5be7-45b0-cee1-213de5010413"
      },
      "source": [
        "plt.title(\"Wins - Hits Scatter Plot for Boston Red Sox and Cleveland Indians\")\n",
        "sns.scatterplot(x=\"H\", y=\"W\",hue='teamID',data=BOS_CLE)\n",
        "plt.xlabel(\"Wins\")\n",
        "plt.ylabel(\"Hits\")\n",
        "\n",
        "print(\"The correlation between wins and hits by batters in BOS and CLE is {}\".format(stats.pearsonr(BOS_CLE['W'], BOS_CLE['H'])))\n",
        "print(\"We can say that we have a small p-value and there is a significant correlation between wins and hits by batters.It is important to have hits\")\n",
        "print(\"But still, it doesn't show a difference between BOS and CLE. Both teams show similar performances.\")"
      ],
      "execution_count": 19,
      "outputs": [
        {
          "output_type": "stream",
          "text": [
            "The correlation between wins and hits by batters in BOS and CLE is (0.5612918760928449, 0.00011015016371048281)\n",
            "We can say that we have a small p-value and there is a significant correlation between wins and hits by batters.It is important to have hits\n",
            "But still, it doesn't show a difference between BOS and CLE. Both teams show similar performances.\n"
          ],
          "name": "stdout"
        },
        {
          "output_type": "display_data",
          "data": {
            "image/png": "[encoded data removed]",
            "text/plain": [
              "<Figure size 432x288 with 1 Axes>"
            ]
          },
          "metadata": {
            "tags": []
          }
        }
      ]
    },
    {
      "cell_type": "markdown",
      "metadata": {
        "id": "to6GhzjeIrZO",
        "colab_type": "text"
      },
      "source": [
        "One thing I know from baseball is that winning World Series is a huge thing. I moved to D.C. 4 months ago and D.C. won WS for the first time. For a day, they closed the roads for a parade. Let's see who has more winning in world series."
      ]
    },
    {
      "cell_type": "code",
      "metadata": {
        "id": "1q7d_x2qyasZ",
        "colab_type": "code",
        "colab": {
          "base_uri": "https://localhost:8080/",
          "height": 173
        },
        "outputId": "58ed7c5f-c5c1-4299-f35c-614cda1f6029"
      },
      "source": [
        "pd.DataFrame(BOS_CLE.groupby('teamID')['WSWin'].value_counts())"
      ],
      "execution_count": 20,
      "outputs": [
        {
          "output_type": "execute_result",
          "data": {
            "text/html": [
              "<div>\n",
              "<style scoped>\n",
              "    .dataframe tbody tr th:only-of-type {\n",
              "        vertical-align: middle;\n",
              "    }\n",
              "\n",
              "    .dataframe tbody tr th {\n",
              "        vertical-align: top;\n",
              "    }\n",
              "\n",
              "    .dataframe thead th {\n",
              "        text-align: right;\n",
              "    }\n",
              "</style>\n",
              "<table border=\"1\" class=\"dataframe\">\n",
              "  <thead>\n",
              "    <tr style=\"text-align: right;\">\n",
              "      <th></th>\n",
              "      <th></th>\n",
              "      <th>WSWin</th>\n",
              "    </tr>\n",
              "    <tr>\n",
              "      <th>teamID</th>\n",
              "      <th>WSWin</th>\n",
              "      <th></th>\n",
              "    </tr>\n",
              "  </thead>\n",
              "  <tbody>\n",
              "    <tr>\n",
              "      <th rowspan=\"2\" valign=\"top\">BOS</th>\n",
              "      <th>N</th>\n",
              "      <td>18</td>\n",
              "    </tr>\n",
              "    <tr>\n",
              "      <th>Y</th>\n",
              "      <td>3</td>\n",
              "    </tr>\n",
              "    <tr>\n",
              "      <th>CLE</th>\n",
              "      <th>N</th>\n",
              "      <td>21</td>\n",
              "    </tr>\n",
              "  </tbody>\n",
              "</table>\n",
              "</div>"
            ],
            "text/plain": [
              "              WSWin\n",
              "teamID WSWin       \n",
              "BOS    N         18\n",
              "       Y          3\n",
              "CLE    N         21"
            ]
          },
          "metadata": {
            "tags": []
          },
          "execution_count": 20
        }
      ]
    },
    {
      "cell_type": "markdown",
      "metadata": {
        "id": "IHs6M1H1MBR1",
        "colab_type": "text"
      },
      "source": [
        "We can see from the dataframe Boston Red Sox has 3 WS winning. Even though their rankings are similar, there is one sure thing that winning a world series brings the fame.Also, having more 3B scores helped to build this fame too. The writer of the article has a right to say that Boston Rex Sox is one of the best teams."
      ]
    },
    {
      "cell_type": "markdown",
      "metadata": {
        "id": "ujSp4YmTmEXL",
        "colab_type": "text"
      },
      "source": [
        "**Choose any two of the variables from 3. Draw 1,000 samples, taking the mean of 100 observations each time. \n",
        "Plot the frequencies of the sample means. What distribution does this appear to follow?\n",
        "Hint: df['col'].sample(n=50) will draw 50 random observations from df['col'].**"
      ]
    },
    {
      "cell_type": "code",
      "metadata": {
        "id": "wjPuzCoE8ZD6",
        "colab_type": "code",
        "colab": {
          "base_uri": "https://localhost:8080/",
          "height": 431
        },
        "outputId": "2d09fb71-ced8-4c8a-9a39-57ee6d5a3f27"
      },
      "source": [
        "results = []\n",
        "for num_trials in range(1,1000):\n",
        "    trials = teams_1995['W'].sample(n=100)\n",
        "    mean_of_trials = trials.mean()\n",
        "    results.append(mean_of_trials)\n",
        "\t\n",
        "df = pd.DataFrame({ 'trials' : results})\n",
        "#sns.set()\n",
        "sns.set(style='white', font_scale=1)\n",
        "\n",
        "fig, axs = plt.subplots(2,1, figsize=(5, 7))\n",
        "df.plot(ax=axs[0])\n",
        "\n",
        "\n",
        "plt.title(\"Wins Sample Means Histogram\")\n",
        "means = [teams_1995['W'].sample(n=100).mean() for _ in range(1000)]\n",
        "a1 = plt.hist(means)"
      ],
      "execution_count": 21,
      "outputs": [
        {
          "output_type": "display_data",
          "data": {
            "image/png": "[encoded data removed]",
            "text/plain": [
              "<Figure size 360x504 with 2 Axes>"
            ]
          },
          "metadata": {
            "tags": []
          }
        }
      ]
    },
    {
      "cell_type": "markdown",
      "metadata": {
        "id": "jOLLqXVhAsP7",
        "colab_type": "text"
      },
      "source": [
        "*The resulting histogram is normally distributed around a mean of approximately 80.5 as we expected from Central Limit Thm.*"
      ]
    },
    {
      "cell_type": "code",
      "metadata": {
        "id": "w2gPH8Dv8wqz",
        "colab_type": "code",
        "colab": {
          "base_uri": "https://localhost:8080/",
          "height": 499
        },
        "outputId": "9f135826-fe7e-43a6-de37-1dca525cf596"
      },
      "source": [
        "results_2 = []\n",
        "for num_trials in range(1,1000):\n",
        "    trials = teams_1995['ERA'].sample(n=100)\n",
        "    mean_of_trials = trials.mean()\n",
        "    results_2.append(mean_of_trials)\n",
        "\t\n",
        "df2 = pd.DataFrame({ 'trials' : results_2})\n",
        "fig, axs = plt.subplots(2,1, figsize=(5, 7))\n",
        "df2.plot(ax=axs[0])\n",
        "\n",
        "means_2 = [teams_1995['ERA'].sample(n=100).mean() for _ in range(1000)]\n",
        "plt.hist(means_2)"
      ],
      "execution_count": 22,
      "outputs": [
        {
          "output_type": "execute_result",
          "data": {
            "text/plain": [
              "(array([  4.,  17.,  64., 155., 250., 242., 169.,  69.,  26.,   4.]),\n",
              " array([4.1274 , 4.16151, 4.19562, 4.22973, 4.26384, 4.29795, 4.33206,\n",
              "        4.36617, 4.40028, 4.43439, 4.4685 ]),\n",
              " <a list of 10 Patch objects>)"
            ]
          },
          "metadata": {
            "tags": []
          },
          "execution_count": 22
        },
        {
          "output_type": "display_data",
          "data": {
            "image/png": "[encoded data removed]",
            "text/plain": [
              "<Figure size 360x504 with 2 Axes>"
            ]
          },
          "metadata": {
            "tags": []
          }
        }
      ]
    },
    {
      "cell_type": "markdown",
      "metadata": {
        "id": "cppUrPpyZFjK",
        "colab_type": "text"
      },
      "source": [
        "*The resulting histogram is normally distributed around a mean of approximately 4.3 as we expected from Central Limit Thm.*"
      ]
    },
    {
      "cell_type": "code",
      "metadata": {
        "id": "Qfeyg3D9CYku",
        "colab_type": "code",
        "colab": {}
      },
      "source": [
        ""
      ],
      "execution_count": 0,
      "outputs": []
    }
  ]
}