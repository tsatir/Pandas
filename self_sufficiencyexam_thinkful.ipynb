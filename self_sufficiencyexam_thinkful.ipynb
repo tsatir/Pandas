{
  "nbformat": 4,
  "nbformat_minor": 0,
  "metadata": {
    "colab": {
      "name": "self_sufficiencyexam_thinkful.ipynb",
      "provenance": [],
      "collapsed_sections": []
    },
    "kernelspec": {
      "name": "python3",
      "display_name": "Python 3"
    }
  },
  "cells": [
    {
      "cell_type": "markdown",
      "metadata": {
        "id": "QteK0iqt1j_j",
        "colab_type": "text"
      },
      "source": [
        "**Create a function that reverses a string. For example, given the string \"forward\", your function should return \"drawrof\". Assume all inputs are strings.**"
      ]
    },
    {
      "cell_type": "code",
      "metadata": {
        "id": "U3mCLRwC1kz3",
        "colab_type": "code",
        "colab": {}
      },
      "source": [
        "def reverse_string(xx):\n",
        "    z = ''\n",
        "    for i in xx:\n",
        "      z = i + z\n",
        "    return(z)"
      ],
      "execution_count": 0,
      "outputs": []
    },
    {
      "cell_type": "code",
      "metadata": {
        "id": "OLeC66aq16mO",
        "colab_type": "code",
        "outputId": "7ea9be67-23cb-47e8-dc6e-fe0548918dcc",
        "colab": {
          "base_uri": "https://localhost:8080/",
          "height": 34
        }
      },
      "source": [
        "reverse_string('tugce')"
      ],
      "execution_count": 0,
      "outputs": [
        {
          "output_type": "execute_result",
          "data": {
            "text/plain": [
              "'ecgut'"
            ]
          },
          "metadata": {
            "tags": []
          },
          "execution_count": 2
        }
      ]
    },
    {
      "cell_type": "markdown",
      "metadata": {
        "id": "KvzXGAD0AYLk",
        "colab_type": "text"
      },
      "source": [
        "**Complete the function below that can be used to calculate and return the posterior probability of an event A, given the known outcome of Event B using Bayes Theorem:**"
      ]
    },
    {
      "cell_type": "code",
      "metadata": {
        "id": "ogs_mACU_qJw",
        "colab_type": "code",
        "colab": {}
      },
      "source": [
        "def bayes(a, b_given_a, b_given_not_a):\n",
        "\n",
        "    \"\"\"\n",
        "    Calculates P(A | B) using bayes theorem.\n",
        "\n",
        "    Args:\n",
        "        a: P(A)\n",
        "        b_given_a: P(B | A)\n",
        "        b_given_not_a: P(B | ~A)\n",
        "\n",
        "    Returns:\n",
        "        P(A | B)\n",
        "    \"\"\"\n",
        "    return (b_given_a * a)/((a*b_given_a)+((1-a)*b_given_not_a))"
      ],
      "execution_count": 0,
      "outputs": []
    },
    {
      "cell_type": "markdown",
      "metadata": {
        "id": "3dUvCKs0T3ll",
        "colab_type": "text"
      },
      "source": [
        "**Analyze the teams dataset from the Lahman baseball records. This dataset contains season statistics for each Major League Baseball team.**\n",
        "\n",
        "**a. For all records since 1995, plot histograms for the following variables. Which distribution do they appear to follow, given their meaning?**\n",
        "\n",
        " - Stolen bases per game\n",
        " - Wins\n",
        " - Earned run average\n",
        "\n",
        "\n",
        "**b. Conduct some further exploratory data analysis on this dataset. Consider qualities like distributions, correlations and trends over time. Try to find something interesting to say about the data, and use visualizations to support your argument.**\n",
        "\n",
        "- https://rdrr.io/rforge/Lahman/man/Teams.html"
      ]
    },
    {
      "cell_type": "code",
      "metadata": {
        "id": "FJtGLsFrTqw6",
        "colab_type": "code",
        "colab": {}
      },
      "source": [
        "import pandas as pd\n",
        "import numpy as np\n",
        "import seaborn as sns\n",
        "import matplotlib.pyplot as plt\n",
        "from scipy import stats"
      ],
      "execution_count": 0,
      "outputs": []
    },
    {
      "cell_type": "code",
      "metadata": {
        "id": "6kWcThELTx9Z",
        "colab_type": "code",
        "colab": {}
      },
      "source": [
        "teams = pd.read_csv('https://tf-assets-prod.s3.amazonaws.com/tf-curric/data-science/lahman-teams.csv')"
      ],
      "execution_count": 0,
      "outputs": []
    },
    {
      "cell_type": "code",
      "metadata": {
        "id": "au7xDEPOUHGG",
        "colab_type": "code",
        "outputId": "25783ea8-4e0a-40a0-98ee-f7bea8795d6f",
        "colab": {
          "base_uri": "https://localhost:8080/",
          "height": 233
        }
      },
      "source": [
        "#teams.describe()\n",
        "#teams.info()\n",
        "teams.head(2)\n"
      ],
      "execution_count": 0,
      "outputs": [
        {
          "output_type": "execute_result",
          "data": {
            "text/html": [
              "<div>\n",
              "<style scoped>\n",
              "    .dataframe tbody tr th:only-of-type {\n",
              "        vertical-align: middle;\n",
              "    }\n",
              "\n",
              "    .dataframe tbody tr th {\n",
              "        vertical-align: top;\n",
              "    }\n",
              "\n",
              "    .dataframe thead th {\n",
              "        text-align: right;\n",
              "    }\n",
              "</style>\n",
              "<table border=\"1\" class=\"dataframe\">\n",
              "  <thead>\n",
              "    <tr style=\"text-align: right;\">\n",
              "      <th></th>\n",
              "      <th>yearID</th>\n",
              "      <th>lgID</th>\n",
              "      <th>teamID</th>\n",
              "      <th>franchID</th>\n",
              "      <th>divID</th>\n",
              "      <th>Rank</th>\n",
              "      <th>G</th>\n",
              "      <th>Ghome</th>\n",
              "      <th>W</th>\n",
              "      <th>L</th>\n",
              "      <th>DivWin</th>\n",
              "      <th>WCWin</th>\n",
              "      <th>LgWin</th>\n",
              "      <th>WSWin</th>\n",
              "      <th>R</th>\n",
              "      <th>AB</th>\n",
              "      <th>H</th>\n",
              "      <th>2B</th>\n",
              "      <th>3B</th>\n",
              "      <th>HR</th>\n",
              "      <th>BB</th>\n",
              "      <th>SO</th>\n",
              "      <th>SB</th>\n",
              "      <th>CS</th>\n",
              "      <th>HBP</th>\n",
              "      <th>SF</th>\n",
              "      <th>RA</th>\n",
              "      <th>ER</th>\n",
              "      <th>ERA</th>\n",
              "      <th>CG</th>\n",
              "      <th>SHO</th>\n",
              "      <th>SV</th>\n",
              "      <th>IPouts</th>\n",
              "      <th>HA</th>\n",
              "      <th>HRA</th>\n",
              "      <th>BBA</th>\n",
              "      <th>SOA</th>\n",
              "      <th>E</th>\n",
              "      <th>DP</th>\n",
              "      <th>FP</th>\n",
              "      <th>name</th>\n",
              "      <th>park</th>\n",
              "      <th>attendance</th>\n",
              "      <th>BPF</th>\n",
              "      <th>PPF</th>\n",
              "      <th>teamIDBR</th>\n",
              "      <th>teamIDlahman45</th>\n",
              "      <th>teamIDretro</th>\n",
              "    </tr>\n",
              "  </thead>\n",
              "  <tbody>\n",
              "    <tr>\n",
              "      <th>0</th>\n",
              "      <td>1871</td>\n",
              "      <td>NaN</td>\n",
              "      <td>BS1</td>\n",
              "      <td>BNA</td>\n",
              "      <td>NaN</td>\n",
              "      <td>3</td>\n",
              "      <td>31</td>\n",
              "      <td>NaN</td>\n",
              "      <td>20</td>\n",
              "      <td>10</td>\n",
              "      <td>NaN</td>\n",
              "      <td>NaN</td>\n",
              "      <td>N</td>\n",
              "      <td>NaN</td>\n",
              "      <td>401</td>\n",
              "      <td>1372</td>\n",
              "      <td>426</td>\n",
              "      <td>70</td>\n",
              "      <td>37</td>\n",
              "      <td>3</td>\n",
              "      <td>60</td>\n",
              "      <td>19.0</td>\n",
              "      <td>73.0</td>\n",
              "      <td>NaN</td>\n",
              "      <td>NaN</td>\n",
              "      <td>NaN</td>\n",
              "      <td>303</td>\n",
              "      <td>109</td>\n",
              "      <td>3.55</td>\n",
              "      <td>22</td>\n",
              "      <td>1</td>\n",
              "      <td>3</td>\n",
              "      <td>828</td>\n",
              "      <td>367</td>\n",
              "      <td>2</td>\n",
              "      <td>42</td>\n",
              "      <td>23</td>\n",
              "      <td>225</td>\n",
              "      <td>NaN</td>\n",
              "      <td>0.83</td>\n",
              "      <td>Boston Red Stockings</td>\n",
              "      <td>South End Grounds I</td>\n",
              "      <td>NaN</td>\n",
              "      <td>103</td>\n",
              "      <td>98</td>\n",
              "      <td>BOS</td>\n",
              "      <td>BS1</td>\n",
              "      <td>BS1</td>\n",
              "    </tr>\n",
              "    <tr>\n",
              "      <th>1</th>\n",
              "      <td>1871</td>\n",
              "      <td>NaN</td>\n",
              "      <td>CH1</td>\n",
              "      <td>CNA</td>\n",
              "      <td>NaN</td>\n",
              "      <td>2</td>\n",
              "      <td>28</td>\n",
              "      <td>NaN</td>\n",
              "      <td>19</td>\n",
              "      <td>9</td>\n",
              "      <td>NaN</td>\n",
              "      <td>NaN</td>\n",
              "      <td>N</td>\n",
              "      <td>NaN</td>\n",
              "      <td>302</td>\n",
              "      <td>1196</td>\n",
              "      <td>323</td>\n",
              "      <td>52</td>\n",
              "      <td>21</td>\n",
              "      <td>10</td>\n",
              "      <td>60</td>\n",
              "      <td>22.0</td>\n",
              "      <td>69.0</td>\n",
              "      <td>NaN</td>\n",
              "      <td>NaN</td>\n",
              "      <td>NaN</td>\n",
              "      <td>241</td>\n",
              "      <td>77</td>\n",
              "      <td>2.76</td>\n",
              "      <td>25</td>\n",
              "      <td>0</td>\n",
              "      <td>1</td>\n",
              "      <td>753</td>\n",
              "      <td>308</td>\n",
              "      <td>6</td>\n",
              "      <td>28</td>\n",
              "      <td>22</td>\n",
              "      <td>218</td>\n",
              "      <td>NaN</td>\n",
              "      <td>0.82</td>\n",
              "      <td>Chicago White Stockings</td>\n",
              "      <td>Union Base-Ball Grounds</td>\n",
              "      <td>NaN</td>\n",
              "      <td>104</td>\n",
              "      <td>102</td>\n",
              "      <td>CHI</td>\n",
              "      <td>CH1</td>\n",
              "      <td>CH1</td>\n",
              "    </tr>\n",
              "  </tbody>\n",
              "</table>\n",
              "</div>"
            ],
            "text/plain": [
              "   yearID lgID teamID franchID  ...  PPF  teamIDBR  teamIDlahman45  teamIDretro\n",
              "0    1871  NaN    BS1      BNA  ...   98       BOS             BS1          BS1\n",
              "1    1871  NaN    CH1      CNA  ...  102       CHI             CH1          CH1\n",
              "\n",
              "[2 rows x 48 columns]"
            ]
          },
          "metadata": {
            "tags": []
          },
          "execution_count": 6
        }
      ]
    },
    {
      "cell_type": "code",
      "metadata": {
        "id": "2Gvv5c4lVuOh",
        "colab_type": "code",
        "outputId": "40db36b2-fd57-42fc-ebae-bd381528767f",
        "colab": {
          "base_uri": "https://localhost:8080/",
          "height": 297
        }
      },
      "source": [
        "teams_1995 = teams[teams['yearID']>= 1995]\n",
        "teams_1995[['SB','W','ERA']].describe()"
      ],
      "execution_count": 0,
      "outputs": [
        {
          "output_type": "execute_result",
          "data": {
            "text/html": [
              "<div>\n",
              "<style scoped>\n",
              "    .dataframe tbody tr th:only-of-type {\n",
              "        vertical-align: middle;\n",
              "    }\n",
              "\n",
              "    .dataframe tbody tr th {\n",
              "        vertical-align: top;\n",
              "    }\n",
              "\n",
              "    .dataframe thead th {\n",
              "        text-align: right;\n",
              "    }\n",
              "</style>\n",
              "<table border=\"1\" class=\"dataframe\">\n",
              "  <thead>\n",
              "    <tr style=\"text-align: right;\">\n",
              "      <th></th>\n",
              "      <th>SB</th>\n",
              "      <th>W</th>\n",
              "      <th>ERA</th>\n",
              "    </tr>\n",
              "  </thead>\n",
              "  <tbody>\n",
              "    <tr>\n",
              "      <th>count</th>\n",
              "      <td>624.000000</td>\n",
              "      <td>624.000000</td>\n",
              "      <td>624.000000</td>\n",
              "    </tr>\n",
              "    <tr>\n",
              "      <th>mean</th>\n",
              "      <td>98.673077</td>\n",
              "      <td>80.560897</td>\n",
              "      <td>4.301603</td>\n",
              "    </tr>\n",
              "    <tr>\n",
              "      <th>std</th>\n",
              "      <td>31.800727</td>\n",
              "      <td>11.505856</td>\n",
              "      <td>0.554768</td>\n",
              "    </tr>\n",
              "    <tr>\n",
              "      <th>min</th>\n",
              "      <td>31.000000</td>\n",
              "      <td>43.000000</td>\n",
              "      <td>2.940000</td>\n",
              "    </tr>\n",
              "    <tr>\n",
              "      <th>25%</th>\n",
              "      <td>73.000000</td>\n",
              "      <td>72.000000</td>\n",
              "      <td>3.907500</td>\n",
              "    </tr>\n",
              "    <tr>\n",
              "      <th>50%</th>\n",
              "      <td>96.000000</td>\n",
              "      <td>80.000000</td>\n",
              "      <td>4.280000</td>\n",
              "    </tr>\n",
              "    <tr>\n",
              "      <th>75%</th>\n",
              "      <td>119.000000</td>\n",
              "      <td>90.000000</td>\n",
              "      <td>4.690000</td>\n",
              "    </tr>\n",
              "    <tr>\n",
              "      <th>max</th>\n",
              "      <td>201.000000</td>\n",
              "      <td>116.000000</td>\n",
              "      <td>6.380000</td>\n",
              "    </tr>\n",
              "  </tbody>\n",
              "</table>\n",
              "</div>"
            ],
            "text/plain": [
              "               SB           W         ERA\n",
              "count  624.000000  624.000000  624.000000\n",
              "mean    98.673077   80.560897    4.301603\n",
              "std     31.800727   11.505856    0.554768\n",
              "min     31.000000   43.000000    2.940000\n",
              "25%     73.000000   72.000000    3.907500\n",
              "50%     96.000000   80.000000    4.280000\n",
              "75%    119.000000   90.000000    4.690000\n",
              "max    201.000000  116.000000    6.380000"
            ]
          },
          "metadata": {
            "tags": []
          },
          "execution_count": 7
        }
      ]
    },
    {
      "cell_type": "code",
      "metadata": {
        "id": "P98vVY9OYpts",
        "colab_type": "code",
        "outputId": "04164483-71bb-461d-c9f2-cab0280372aa",
        "colab": {
          "base_uri": "https://localhost:8080/",
          "height": 312
        }
      },
      "source": [
        "stolen_bases_per_game = sns.distplot(teams_1995['SB'])\n",
        "stolen_bases_per_game.set(title='Stolen Bases Histogram')"
      ],
      "execution_count": 0,
      "outputs": [
        {
          "output_type": "execute_result",
          "data": {
            "text/plain": [
              "[Text(0.5, 1.0, 'Stolen Bases per Game Histogram')]"
            ]
          },
          "metadata": {
            "tags": []
          },
          "execution_count": 17
        },
        {
          "output_type": "display_data",
          "data": {
            "image/png": "[encoded data removed]",
            "text/plain": [
              "<Figure size 432x288 with 1 Axes>"
            ]
          },
          "metadata": {
            "tags": []
          }
        }
      ]
    },
    {
      "cell_type": "markdown",
      "metadata": {
        "id": "XmprtVVZHEk3",
        "colab_type": "text"
      },
      "source": [
        "*The stolen bases distribution looks like a poisson distribution which represents the number of times a given event will occur during a given time interval. Data can range from 0 to approaching .*"
      ]
    },
    {
      "cell_type": "code",
      "metadata": {
        "id": "mH65mKyVbvXI",
        "colab_type": "code",
        "outputId": "2768811b-352f-4140-8b6f-ca3c2205b607",
        "colab": {
          "base_uri": "https://localhost:8080/",
          "height": 312
        }
      },
      "source": [
        "wins = sns.distplot(teams_1995['W'])\n",
        "wins.set(title = 'Wins Histogram')\n",
        "wins.set(xlabel='Wins')"
      ],
      "execution_count": 0,
      "outputs": [
        {
          "output_type": "execute_result",
          "data": {
            "text/plain": [
              "[Text(0.5, 0, 'Wins')]"
            ]
          },
          "metadata": {
            "tags": []
          },
          "execution_count": 10
        },
        {
          "output_type": "display_data",
          "data": {
            "image/png": "[encoded data removed]",
            "text/plain": [
              "<Figure size 432x288 with 1 Axes>"
            ]
          },
          "metadata": {
            "tags": []
          }
        }
      ]
    },
    {
      "cell_type": "markdown",
      "metadata": {
        "id": "9Z8patuAyu4d",
        "colab_type": "text"
      },
      "source": [
        "Wins histogram looks like a normal distribution."
      ]
    },
    {
      "cell_type": "code",
      "metadata": {
        "id": "oofJ0a-ob5VN",
        "colab_type": "code",
        "outputId": "4d4b4d70-f1d8-4b5c-930b-330dad19749b",
        "colab": {
          "base_uri": "https://localhost:8080/",
          "height": 312
        }
      },
      "source": [
        "earned_run_avg = sns.distplot(teams_1995['ERA'])\n",
        "earned_run_avg.set(title='Earned Run Average Histogram')"
      ],
      "execution_count": 0,
      "outputs": [
        {
          "output_type": "execute_result",
          "data": {
            "text/plain": [
              "[Text(0.5, 1.0, 'Earned Run Average Histogram')]"
            ]
          },
          "metadata": {
            "tags": []
          },
          "execution_count": 11
        },
        {
          "output_type": "display_data",
          "data": {
            "image/png": "[encoded data removed]",
            "text/plain": [
              "<Figure size 432x288 with 1 Axes>"
            ]
          },
          "metadata": {
            "tags": []
          }
        }
      ]
    },
    {
      "cell_type": "markdown",
      "metadata": {
        "id": "wlm3BakPHXQC",
        "colab_type": "text"
      },
      "source": [
        "*ERA histogram looks like a  \"normal,\" or \"normally distributed,\". Most values cluster in the center of the range, with the rest tapering off symmetrically to the left and the right.*"
      ]
    },
    {
      "cell_type": "markdown",
      "metadata": {
        "id": "RGJupW2vHtZv",
        "colab_type": "text"
      },
      "source": [
        "**b. Conduct some further exploratory data analysis on this dataset. Consider qualities like distributions, correlations and trends over time. Try to find something interesting to say about the data, and use visualizations to support your argument.**"
      ]
    },
    {
      "cell_type": "code",
      "metadata": {
        "id": "1wgR0y4bD4al",
        "colab_type": "code",
        "colab": {}
      },
      "source": [
        "teams_AL = teams[(teams['lgID']=='AL') & (teams['yearID']>=1995)]\n",
        "teams_NL = teams[(teams['lgID']=='NL') & (teams['yearID']>=1995)]"
      ],
      "execution_count": 0,
      "outputs": []
    },
    {
      "cell_type": "markdown",
      "metadata": {
        "id": "cwTNDl1WTL8u",
        "colab_type": "text"
      },
      "source": [
        "I am new to United States and to be honest I don't know anything about baseball. During this short time I tried to learn but I did't like it and there are so many rules to understand, baseball analytics is another big field:) . So, in order to make everything more clearer for me I divide dataset according to their leagues and chose teams that have similar rankings (CLE, BOS), best ranking (NYY) and two worst rankings (TEX,TOR)"
      ]
    },
    {
      "cell_type": "code",
      "metadata": {
        "id": "l3U--WZcOgKx",
        "colab_type": "code",
        "colab": {}
      },
      "source": [
        "selected_teams = ['NYY', 'CLE', 'BOS','TEX','TOR']\n",
        "selected_teams_AL = teams_AL.loc[teams_AL['teamIDBR'].isin(selected_teams)]"
      ],
      "execution_count": 0,
      "outputs": []
    },
    {
      "cell_type": "code",
      "metadata": {
        "id": "ZMCibwWD6hfu",
        "colab_type": "code",
        "colab": {}
      },
      "source": [
        "selected_teams_AL.head()\n",
        "#selected_teams_AL.info()"
      ],
      "execution_count": 0,
      "outputs": []
    },
    {
      "cell_type": "code",
      "metadata": {
        "id": "zLlbYE3q8HTa",
        "colab_type": "code",
        "colab": {}
      },
      "source": [
        "selected_teams_AL['Rank_all'] = selected_teams_AL.groupby(['teamID'])['Rank'].cumsum()\n",
        "\n",
        "selected_teams = ['NYA', 'CLE', 'BOS','TEX','TOR']\n",
        "\n",
        "NYA = selected_teams_AL[selected_teams_AL['teamID'] == 'NYA']\n",
        "NYA['New York Yankees'] = NYA['Rank'].cumsum()\n",
        "\n",
        "CLE = selected_teams_AL[selected_teams_AL['teamID'] == 'CLE']\n",
        "CLE['Cleveland Indians'] = CLE['Rank'].cumsum()\n",
        "\n",
        "BOS = selected_teams_AL[selected_teams_AL['teamID'] == 'BOS']\n",
        "BOS['Boston Red Sox'] = BOS['Rank'].cumsum()\n",
        "\n",
        "TEX = selected_teams_AL[selected_teams_AL['teamID'] == 'TEX']\n",
        "TEX['Texas Rangers'] = TEX['Rank'].cumsum()\n",
        "\n",
        "TOR = selected_teams_AL[selected_teams_AL['teamID'] == 'TOR']\n",
        "TOR['Toronto Blue Jays'] = TOR['Rank'].cumsum()"
      ],
      "execution_count": 0,
      "outputs": []
    },
    {
      "cell_type": "code",
      "metadata": {
        "id": "ZAI9_izhxZWV",
        "colab_type": "code",
        "colab": {}
      },
      "source": [
        "sns.set(style='white', font_scale=1.2)\n",
        "plt.figure(figsize = (11,8))\n",
        "ax = plt.gca(title = 'Cumulative Rankings of Teams through Years')\n",
        "NYA.plot(kind='line',x='yearID',y='New York Yankees',ax=ax, )\n",
        "CLE.plot(kind='line',x='yearID',y='Cleveland Indians',ax=ax)\n",
        "BOS.plot(kind='line',x='yearID',y='Boston Red Sox',ax=ax)\n",
        "TEX.plot(kind='line',x='yearID',y='Texas Rangers',ax=ax)\n",
        "TOR.plot(kind='line',x='yearID',y='Toronto Blue Jays',ax=ax)\n",
        "ax.locator_params(integer=True)\n",
        "plt.xlabel('Year 1995 - 2015')\n",
        "\n",
        "plt.show()"
      ],
      "execution_count": 0,
      "outputs": []
    },
    {
      "cell_type": "markdown",
      "metadata": {
        "id": "zRdFWXj4Ikxi",
        "colab_type": "text"
      },
      "source": [
        "After a quick search online(https://www.electro-mech.com/team-sports/baseball/the-greatest-5-baseball-teams-in-the-us/), I saw NYA and BOS are classified as best teams in AL. When we look their rankings cumulativlely, NYA keeps first places throughtout years. However, CLE and BOS are very close to eachother. This takes me the next question. Why CLE is not classified in best teams ? I will look at different metrics such as 2B,3B hits scores and number of world series winnigs to find an explanation to article's choice of best team. "
      ]
    },
    {
      "cell_type": "code",
      "metadata": {
        "id": "j5JZOFWiRN5h",
        "colab_type": "code",
        "colab": {}
      },
      "source": [
        "new_teams = ['BOS','CLE']\n",
        "BOS_CLE = selected_teams_AL[selected_teams_AL['teamID'].isin(new_teams)]\n",
        "\n",
        "year_group = pd.cut(BOS_CLE['yearID'], [1994, 2005, 2015])\n",
        "print(\"2B-3B Scores Table\")\n",
        "pd.pivot_table(BOS_CLE, values=['2B','3B'], index=year_group, columns=['name'], aggfunc=np.sum)"
      ],
      "execution_count": 0,
      "outputs": []
    },
    {
      "cell_type": "markdown",
      "metadata": {
        "id": "OzSEE5kqifA4",
        "colab_type": "text"
      },
      "source": [
        "When we look at the 2B-3B Scores table, we see 3B are rare. 2B's are more comman. Let's look deeper to triple scores in each team. With the help of histograms, it looks like Boston Red Sox are more likely to have higher 3B scores. Comparing it with 2B scores, now we are sure 3B scores are extremely rare."
      ]
    },
    {
      "cell_type": "code",
      "metadata": {
        "id": "B7_yOqLmk3Oe",
        "colab_type": "code",
        "colab": {}
      },
      "source": [
        "fig, (ax1,ax2) = plt.subplots(ncols=2, figsize=(18, 6), sharex=True)\n",
        "\n",
        "\n",
        "sns.distplot(BOS_CLE[BOS_CLE['teamID']=='CLE']['3B'], ax=ax1)\n",
        "ax1.set(title='Cleveland Indians 3B Scores Histogram')\n",
        "\n",
        "sns.distplot(BOS_CLE[BOS_CLE['teamID']=='BOS']['3B'],ax=ax2)\n",
        "ax2.set(title = 'Boston Red Sox 3B Scores Histogram')"
      ],
      "execution_count": 0,
      "outputs": []
    },
    {
      "cell_type": "markdown",
      "metadata": {
        "id": "f95Asc7HmJeI",
        "colab_type": "text"
      },
      "source": [
        "What about hits and wins columns ? I learnt that hits are very important to win. Can hits have a relevant relationship with wins ?"
      ]
    },
    {
      "cell_type": "code",
      "metadata": {
        "id": "vd_EfB-LSHgD",
        "colab_type": "code",
        "colab": {}
      },
      "source": [
        "#sns.pairplot(BOS_CLE)"
      ],
      "execution_count": 0,
      "outputs": []
    },
    {
      "cell_type": "code",
      "metadata": {
        "id": "zPyU7poyT-E-",
        "colab_type": "code",
        "colab": {}
      },
      "source": [
        "plt.title(\"Wins - Hits Scatter Plot for Boston Red Sox and Cleveland Indians\")\n",
        "sns.scatterplot(x=\"H\", y=\"W\",hue='teamID',data=BOS_CLE)\n",
        "plt.xlabel(\"Wins\")\n",
        "plt.ylabel(\"Hits\")\n",
        "\n",
        "print(\"The correlation between wins and hits by batters in BOS and CLE is {}\".format(stats.pearsonr(BOS_CLE['W'], BOS_CLE['H'])))\n",
        "print(\"We can say that we have a small p-value and there is a significant correlation between wins and hits by batters.It is important to have hits\")\n",
        "print(\"But still, it doesn't show a difference between BOS and CLE. Both teams show similar performances.\")"
      ],
      "execution_count": 0,
      "outputs": []
    },
    {
      "cell_type": "markdown",
      "metadata": {
        "id": "to6GhzjeIrZO",
        "colab_type": "text"
      },
      "source": [
        "One thing I know from baseball is that winning World Series is a huge thing. I moved to D.C. 4 months ago and D.C. won WS for the first time. For a day, they closed the roads for a parade. Let's see who has more winning in world series."
      ]
    },
    {
      "cell_type": "code",
      "metadata": {
        "id": "1q7d_x2qyasZ",
        "colab_type": "code",
        "colab": {}
      },
      "source": [
        "pd.DataFrame(BOS_CLE.groupby('teamID')['WSWin'].value_counts())"
      ],
      "execution_count": 0,
      "outputs": []
    },
    {
      "cell_type": "markdown",
      "metadata": {
        "id": "IHs6M1H1MBR1",
        "colab_type": "text"
      },
      "source": [
        "We can see from the dataframe Boston Red Sox has 3 WS winning. Even though their rankings are similar, there is one sure thing that winning a world series brings the fame.Also, having more 3B scores helped to build this fame too. The writer of the article has a right to say that Boston Rex Sox is one of the best teams."
      ]
    },
    {
      "cell_type": "markdown",
      "metadata": {
        "id": "ujSp4YmTmEXL",
        "colab_type": "text"
      },
      "source": [
        "**Choose any two of the variables from 3. Draw 1,000 samples, taking the mean of 100 observations each time. \n",
        "Plot the frequencies of the sample means. What distribution does this appear to follow?\n",
        "Hint: df['col'].sample(n=50) will draw 50 random observations from df['col'].**"
      ]
    },
    {
      "cell_type": "code",
      "metadata": {
        "id": "wjPuzCoE8ZD6",
        "colab_type": "code",
        "colab": {}
      },
      "source": [
        "results = []\n",
        "for num_trials in range(1,1000):\n",
        "    trials = teams_1995['W'].sample(n=100)\n",
        "    mean_of_trials = trials.mean()\n",
        "    results.append(mean_of_trials)\n",
        "\t\n",
        "df = pd.DataFrame({ 'trials' : results})\n",
        "#sns.set()\n",
        "sns.set(style='white', font_scale=1)\n",
        "\n",
        "fig, axs = plt.subplots(2,1, figsize=(5, 7))\n",
        "df.plot(ax=axs[0])\n",
        "\n",
        "\n",
        "plt.title(\"Wins Sample Means Histogram\")\n",
        "means = [teams_1995['W'].sample(n=100).mean() for _ in range(1000)]\n",
        "a1 = plt.hist(means)"
      ],
      "execution_count": 0,
      "outputs": []
    },
    {
      "cell_type": "markdown",
      "metadata": {
        "id": "jOLLqXVhAsP7",
        "colab_type": "text"
      },
      "source": [
        "*The resulting histogram is normally distributed around a mean of approximately 80.5 as we expected from Central Limit Thm.*"
      ]
    },
    {
      "cell_type": "code",
      "metadata": {
        "id": "w2gPH8Dv8wqz",
        "colab_type": "code",
        "colab": {}
      },
      "source": [
        "results_2 = []\n",
        "for num_trials in range(1,1000):\n",
        "    trials = teams_1995['ERA'].sample(n=100)\n",
        "    mean_of_trials = trials.mean()\n",
        "    results_2.append(mean_of_trials)\n",
        "\t\n",
        "df2 = pd.DataFrame({ 'trials' : results_2})\n",
        "fig, axs = plt.subplots(2,1, figsize=(5, 7))\n",
        "df2.plot(ax=axs[0])\n",
        "\n",
        "means_2 = [teams_1995['ERA'].sample(n=100).mean() for _ in range(1000)]\n",
        "plt.hist(means_2)"
      ],
      "execution_count": 0,
      "outputs": []
    },
    {
      "cell_type": "markdown",
      "metadata": {
        "id": "cppUrPpyZFjK",
        "colab_type": "text"
      },
      "source": [
        "*The resulting histogram is normally distributed around a mean of approximately 4.3 as we expected from Central Limit Thm.*"
      ]
    },
    {
      "cell_type": "code",
      "metadata": {
        "id": "Qfeyg3D9CYku",
        "colab_type": "code",
        "colab": {}
      },
      "source": [
        ""
      ],
      "execution_count": 0,
      "outputs": []
    }
  ]
}