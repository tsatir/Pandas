{
  "nbformat": 4,
  "nbformat_minor": 0,
  "metadata": {
    "colab": {
      "name": "beyond_ab_testing_example.ipynb",
      "provenance": [],
      "collapsed_sections": [],
      "include_colab_link": true
    },
    "kernelspec": {
      "name": "python3",
      "display_name": "Python 3"
    }
  },
  "cells": [
    {
      "cell_type": "markdown",
      "metadata": {
        "id": "view-in-github",
        "colab_type": "text"
      },
      "source": [
        "<a href=\"https://colab.research.google.com/github/tsatir/Thinkful-Data_Science/blob/master/beyond_ab_testing_example.ipynb\" target=\"_parent\"><img src=\"https://colab.research.google.com/assets/colab-badge.svg\" alt=\"Open In Colab\"/></a>"
      ]
    },
    {
      "cell_type": "code",
      "metadata": {
        "id": "NJWEX3cI9-iR",
        "colab_type": "code",
        "colab": {}
      },
      "source": [
        "%matplotlib inline\n",
        "import pandas as pd\n",
        "import numpy as np\n",
        "import matplotlib.pyplot as plt\n",
        "import seaborn as sns\n",
        "from scipy import stats "
      ],
      "execution_count": 0,
      "outputs": []
    },
    {
      "cell_type": "markdown",
      "metadata": {
        "id": "pYOAsjN6_Kil",
        "colab_type": "text"
      },
      "source": [
        "European social survey, contains data from 2012 and 2014. 24 Country is joined the survey and answers are ranked from 0 to 10."
      ]
    },
    {
      "cell_type": "code",
      "metadata": {
        "id": "oVcVn7jH-geN",
        "colab_type": "code",
        "colab": {}
      },
      "source": [
        "survey_data = pd.read_csv(\"https://tf-assets-prod.s3.amazonaws.com/tf-curric/data-science/ess_combined_2012_2014.csv\")"
      ],
      "execution_count": 0,
      "outputs": []
    },
    {
      "cell_type": "code",
      "metadata": {
        "id": "n2zU26Fs-qAL",
        "colab_type": "code",
        "colab": {
          "base_uri": "https://localhost:8080/",
          "height": 204
        },
        "outputId": "8a042ea4-d8c8-4e6d-e830-f18a02f357f9"
      },
      "source": [
        "survey_data.head()"
      ],
      "execution_count": 4,
      "outputs": [
        {
          "output_type": "execute_result",
          "data": {
            "text/html": [
              "<div>\n",
              "<style scoped>\n",
              "    .dataframe tbody tr th:only-of-type {\n",
              "        vertical-align: middle;\n",
              "    }\n",
              "\n",
              "    .dataframe tbody tr th {\n",
              "        vertical-align: top;\n",
              "    }\n",
              "\n",
              "    .dataframe thead th {\n",
              "        text-align: right;\n",
              "    }\n",
              "</style>\n",
              "<table border=\"1\" class=\"dataframe\">\n",
              "  <thead>\n",
              "    <tr style=\"text-align: right;\">\n",
              "      <th></th>\n",
              "      <th>cntry</th>\n",
              "      <th>idno</th>\n",
              "      <th>year</th>\n",
              "      <th>tvtot</th>\n",
              "      <th>ppltrst</th>\n",
              "      <th>pplfair</th>\n",
              "      <th>pplhlp</th>\n",
              "      <th>happy</th>\n",
              "      <th>sclmeet</th>\n",
              "      <th>sclact</th>\n",
              "      <th>gndr</th>\n",
              "      <th>agea</th>\n",
              "      <th>partner</th>\n",
              "    </tr>\n",
              "  </thead>\n",
              "  <tbody>\n",
              "    <tr>\n",
              "      <th>0</th>\n",
              "      <td>CH</td>\n",
              "      <td>5</td>\n",
              "      <td>6</td>\n",
              "      <td>3</td>\n",
              "      <td>3</td>\n",
              "      <td>10</td>\n",
              "      <td>5</td>\n",
              "      <td>8</td>\n",
              "      <td>5</td>\n",
              "      <td>4</td>\n",
              "      <td>2</td>\n",
              "      <td>60</td>\n",
              "      <td>1</td>\n",
              "    </tr>\n",
              "    <tr>\n",
              "      <th>1</th>\n",
              "      <td>CH</td>\n",
              "      <td>25</td>\n",
              "      <td>6</td>\n",
              "      <td>6</td>\n",
              "      <td>5</td>\n",
              "      <td>7</td>\n",
              "      <td>5</td>\n",
              "      <td>9</td>\n",
              "      <td>3</td>\n",
              "      <td>2</td>\n",
              "      <td>2</td>\n",
              "      <td>59</td>\n",
              "      <td>1</td>\n",
              "    </tr>\n",
              "    <tr>\n",
              "      <th>2</th>\n",
              "      <td>CH</td>\n",
              "      <td>26</td>\n",
              "      <td>6</td>\n",
              "      <td>1</td>\n",
              "      <td>8</td>\n",
              "      <td>8</td>\n",
              "      <td>8</td>\n",
              "      <td>7</td>\n",
              "      <td>6</td>\n",
              "      <td>3</td>\n",
              "      <td>1</td>\n",
              "      <td>24</td>\n",
              "      <td>2</td>\n",
              "    </tr>\n",
              "    <tr>\n",
              "      <th>3</th>\n",
              "      <td>CH</td>\n",
              "      <td>28</td>\n",
              "      <td>6</td>\n",
              "      <td>4</td>\n",
              "      <td>6</td>\n",
              "      <td>6</td>\n",
              "      <td>7</td>\n",
              "      <td>10</td>\n",
              "      <td>6</td>\n",
              "      <td>2</td>\n",
              "      <td>2</td>\n",
              "      <td>64</td>\n",
              "      <td>1</td>\n",
              "    </tr>\n",
              "    <tr>\n",
              "      <th>4</th>\n",
              "      <td>CH</td>\n",
              "      <td>29</td>\n",
              "      <td>6</td>\n",
              "      <td>5</td>\n",
              "      <td>6</td>\n",
              "      <td>7</td>\n",
              "      <td>5</td>\n",
              "      <td>8</td>\n",
              "      <td>7</td>\n",
              "      <td>2</td>\n",
              "      <td>2</td>\n",
              "      <td>55</td>\n",
              "      <td>1</td>\n",
              "    </tr>\n",
              "  </tbody>\n",
              "</table>\n",
              "</div>"
            ],
            "text/plain": [
              "  cntry  idno  year  tvtot  ppltrst  ...  sclmeet  sclact  gndr  agea  partner\n",
              "0    CH     5     6      3        3  ...        5       4     2    60        1\n",
              "1    CH    25     6      6        5  ...        3       2     2    59        1\n",
              "2    CH    26     6      1        8  ...        6       3     1    24        2\n",
              "3    CH    28     6      4        6  ...        6       2     2    64        1\n",
              "4    CH    29     6      5        6  ...        7       2     2    55        1\n",
              "\n",
              "[5 rows x 13 columns]"
            ]
          },
          "metadata": {
            "tags": []
          },
          "execution_count": 4
        }
      ]
    },
    {
      "cell_type": "code",
      "metadata": {
        "id": "JfbHy2ll-tKd",
        "colab_type": "code",
        "colab": {}
      },
      "source": [
        "#Did people become less trusting from 2012 to 2014?\n",
        "\n",
        "results_2012 = survey_data[survey_data[\"year\"]==6]\n",
        "results_2014 = survey_data[survey_data[\"year\"]==7]"
      ],
      "execution_count": 0,
      "outputs": []
    },
    {
      "cell_type": "code",
      "metadata": {
        "id": "2_0s1dm2YE0e",
        "colab_type": "code",
        "colab": {
          "base_uri": "https://localhost:8080/",
          "height": 350
        },
        "outputId": "907b3612-9988-4715-93c4-54fe5fe86e54"
      },
      "source": [
        "plt.hist(results_2012['ppltrst'], alpha = .5)\n",
        "plt.hist(results_2014['ppltrst'], alpha = .5)\n",
        "plt.legend(['2012','2014'])\n",
        "plt.show()\n",
        "\n",
        "print(stats.describe(results_2012['ppltrst']))\n",
        "print(stats.describe(results_2014['ppltrst']))\n",
        "print(\"The sample size for results_2012 is: \",len(results_2012))\n",
        "print(\"The sample size for results_2014 is: \",len(results_2014))\n",
        "\n",
        "stats.ttest_ind(results_2012['ppltrst'],\n",
        "                results_2014['ppltrst'])"
      ],
      "execution_count": 31,
      "outputs": [
        {
          "output_type": "display_data",
          "data": {
            "image/png": "[encoded data removed]",
            "text/plain": [
              "<Figure size 432x288 with 1 Axes>"
            ]
          },
          "metadata": {
            "tags": []
          }
        },
        {
          "output_type": "stream",
          "text": [
            "DescribeResult(nobs=4071, minmax=(0, 10), mean=5.578481945467944, variance=4.893040545067073, skewness=-0.5431086926347095, kurtosis=-0.1210956960964813)\n",
            "DescribeResult(nobs=4076, minmax=(0, 10), mean=5.5713935230618254, variance=4.927171652708959, skewness=-0.4601859476512641, kurtosis=-0.25006786100787215)\n",
            "The sample size for results_2012 is:  4071\n",
            "The sample size for results_2014 is:  4076\n"
          ],
          "name": "stdout"
        },
        {
          "output_type": "execute_result",
          "data": {
            "text/plain": [
              "Ttest_indResult(statistic=0.1443685081969842, pvalue=0.8852130548889106)"
            ]
          },
          "metadata": {
            "tags": []
          },
          "execution_count": 31
        }
      ]
    },
    {
      "cell_type": "markdown",
      "metadata": {
        "id": "Wi2940P7ezar",
        "colab_type": "text"
      },
      "source": [
        "Two datasets are normally distributed. They satisfy the bell shape and skewness,kurtosis results. We can apply the ttest. P value is approximately 1 and ttest statistics doesn't satisfy +-1.96 criteria. That's why our null hypothesis people are less trustworthy in 2014 can be rejected."
      ]
    },
    {
      "cell_type": "code",
      "metadata": {
        "id": "GFCyEV8VfRPD",
        "colab_type": "code",
        "colab": {
          "base_uri": "https://localhost:8080/",
          "height": 281
        },
        "outputId": "fa8877fb-d445-4320-c890-df2d943b2dc9"
      },
      "source": [
        "#2. Did people become happier from 2012 to 2014?\n",
        "plt.hist(results_2012['happy'], alpha = .5)\n",
        "plt.hist(results_2014['happy'], alpha = .5)\n",
        "plt.legend(['2012','2014'])\n",
        "plt.title(\"Happiness Histogram\")\n",
        "plt.show()\n",
        " "
      ],
      "execution_count": 33,
      "outputs": [
        {
          "output_type": "display_data",
          "data": {
            "image/png": "[encoded data removed]",
            "text/plain": [
              "<Figure size 432x288 with 1 Axes>"
            ]
          },
          "metadata": {
            "tags": []
          }
        }
      ]
    },
    {
      "cell_type": "code",
      "metadata": {
        "id": "GXH1Md0zgqlU",
        "colab_type": "code",
        "colab": {
          "base_uri": "https://localhost:8080/",
          "height": 102
        },
        "outputId": "f3cfb7af-93c8-4164-8800-7b7a85a7d27f"
      },
      "source": [
        "print(stats.describe(results_2012['happy']))\n",
        "print(stats.describe(results_2014['happy']))\n",
        "print(\"The sample size for results_2012 is: \",len(results_2012))\n",
        "print(\"The sample size for results_2014 is: \",len(results_2014))\n",
        "\n",
        "stats.kruskal(results_2012['happy'],\n",
        "                results_2014['happy'])"
      ],
      "execution_count": 102,
      "outputs": [
        {
          "output_type": "stream",
          "text": [
            "DescribeResult(nobs=4071, minmax=(0, 10), mean=7.731515598133137, variance=3.0819524689826823, skewness=-1.1505518232802756, kurtosis=1.9055890346061979)\n",
            "DescribeResult(nobs=4076, minmax=(0, 10), mean=7.6854759568204125, variance=2.840436853164115, skewness=-1.0296465664009635, kurtosis=1.5218046596567287)\n",
            "The sample size for results_2012 is:  4071\n",
            "The sample size for results_2014 is:  4076\n"
          ],
          "name": "stdout"
        },
        {
          "output_type": "execute_result",
          "data": {
            "text/plain": [
              "KruskalResult(statistic=3.725441202182227, pvalue=0.05358946830655459)"
            ]
          },
          "metadata": {
            "tags": []
          },
          "execution_count": 102
        }
      ]
    },
    {
      "cell_type": "markdown",
      "metadata": {
        "id": "iSvmlR86g8cg",
        "colab_type": "text"
      },
      "source": [
        "Two datasets are not normally distributed. They did not satisfdy the bell shape. We can apply the Kruskal-Wallis test. P value is slightly passing 0.05, but statistic passes 1.92. So, I will be agree with null hypthesis."
      ]
    },
    {
      "cell_type": "markdown",
      "metadata": {
        "id": "UxhFda0XhT0d",
        "colab_type": "text"
      },
      "source": [
        "**Pick three or four of the countries in the sample and compare how often people met socially in 2014. Are there differences, and if so, which countries stand out?**"
      ]
    },
    {
      "cell_type": "code",
      "metadata": {
        "id": "0i3wd0v8hVze",
        "colab_type": "code",
        "colab": {}
      },
      "source": [
        "countries =['CH','SE','NO']\n",
        "happy_results2014 = results_2014[results_2014[\"cntry\"].isin(countries)]"
      ],
      "execution_count": 0,
      "outputs": []
    },
    {
      "cell_type": "code",
      "metadata": {
        "id": "X0UFLnQYiQFe",
        "colab_type": "code",
        "colab": {
          "base_uri": "https://localhost:8080/",
          "height": 119
        },
        "outputId": "200f4faa-970a-483c-88fd-0c673789c117"
      },
      "source": [
        "happy_results2014['cntry'].value_counts()\n",
        "happy_results2014['cntry'] = happy_results2014['cntry'].replace({'SE': 'Sweden', 'CH': 'Switzerland', 'NO': 'Norway'})"
      ],
      "execution_count": 74,
      "outputs": [
        {
          "output_type": "stream",
          "text": [
            "/usr/local/lib/python3.6/dist-packages/ipykernel_launcher.py:2: SettingWithCopyWarning: \n",
            "A value is trying to be set on a copy of a slice from a DataFrame.\n",
            "Try using .loc[row_indexer,col_indexer] = value instead\n",
            "\n",
            "See the caveats in the documentation: http://pandas.pydata.org/pandas-docs/stable/user_guide/indexing.html#returning-a-view-versus-a-copy\n",
            "  \n"
          ],
          "name": "stderr"
        }
      ]
    },
    {
      "cell_type": "code",
      "metadata": {
        "id": "CB8aalYejYWu",
        "colab_type": "code",
        "colab": {
          "base_uri": "https://localhost:8080/",
          "height": 204
        },
        "outputId": "4fb2258e-accb-45dd-8774-db5264fafe1b"
      },
      "source": [
        "happy_results2014.head()"
      ],
      "execution_count": 68,
      "outputs": [
        {
          "output_type": "execute_result",
          "data": {
            "text/html": [
              "<div>\n",
              "<style scoped>\n",
              "    .dataframe tbody tr th:only-of-type {\n",
              "        vertical-align: middle;\n",
              "    }\n",
              "\n",
              "    .dataframe tbody tr th {\n",
              "        vertical-align: top;\n",
              "    }\n",
              "\n",
              "    .dataframe thead th {\n",
              "        text-align: right;\n",
              "    }\n",
              "</style>\n",
              "<table border=\"1\" class=\"dataframe\">\n",
              "  <thead>\n",
              "    <tr style=\"text-align: right;\">\n",
              "      <th></th>\n",
              "      <th>cntry</th>\n",
              "      <th>idno</th>\n",
              "      <th>year</th>\n",
              "      <th>tvtot</th>\n",
              "      <th>ppltrst</th>\n",
              "      <th>pplfair</th>\n",
              "      <th>pplhlp</th>\n",
              "      <th>happy</th>\n",
              "      <th>sclmeet</th>\n",
              "      <th>sclact</th>\n",
              "      <th>gndr</th>\n",
              "      <th>agea</th>\n",
              "      <th>partner</th>\n",
              "    </tr>\n",
              "  </thead>\n",
              "  <tbody>\n",
              "    <tr>\n",
              "      <th>732</th>\n",
              "      <td>Switzerland</td>\n",
              "      <td>5</td>\n",
              "      <td>7</td>\n",
              "      <td>2</td>\n",
              "      <td>8</td>\n",
              "      <td>9</td>\n",
              "      <td>7</td>\n",
              "      <td>9</td>\n",
              "      <td>6</td>\n",
              "      <td>4</td>\n",
              "      <td>1</td>\n",
              "      <td>69</td>\n",
              "      <td>1</td>\n",
              "    </tr>\n",
              "    <tr>\n",
              "      <th>733</th>\n",
              "      <td>Switzerland</td>\n",
              "      <td>25</td>\n",
              "      <td>7</td>\n",
              "      <td>4</td>\n",
              "      <td>4</td>\n",
              "      <td>2</td>\n",
              "      <td>5</td>\n",
              "      <td>6</td>\n",
              "      <td>5</td>\n",
              "      <td>3</td>\n",
              "      <td>1</td>\n",
              "      <td>30</td>\n",
              "      <td>1</td>\n",
              "    </tr>\n",
              "    <tr>\n",
              "      <th>734</th>\n",
              "      <td>Switzerland</td>\n",
              "      <td>26</td>\n",
              "      <td>7</td>\n",
              "      <td>3</td>\n",
              "      <td>8</td>\n",
              "      <td>8</td>\n",
              "      <td>6</td>\n",
              "      <td>8</td>\n",
              "      <td>7</td>\n",
              "      <td>5</td>\n",
              "      <td>2</td>\n",
              "      <td>49</td>\n",
              "      <td>2</td>\n",
              "    </tr>\n",
              "    <tr>\n",
              "      <th>735</th>\n",
              "      <td>Switzerland</td>\n",
              "      <td>28</td>\n",
              "      <td>7</td>\n",
              "      <td>2</td>\n",
              "      <td>7</td>\n",
              "      <td>7</td>\n",
              "      <td>5</td>\n",
              "      <td>9</td>\n",
              "      <td>6</td>\n",
              "      <td>2</td>\n",
              "      <td>1</td>\n",
              "      <td>51</td>\n",
              "      <td>1</td>\n",
              "    </tr>\n",
              "    <tr>\n",
              "      <th>736</th>\n",
              "      <td>Switzerland</td>\n",
              "      <td>29</td>\n",
              "      <td>7</td>\n",
              "      <td>2</td>\n",
              "      <td>4</td>\n",
              "      <td>7</td>\n",
              "      <td>0</td>\n",
              "      <td>8</td>\n",
              "      <td>6</td>\n",
              "      <td>2</td>\n",
              "      <td>2</td>\n",
              "      <td>32</td>\n",
              "      <td>2</td>\n",
              "    </tr>\n",
              "  </tbody>\n",
              "</table>\n",
              "</div>"
            ],
            "text/plain": [
              "           cntry  idno  year  tvtot  ...  sclact  gndr  agea  partner\n",
              "732  Switzerland     5     7      2  ...       4     1    69        1\n",
              "733  Switzerland    25     7      4  ...       3     1    30        1\n",
              "734  Switzerland    26     7      3  ...       5     2    49        2\n",
              "735  Switzerland    28     7      2  ...       2     1    51        1\n",
              "736  Switzerland    29     7      2  ...       2     2    32        2\n",
              "\n",
              "[5 rows x 13 columns]"
            ]
          },
          "metadata": {
            "tags": []
          },
          "execution_count": 68
        }
      ]
    },
    {
      "cell_type": "code",
      "metadata": {
        "id": "kqiDXaJTmNWd",
        "colab_type": "code",
        "colab": {
          "base_uri": "https://localhost:8080/",
          "height": 298
        },
        "outputId": "f95cdd03-72e0-4c26-cd33-b656d2b43f32"
      },
      "source": [
        "plt.hist(happy_results2014[happy_results2014['cntry']=='Norway']['sclmeet'], alpha = .5)\n",
        "plt.hist(happy_results2014[happy_results2014['cntry']=='Sweden']['sclmeet'], alpha = .5)\n",
        "plt.hist(happy_results2014[happy_results2014['cntry']=='Switzerland']['sclmeet'], alpha = .5)\n",
        "plt.legend(['Norway','Sweden','Switzerland'])\n",
        "plt.title('Socially Meet Histogram')"
      ],
      "execution_count": 84,
      "outputs": [
        {
          "output_type": "execute_result",
          "data": {
            "text/plain": [
              "Text(0.5, 1.0, 'Socially Meet Histogram')"
            ]
          },
          "metadata": {
            "tags": []
          },
          "execution_count": 84
        },
        {
          "output_type": "display_data",
          "data": {
            "image/png": "[encoded data removed]",
            "text/plain": [
              "<Figure size 432x288 with 1 Axes>"
            ]
          },
          "metadata": {
            "tags": []
          }
        }
      ]
    },
    {
      "cell_type": "code",
      "metadata": {
        "id": "wVcye3ZHyjBu",
        "colab_type": "code",
        "colab": {
          "base_uri": "https://localhost:8080/",
          "height": 361
        },
        "outputId": "498eac0f-1208-4d9c-f28f-444978d8fcc0"
      },
      "source": [
        "happy_results2014['sclmeet'].hist(by = happy_results2014['cntry'])"
      ],
      "execution_count": 103,
      "outputs": [
        {
          "output_type": "execute_result",
          "data": {
            "text/plain": [
              "array([[<matplotlib.axes._subplots.AxesSubplot object at 0x7f60abead908>,\n",
              "        <matplotlib.axes._subplots.AxesSubplot object at 0x7f60abebe7f0>],\n",
              "       [<matplotlib.axes._subplots.AxesSubplot object at 0x7f60abdf0940>,\n",
              "        <matplotlib.axes._subplots.AxesSubplot object at 0x7f60abe75a90>]],\n",
              "      dtype=object)"
            ]
          },
          "metadata": {
            "tags": []
          },
          "execution_count": 103
        },
        {
          "output_type": "display_data",
          "data": {
            "image/png": "[encoded data removed]",
            "text/plain": [
              "<Figure size 432x288 with 4 Axes>"
            ]
          },
          "metadata": {
            "tags": []
          }
        }
      ]
    },
    {
      "cell_type": "code",
      "metadata": {
        "id": "MmimTVINldSz",
        "colab_type": "code",
        "colab": {
          "base_uri": "https://localhost:8080/",
          "height": 68
        },
        "outputId": "4cb1a778-fb57-492b-eb7c-52369cc363aa"
      },
      "source": [
        "print(stats.describe(happy_results2014[happy_results2014['cntry']=='Norway']['sclmeet']))\n",
        "print(stats.describe(happy_results2014[happy_results2014['cntry']=='Sweden']['sclmeet']))\n",
        "print(stats.describe(happy_results2014[happy_results2014['cntry']=='Switzerland']['sclmeet']))\n",
        "#print(\"The sample size for results_2012 is: \",len(results_2012))\n",
        "#print(\"The sample size for results_2014 is: \",len(results_2014))\n",
        "\n",
        "#stats.ttest_ind(results_2012['ppltrst'],\n",
        "#                results_2014['ppltrst'])"
      ],
      "execution_count": 87,
      "outputs": [
        {
          "output_type": "stream",
          "text": [
            "DescribeResult(nobs=712, minmax=(1, 7), mean=5.310393258426966, variance=1.8064741067336714, skewness=-0.6366633314784985, kurtosis=-0.33293306740001993)\n",
            "DescribeResult(nobs=867, minmax=(2, 7), mean=5.434832756632065, variance=1.8788314673784199, skewness=-0.6751138160495723, kurtosis=-0.4024683071086881)\n",
            "DescribeResult(nobs=743, minmax=(1, 7), mean=5.174966352624495, variance=1.6944129031789972, skewness=-0.6382977240097087, kurtosis=-0.24036067403841654)\n"
          ],
          "name": "stdout"
        }
      ]
    },
    {
      "cell_type": "code",
      "metadata": {
        "id": "v6BZ8POfok7_",
        "colab_type": "code",
        "colab": {
          "base_uri": "https://localhost:8080/",
          "height": 34
        },
        "outputId": "156e6916-636f-42a5-a861-e935bf1d5d4f"
      },
      "source": [
        "stats.kruskal(happy_results2014[happy_results2014['cntry']=='Norway']['sclmeet'],\n",
        "              happy_results2014[happy_results2014['cntry']=='Sweden']['sclmeet'],\n",
        "              happy_results2014[happy_results2014['cntry']=='Switzerland']['sclmeet'])"
      ],
      "execution_count": 104,
      "outputs": [
        {
          "output_type": "execute_result",
          "data": {
            "text/plain": [
              "KruskalResult(statistic=20.455791698551337, pvalue=3.614775009704811e-05)"
            ]
          },
          "metadata": {
            "tags": []
          },
          "execution_count": 104
        }
      ]
    },
    {
      "cell_type": "markdown",
      "metadata": {
        "id": "i7NvT7oOp-Is",
        "colab_type": "text"
      },
      "source": [
        "Based on the p-value, we can reject the null that all variables have the same distribution. Swwitzerland looks like the odd country. It turns out Sweden is the odd one."
      ]
    },
    {
      "cell_type": "code",
      "metadata": {
        "id": "M3I2y5AG0M_r",
        "colab_type": "code",
        "colab": {
          "base_uri": "https://localhost:8080/",
          "height": 437
        },
        "outputId": "fad085ea-ba20-4217-cc98-fc61febbad0e"
      },
      "source": [
        "happy_results2014.boxplot('sclmeet', by='cntry', figsize=(10, 6))"
      ],
      "execution_count": 105,
      "outputs": [
        {
          "output_type": "execute_result",
          "data": {
            "text/plain": [
              "<matplotlib.axes._subplots.AxesSubplot at 0x7f60abd299b0>"
            ]
          },
          "metadata": {
            "tags": []
          },
          "execution_count": 105
        },
        {
          "output_type": "display_data",
          "data": {
            "image/png": "[encoded data removed]",
            "text/plain": [
              "<Figure size 720x432 with 1 Axes>"
            ]
          },
          "metadata": {
            "tags": []
          }
        }
      ]
    },
    {
      "cell_type": "markdown",
      "metadata": {
        "id": "Fcj1Qzm_p5G1",
        "colab_type": "text"
      },
      "source": [
        "**Pick three or four of the countries in the sample and compare how often people took part in social activities, relative to others their age, in 2014. Are there differences, and if so, which countries stand out?**"
      ]
    },
    {
      "cell_type": "code",
      "metadata": {
        "id": "VTC_SChApL7y",
        "colab_type": "code",
        "colab": {
          "base_uri": "https://localhost:8080/",
          "height": 352
        },
        "outputId": "27302378-ddba-482d-d6c1-a0daf4820791"
      },
      "source": [
        "plt.hist(happy_results2014[happy_results2014['cntry']=='Norway']['sclact'], alpha = .5)\n",
        "plt.hist(happy_results2014[happy_results2014['cntry']=='Sweden']['sclact'], alpha = .5)\n",
        "plt.hist(happy_results2014[happy_results2014['cntry']=='Switzerland']['sclact'], alpha = .5)\n",
        "plt.legend(['Norway','Sweden','Switzerland'])\n",
        "plt.title('People took part in socil activities Histogram')\n",
        "\n",
        "print(stats.describe(happy_results2014[happy_results2014['cntry']=='Norway']['sclact']))\n",
        "print(stats.describe(happy_results2014[happy_results2014['cntry']=='Sweden']['sclact']))\n",
        "print(stats.describe(happy_results2014[happy_results2014['cntry']=='Switzerland']['sclact']))"
      ],
      "execution_count": 91,
      "outputs": [
        {
          "output_type": "stream",
          "text": [
            "DescribeResult(nobs=712, minmax=(1, 5), mean=2.860955056179775, variance=0.6740289037437381, skewness=0.09364724158452321, kurtosis=0.39039548364910237)\n",
            "DescribeResult(nobs=867, minmax=(1, 5), mean=2.878892733564014, variance=0.7393576640002557, skewness=-0.07057138165607037, kurtosis=-0.0019064717623313854)\n",
            "DescribeResult(nobs=743, minmax=(1, 5), mean=2.784656796769852, variance=0.821489336230696, skewness=0.056518838123621226, kurtosis=-0.05699247701187771)\n"
          ],
          "name": "stdout"
        },
        {
          "output_type": "display_data",
          "data": {
            "image/png": "[encoded data removed]",
            "text/plain": [
              "<Figure size 432x288 with 1 Axes>"
            ]
          },
          "metadata": {
            "tags": []
          }
        }
      ]
    },
    {
      "cell_type": "code",
      "metadata": {
        "id": "HK7MU9Ky0lSQ",
        "colab_type": "code",
        "colab": {
          "base_uri": "https://localhost:8080/",
          "height": 34
        },
        "outputId": "5fa75e6d-4b88-4355-edc9-9b23ba4e767b"
      },
      "source": [
        "stats.f_oneway(\n",
        "    happy_results2014.loc[happy_results2014['cntry'] == 'Norway',['sclact']],\n",
        "    happy_results2014.loc[happy_results2014['cntry'] == 'Sweden',['sclact']],\n",
        "    happy_results2014.loc[happy_results2014['cntry'] == 'Switzerland',['sclact']])"
      ],
      "execution_count": 109,
      "outputs": [
        {
          "output_type": "execute_result",
          "data": {
            "text/plain": [
              "F_onewayResult(statistic=array([2.5988685]), pvalue=array([0.07457423]))"
            ]
          },
          "metadata": {
            "tags": []
          },
          "execution_count": 109
        }
      ]
    },
    {
      "cell_type": "markdown",
      "metadata": {
        "id": "4H8_jLWd1UbX",
        "colab_type": "text"
      },
      "source": [
        "With the help of p-value there is no significant difference between groups. Let's check Tukey HSD"
      ]
    },
    {
      "cell_type": "code",
      "metadata": {
        "id": "3ptfg5UvtCLL",
        "colab_type": "code",
        "colab": {
          "base_uri": "https://localhost:8080/",
          "height": 120
        },
        "outputId": "917bed0a-ace1-460c-e569-99201acd7e8f"
      },
      "source": [
        "from statsmodels.stats.multicomp import pairwise_tukeyhsd\n",
        "\n",
        "tukey = pairwise_tukeyhsd(endog = happy_results2014['sclact'],      # Data\n",
        "                          groups = happy_results2014['cntry'],   # Groups\n",
        "                          alpha=0.05)  \n",
        "tukey.summary()"
      ],
      "execution_count": 110,
      "outputs": [
        {
          "output_type": "execute_result",
          "data": {
            "text/html": [
              "<table class=\"simpletable\">\n",
              "<caption>Multiple Comparison of Means - Tukey HSD, FWER=0.05</caption>\n",
              "<tr>\n",
              "  <th>group1</th>   <th>group2</th>    <th>meandiff</th>  <th>p-adj</th>  <th>lower</th>   <th>upper</th> <th>reject</th>\n",
              "</tr>\n",
              "<tr>\n",
              "  <td>Norway</td>   <td>Sweden</td>     <td>0.0179</td>    <td>0.9</td>  <td>-0.0845</td> <td>0.1204</td>  <td>False</td>\n",
              "</tr>\n",
              "<tr>\n",
              "  <td>Norway</td> <td>Switzerland</td>  <td>-0.0763</td> <td>0.2114</td> <td>-0.1825</td> <td>0.0299</td>  <td>False</td>\n",
              "</tr>\n",
              "<tr>\n",
              "  <td>Sweden</td> <td>Switzerland</td>  <td>-0.0942</td> <td>0.0744</td> <td>-0.1955</td>  <td>0.007</td>  <td>False</td>\n",
              "</tr>\n",
              "</table>"
            ],
            "text/plain": [
              "<class 'statsmodels.iolib.table.SimpleTable'>"
            ]
          },
          "metadata": {
            "tags": []
          },
          "execution_count": 110
        }
      ]
    },
    {
      "cell_type": "markdown",
      "metadata": {
        "id": "DAoODPTJtequ",
        "colab_type": "text"
      },
      "source": [
        "**Ruff Figural Fluency Test This test provides information about nonverbal capacity for initiation, planning, and divergent reasoning. You can find the data here. The Casenr is a unique identifier.**\n",
        "\n",
        "**Of particular use for comparing data points between measurements will be pivot() from Pandas.**\n",
        "\n",
        "**Is there a significant difference in the number of unique designs drawn by the same participants from Measurement 2 to Measurement 3?**\n",
        "**Is there a significant difference in the number of perseverative errors drawn by the same participants from Measurement 2 to Measurement 3?**"
      ]
    },
    {
      "cell_type": "code",
      "metadata": {
        "id": "DZK4m3vXtSEC",
        "colab_type": "code",
        "colab": {
          "base_uri": "https://localhost:8080/",
          "height": 204
        },
        "outputId": "35eeb133-0ee2-4d9b-9790-3f71b432a4dd"
      },
      "source": [
        "data = pd.read_csv(\"https://tf-assets-prod.s3.amazonaws.com/tf-curric/data-science/rfft.csv\")\n",
        "data.head()"
      ],
      "execution_count": 99,
      "outputs": [
        {
          "output_type": "execute_result",
          "data": {
            "text/html": [
              "<div>\n",
              "<style scoped>\n",
              "    .dataframe tbody tr th:only-of-type {\n",
              "        vertical-align: middle;\n",
              "    }\n",
              "\n",
              "    .dataframe tbody tr th {\n",
              "        vertical-align: top;\n",
              "    }\n",
              "\n",
              "    .dataframe thead th {\n",
              "        text-align: right;\n",
              "    }\n",
              "</style>\n",
              "<table border=\"1\" class=\"dataframe\">\n",
              "  <thead>\n",
              "    <tr style=\"text-align: right;\">\n",
              "      <th></th>\n",
              "      <th>Casenr</th>\n",
              "      <th>Age</th>\n",
              "      <th>Gender</th>\n",
              "      <th>Education</th>\n",
              "      <th>Measurement</th>\n",
              "      <th>Unique</th>\n",
              "      <th>Perseverative</th>\n",
              "      <th>Interval</th>\n",
              "    </tr>\n",
              "  </thead>\n",
              "  <tbody>\n",
              "    <tr>\n",
              "      <th>0</th>\n",
              "      <td>1</td>\n",
              "      <td>74</td>\n",
              "      <td>Male</td>\n",
              "      <td>Lower secondary school (ISCED 2)</td>\n",
              "      <td>Measurement 1 (2003-2006)</td>\n",
              "      <td>32.0</td>\n",
              "      <td>1.0</td>\n",
              "      <td>Not applicable</td>\n",
              "    </tr>\n",
              "    <tr>\n",
              "      <th>1</th>\n",
              "      <td>1</td>\n",
              "      <td>74</td>\n",
              "      <td>Male</td>\n",
              "      <td>Lower secondary school (ISCED 2)</td>\n",
              "      <td>Measurement 2 (2006-2008)</td>\n",
              "      <td>35.0</td>\n",
              "      <td>0.0</td>\n",
              "      <td>2.842122556</td>\n",
              "    </tr>\n",
              "    <tr>\n",
              "      <th>2</th>\n",
              "      <td>1</td>\n",
              "      <td>74</td>\n",
              "      <td>Male</td>\n",
              "      <td>Lower secondary school (ISCED 2)</td>\n",
              "      <td>Measurement 3 (2008-2012)</td>\n",
              "      <td>50.5</td>\n",
              "      <td>14.5</td>\n",
              "      <td>2.201232033</td>\n",
              "    </tr>\n",
              "    <tr>\n",
              "      <th>3</th>\n",
              "      <td>2</td>\n",
              "      <td>48</td>\n",
              "      <td>Male</td>\n",
              "      <td>Higher secondary school (ISCED 3-4)</td>\n",
              "      <td>Measurement 1 (2003-2006)</td>\n",
              "      <td>26.0</td>\n",
              "      <td>3.0</td>\n",
              "      <td>Not applicable</td>\n",
              "    </tr>\n",
              "    <tr>\n",
              "      <th>4</th>\n",
              "      <td>2</td>\n",
              "      <td>48</td>\n",
              "      <td>Male</td>\n",
              "      <td>Higher secondary school (ISCED 3-4)</td>\n",
              "      <td>Measurement 2 (2006-2008)</td>\n",
              "      <td>47.0</td>\n",
              "      <td>3.0</td>\n",
              "      <td>2.762718362</td>\n",
              "    </tr>\n",
              "  </tbody>\n",
              "</table>\n",
              "</div>"
            ],
            "text/plain": [
              "   Casenr  Age Gender  ... Unique Perseverative        Interval\n",
              "0       1   74   Male  ...   32.0           1.0  Not applicable\n",
              "1       1   74   Male  ...   35.0           0.0     2.842122556\n",
              "2       1   74   Male  ...   50.5          14.5     2.201232033\n",
              "3       2   48   Male  ...   26.0           3.0  Not applicable\n",
              "4       2   48   Male  ...   47.0           3.0     2.762718362\n",
              "\n",
              "[5 rows x 8 columns]"
            ]
          },
          "metadata": {
            "tags": []
          },
          "execution_count": 99
        }
      ]
    },
    {
      "cell_type": "code",
      "metadata": {
        "id": "tpA-87ri2QQ3",
        "colab_type": "code",
        "colab": {
          "base_uri": "https://localhost:8080/",
          "height": 235
        },
        "outputId": "d22cba27-cc3a-4782-9753-332fb694b545"
      },
      "source": [
        "data_pivot = data.pivot(index='Casenr', columns='Measurement', values='Unique')\n",
        "data_pivot.head()"
      ],
      "execution_count": 112,
      "outputs": [
        {
          "output_type": "execute_result",
          "data": {
            "text/html": [
              "<div>\n",
              "<style scoped>\n",
              "    .dataframe tbody tr th:only-of-type {\n",
              "        vertical-align: middle;\n",
              "    }\n",
              "\n",
              "    .dataframe tbody tr th {\n",
              "        vertical-align: top;\n",
              "    }\n",
              "\n",
              "    .dataframe thead th {\n",
              "        text-align: right;\n",
              "    }\n",
              "</style>\n",
              "<table border=\"1\" class=\"dataframe\">\n",
              "  <thead>\n",
              "    <tr style=\"text-align: right;\">\n",
              "      <th>Measurement</th>\n",
              "      <th>Measurement 1 (2003-2006)</th>\n",
              "      <th>Measurement 2 (2006-2008)</th>\n",
              "      <th>Measurement 3 (2008-2012)</th>\n",
              "    </tr>\n",
              "    <tr>\n",
              "      <th>Casenr</th>\n",
              "      <th></th>\n",
              "      <th></th>\n",
              "      <th></th>\n",
              "    </tr>\n",
              "  </thead>\n",
              "  <tbody>\n",
              "    <tr>\n",
              "      <th>1</th>\n",
              "      <td>32.0</td>\n",
              "      <td>35.0</td>\n",
              "      <td>50.5</td>\n",
              "    </tr>\n",
              "    <tr>\n",
              "      <th>2</th>\n",
              "      <td>26.0</td>\n",
              "      <td>47.0</td>\n",
              "      <td>71.0</td>\n",
              "    </tr>\n",
              "    <tr>\n",
              "      <th>3</th>\n",
              "      <td>91.0</td>\n",
              "      <td>83.5</td>\n",
              "      <td>77.0</td>\n",
              "    </tr>\n",
              "    <tr>\n",
              "      <th>4</th>\n",
              "      <td>59.0</td>\n",
              "      <td>54.0</td>\n",
              "      <td>64.0</td>\n",
              "    </tr>\n",
              "    <tr>\n",
              "      <th>5</th>\n",
              "      <td>60.0</td>\n",
              "      <td>68.0</td>\n",
              "      <td>21.0</td>\n",
              "    </tr>\n",
              "  </tbody>\n",
              "</table>\n",
              "</div>"
            ],
            "text/plain": [
              "Measurement  Measurement 1 (2003-2006)  ...  Measurement 3 (2008-2012)\n",
              "Casenr                                  ...                           \n",
              "1                                 32.0  ...                       50.5\n",
              "2                                 26.0  ...                       71.0\n",
              "3                                 91.0  ...                       77.0\n",
              "4                                 59.0  ...                       64.0\n",
              "5                                 60.0  ...                       21.0\n",
              "\n",
              "[5 rows x 3 columns]"
            ]
          },
          "metadata": {
            "tags": []
          },
          "execution_count": 112
        }
      ]
    },
    {
      "cell_type": "code",
      "metadata": {
        "id": "T-LC_vq61q3Y",
        "colab_type": "code",
        "colab": {
          "base_uri": "https://localhost:8080/",
          "height": 302
        },
        "outputId": "4b3bbbff-42e0-4395-e913-3bb38523adb7"
      },
      "source": [
        "plt.hist(data_pivot['Measurement 2 (2006-2008)'] - data_pivot['Measurement 3 (2008-2012)'])\n",
        "print(stats.describe(data_pivot['Measurement 2 (2006-2008)']-data_pivot['Measurement 3 (2008-2012)']))"
      ],
      "execution_count": 116,
      "outputs": [
        {
          "output_type": "stream",
          "text": [
            "DescribeResult(nobs=2515, minmax=(-68.5, 75.5), mean=-4.015506958250497, variance=342.2368318331855, skewness=0.15837265462838976, kurtosis=0.7823714353134701)\n"
          ],
          "name": "stdout"
        },
        {
          "output_type": "display_data",
          "data": {
            "image/png": "[encoded data removed]",
            "text/plain": [
              "<Figure size 432x288 with 1 Axes>"
            ]
          },
          "metadata": {
            "tags": []
          }
        }
      ]
    },
    {
      "cell_type": "code",
      "metadata": {
        "id": "uDwn5AiPuElO",
        "colab_type": "code",
        "colab": {
          "base_uri": "https://localhost:8080/",
          "height": 34
        },
        "outputId": "650af413-7df7-4ed2-a410-b5823e5fbfb4"
      },
      "source": [
        "stats.ttest_rel(data[data['Measurement'].str.match('Measurement 2')]['Unique'], data[data['Measurement'].str.match('Measurement 3')]['Unique'])"
      ],
      "execution_count": 100,
      "outputs": [
        {
          "output_type": "execute_result",
          "data": {
            "text/plain": [
              "Ttest_relResult(statistic=-10.88544039426271, pvalue=5.3585747477799544e-27)"
            ]
          },
          "metadata": {
            "tags": []
          },
          "execution_count": 100
        }
      ]
    },
    {
      "cell_type": "markdown",
      "metadata": {
        "id": "x0KczqiMvoqv",
        "colab_type": "text"
      },
      "source": [
        "P-value is extremely small. So, there is a significant difference between measurement 2 and 3."
      ]
    },
    {
      "cell_type": "markdown",
      "metadata": {
        "id": "BIoPExSM3BOL",
        "colab_type": "text"
      },
      "source": [
        "****Is there a significant difference in the number of perseverative errors drawn by the same participants from Measurement 2 to Measurement 3?****"
      ]
    },
    {
      "cell_type": "code",
      "metadata": {
        "id": "I8f99rPP3GLq",
        "colab_type": "code",
        "colab": {
          "base_uri": "https://localhost:8080/",
          "height": 235
        },
        "outputId": "2b18bb8c-7cdc-412d-fc0b-a61829b97a59"
      },
      "source": [
        "data_pivot = data.pivot(index='Casenr', columns='Measurement', values='Perseverative')\n",
        "data_pivot.head()"
      ],
      "execution_count": 117,
      "outputs": [
        {
          "output_type": "execute_result",
          "data": {
            "text/html": [
              "<div>\n",
              "<style scoped>\n",
              "    .dataframe tbody tr th:only-of-type {\n",
              "        vertical-align: middle;\n",
              "    }\n",
              "\n",
              "    .dataframe tbody tr th {\n",
              "        vertical-align: top;\n",
              "    }\n",
              "\n",
              "    .dataframe thead th {\n",
              "        text-align: right;\n",
              "    }\n",
              "</style>\n",
              "<table border=\"1\" class=\"dataframe\">\n",
              "  <thead>\n",
              "    <tr style=\"text-align: right;\">\n",
              "      <th>Measurement</th>\n",
              "      <th>Measurement 1 (2003-2006)</th>\n",
              "      <th>Measurement 2 (2006-2008)</th>\n",
              "      <th>Measurement 3 (2008-2012)</th>\n",
              "    </tr>\n",
              "    <tr>\n",
              "      <th>Casenr</th>\n",
              "      <th></th>\n",
              "      <th></th>\n",
              "      <th></th>\n",
              "    </tr>\n",
              "  </thead>\n",
              "  <tbody>\n",
              "    <tr>\n",
              "      <th>1</th>\n",
              "      <td>1.0</td>\n",
              "      <td>0.0</td>\n",
              "      <td>14.5</td>\n",
              "    </tr>\n",
              "    <tr>\n",
              "      <th>2</th>\n",
              "      <td>3.0</td>\n",
              "      <td>3.0</td>\n",
              "      <td>0.5</td>\n",
              "    </tr>\n",
              "    <tr>\n",
              "      <th>3</th>\n",
              "      <td>11.0</td>\n",
              "      <td>21.0</td>\n",
              "      <td>17.0</td>\n",
              "    </tr>\n",
              "    <tr>\n",
              "      <th>4</th>\n",
              "      <td>49.0</td>\n",
              "      <td>39.0</td>\n",
              "      <td>11.0</td>\n",
              "    </tr>\n",
              "    <tr>\n",
              "      <th>5</th>\n",
              "      <td>14.0</td>\n",
              "      <td>16.0</td>\n",
              "      <td>0.0</td>\n",
              "    </tr>\n",
              "  </tbody>\n",
              "</table>\n",
              "</div>"
            ],
            "text/plain": [
              "Measurement  Measurement 1 (2003-2006)  ...  Measurement 3 (2008-2012)\n",
              "Casenr                                  ...                           \n",
              "1                                  1.0  ...                       14.5\n",
              "2                                  3.0  ...                        0.5\n",
              "3                                 11.0  ...                       17.0\n",
              "4                                 49.0  ...                       11.0\n",
              "5                                 14.0  ...                        0.0\n",
              "\n",
              "[5 rows x 3 columns]"
            ]
          },
          "metadata": {
            "tags": []
          },
          "execution_count": 117
        }
      ]
    },
    {
      "cell_type": "markdown",
      "metadata": {
        "id": "RmjPaM3N3x94",
        "colab_type": "text"
      },
      "source": [
        "The dataset is non-normal. We need to use Wilcoxon test"
      ]
    },
    {
      "cell_type": "code",
      "metadata": {
        "id": "YacsmhEKwMZu",
        "colab_type": "code",
        "colab": {
          "base_uri": "https://localhost:8080/",
          "height": 350
        },
        "outputId": "a9d3b506-797c-41eb-847b-60b19b736b85"
      },
      "source": [
        "plt.hist(data_pivot['Measurement 3 (2008-2012)'], alpha = .5)\n",
        "plt.hist(data_pivot['Measurement 2 (2006-2008)'], alpha = .5)"
      ],
      "execution_count": 119,
      "outputs": [
        {
          "output_type": "execute_result",
          "data": {
            "text/plain": [
              "(array([1.821e+03, 4.560e+02, 1.210e+02, 5.200e+01, 2.800e+01, 1.600e+01,\n",
              "        1.300e+01, 3.000e+00, 4.000e+00, 1.000e+00]),\n",
              " array([  0.  ,  13.35,  26.7 ,  40.05,  53.4 ,  66.75,  80.1 ,  93.45,\n",
              "        106.8 , 120.15, 133.5 ]),\n",
              " <a list of 10 Patch objects>)"
            ]
          },
          "metadata": {
            "tags": []
          },
          "execution_count": 119
        },
        {
          "output_type": "display_data",
          "data": {
            "image/png": "[encoded data removed]",
            "text/plain": [
              "<Figure size 432x288 with 1 Axes>"
            ]
          },
          "metadata": {
            "tags": []
          }
        }
      ]
    },
    {
      "cell_type": "code",
      "metadata": {
        "id": "XI-7JxY64FZK",
        "colab_type": "code",
        "colab": {
          "base_uri": "https://localhost:8080/",
          "height": 34
        },
        "outputId": "d8e948d9-f69f-4da4-8e1f-e71130ea4843"
      },
      "source": [
        "stats.wilcoxon(data_pivot['Measurement 3 (2008-2012)'], data_pivot['Measurement 2 (2006-2008)'])"
      ],
      "execution_count": 121,
      "outputs": [
        {
          "output_type": "execute_result",
          "data": {
            "text/plain": [
              "WilcoxonResult(statistic=1358373.0, pvalue=0.0006927535563546565)"
            ]
          },
          "metadata": {
            "tags": []
          },
          "execution_count": 121
        }
      ]
    },
    {
      "cell_type": "markdown",
      "metadata": {
        "id": "UR6LIbgl4PNM",
        "colab_type": "text"
      },
      "source": [
        "There is a significant difference between two groups. We need the reject the null hypothesis"
      ]
    },
    {
      "cell_type": "code",
      "metadata": {
        "id": "Et3WN5zO4Kdk",
        "colab_type": "code",
        "colab": {}
      },
      "source": [
        ""
      ],
      "execution_count": 0,
      "outputs": []
    }
  ]
}