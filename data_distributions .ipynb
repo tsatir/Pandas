{
  "nbformat": 4,
  "nbformat_minor": 0,
  "metadata": {
    "kernelspec": {
      "display_name": "Python 3",
      "language": "python",
      "name": "python3"
    },
    "language_info": {
      "codemirror_mode": {
        "name": "ipython",
        "version": 3
      },
      "file_extension": ".py",
      "mimetype": "text/x-python",
      "name": "python",
      "nbconvert_exporter": "python",
      "pygments_lexer": "ipython3",
      "version": "3.7.3"
    },
    "colab": {
      "name": "thinkful_datadistributions.ipynb",
      "provenance": [],
      "collapsed_sections": []
    }
  },
  "cells": [
    {
      "cell_type": "code",
      "metadata": {
        "id": "6OoQMImuNooj",
        "colab_type": "code",
        "colab": {}
      },
      "source": [
        "import pandas as pd\n",
        "import numpy as np\n",
        "import matplotlib.pyplot as plt\n",
        "%matplotlib inline"
      ],
      "execution_count": 0,
      "outputs": []
    },
    {
      "cell_type": "markdown",
      "metadata": {
        "id": "Rj3BTgR8tNJd",
        "colab_type": "text"
      },
      "source": [
        "For each distribution:\n",
        "\n",
        "1.Generate a random variable with 100 datapoints using the code distributionvar = np.random.distributionname([arguments], 100), replacing distributionvar with an appropriate variable name and distributionname with the name of the distribution you’ve chosen, and filling in the empty space in the parentheses with your chosen values for the appropriate parameters. If you feel uncertain about how to do this, go back to the “Other Distributions” assignment for examples of code to use as a starting point.\n",
        "\n",
        "2.Graph the variable using a histogram.\n",
        "\n",
        "3.Compute the mean and standard deviation and plot them as vertical lines on the histogram.\n",
        "\n",
        "4.Evaluate whether the descriptive statistics provided useful information about the variable. Can you identify any common characteristics of the distributions that could be usefully described using the mean and/or standard deviation?"
      ]
    },
    {
      "cell_type": "code",
      "metadata": {
        "id": "M1S9cewcNopT",
        "colab_type": "code",
        "colab": {}
      },
      "source": [
        "#1.\n",
        "dist_normal = np.random.normal(50, 30, 1000)\n",
        "dist_normal.sort()"
      ],
      "execution_count": 0,
      "outputs": []
    },
    {
      "cell_type": "code",
      "metadata": {
        "id": "TR14cHD0Nopj",
        "colab_type": "code",
        "outputId": "c9707941-ede6-492e-e656-d3251216c06f",
        "colab": {
          "base_uri": "https://localhost:8080/",
          "height": 295
        }
      },
      "source": [
        "#2.\n",
        "plt.hist(dist_normal, color='c')\n",
        "\n",
        "# 3. Add a vertical line at one standard deviation above the mean.\n",
        "plt.axvline(dist_normal.mean(), color='b', linestyle='dashed', linewidth=2)\n",
        "\n",
        "# 3. Add a vertical line at one standard deviation above the mean.\n",
        "plt.axvline(dist_normal.std(), color='r', linestyle='dashed', linewidth=2)\n",
        "plt.title('Histogram')\n",
        "plt.xlabel('Random Data')\n",
        "plt.ylabel('Frequency')\n",
        "plt.show()"
      ],
      "execution_count": 0,
      "outputs": [
        {
          "output_type": "display_data",
          "data": {
            "image/png": "[encoded data removed]",
            "text/plain": [
              "<Figure size 432x288 with 1 Axes>"
            ]
          },
          "metadata": {
            "tags": []
          }
        }
      ]
    },
    {
      "cell_type": "code",
      "metadata": {
        "id": "zIRwCmkQNop8",
        "colab_type": "code",
        "colab": {}
      },
      "source": [
        "#Evaluate whether the descriptive statistics provided useful information about the variable. \n",
        "#Can you identify any common characteristics of the distributions that could be usefully \n",
        "#described using the mean and/or standard deviation?\n",
        "\n",
        "### ???????????????? ### "
      ],
      "execution_count": 0,
      "outputs": []
    },
    {
      "cell_type": "markdown",
      "metadata": {
        "id": "2iQn8H_itmwr",
        "colab_type": "text"
      },
      "source": [
        "1.Generate two normally-distributed variables, one with a mean of 5 and standard deviation of 0.5, and the other with a mean of 10 and a standard deviation of 1.\n",
        "\n",
        "2.Add them together to create a third variable.\n",
        "\n",
        "3.Graph the third variable using a histogram.\n",
        "\n",
        "4.Compute the mean and standard deviation and plot them as vertical lines on the histogram.\n",
        "\n",
        "5.Evaluate the descriptive statistics against the data."
      ]
    },
    {
      "cell_type": "code",
      "metadata": {
        "id": "rduoQJODNoqS",
        "colab_type": "code",
        "colab": {}
      },
      "source": [
        "#1. Generate two normally-distributed variables, one with a mean of 5 and standard deviation of 0.5, \n",
        "#and the other with a mean of 10 and a standard deviation of 1.\n",
        "\n",
        "norm1 = np.random.normal(5,.5,100)\n",
        "norm2 = np.random.normal(10,1,100)"
      ],
      "execution_count": 0,
      "outputs": []
    },
    {
      "cell_type": "code",
      "metadata": {
        "id": "keVaGxrPNoqk",
        "colab_type": "code",
        "colab": {}
      },
      "source": [
        "#2. Add them together to create a third variable.\n",
        "norm1.sort()\n",
        "norm2.sort()\n",
        "norm3 = norm1 + norm2"
      ],
      "execution_count": 0,
      "outputs": []
    },
    {
      "cell_type": "code",
      "metadata": {
        "id": "iWWPXKQBNoqz",
        "colab_type": "code",
        "outputId": "fb9a85a9-35ce-404e-a988-38ca857e995c",
        "colab": {
          "base_uri": "https://localhost:8080/",
          "height": 295
        }
      },
      "source": [
        "#3. Graph the third variable using a histogram\n",
        "norm3.sort()\n",
        "plt.hist(norm3, color='c')\n",
        "\n",
        "#4. Add a vertical line at one standard deviation above the mean.\n",
        "mean = norm3.mean()\n",
        "std = norm3.std()\n",
        "plt.axvline(x=mean, color='b')\n",
        "#plt.axvline(x=std, color='purple')\n",
        "\n",
        "#5. Evaluate the descriptive statistics against the data\n",
        "plt.axvline(x=mean+std, color='red')\n",
        "plt.axvline(x=mean-std, color='red')\n",
        "plt.title('Histogram')\n",
        "plt.xlabel('Random Data 3')\n",
        "plt.ylabel('Frequency')\n",
        "plt.show()"
      ],
      "execution_count": 0,
      "outputs": [
        {
          "output_type": "display_data",
          "data": {
            "image/png": "[encoded data removed]",
            "text/plain": [
              "<Figure size 432x288 with 1 Axes>"
            ]
          },
          "metadata": {
            "tags": []
          }
        }
      ]
    },
    {
      "cell_type": "code",
      "metadata": {
        "id": "NFpM9nszuFP4",
        "colab_type": "code",
        "colab": {}
      },
      "source": [
        "#5. Evaluate the descriptive statistics against the data\n",
        "#does this graph say something about descriptive statistics ? "
      ],
      "execution_count": 0,
      "outputs": []
    },
    {
      "cell_type": "code",
      "metadata": {
        "id": "axVqmDQkNorI",
        "colab_type": "code",
        "colab": {}
      },
      "source": [
        "norm = np.random.normal(0, 1, 100)"
      ],
      "execution_count": 0,
      "outputs": []
    },
    {
      "cell_type": "code",
      "metadata": {
        "id": "zRqPmYIlNora",
        "colab_type": "code",
        "colab": {}
      },
      "source": [
        "# Plotting the variable rand1 against norm in qqplots.\n",
        "plt.plot(norm, norm3, \"o\") \n",
        "plt.show() "
      ],
      "execution_count": 0,
      "outputs": []
    },
    {
      "cell_type": "code",
      "metadata": {
        "id": "lvi5WPCSLAR-",
        "colab_type": "code",
        "outputId": "565dde17-094b-4e62-84f0-77ebf780ff7a",
        "colab": {
          "base_uri": "https://localhost:8080/",
          "height": 279
        }
      },
      "source": [
        "import scipy.stats as stats\n",
        "import statsmodels.api as sm\n",
        "fig = sm.qqplot(norm3, stats.t, distargs=(4,))\n",
        "plt.show()"
      ],
      "execution_count": 0,
      "outputs": [
        {
          "output_type": "display_data",
          "data": {
            "image/png": "[encoded data removed]",
            "text/plain": [
              "<Figure size 432x288 with 1 Axes>"
            ]
          },
          "metadata": {
            "tags": []
          }
        }
      ]
    },
    {
      "cell_type": "code",
      "metadata": {
        "id": "tQo9VJNeVS1K",
        "colab_type": "code",
        "colab": {}
      },
      "source": [
        ""
      ],
      "execution_count": 0,
      "outputs": []
    }
  ]
}